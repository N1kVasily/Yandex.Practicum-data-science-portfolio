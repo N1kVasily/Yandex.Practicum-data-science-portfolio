{
 "cells": [
  {
   "cell_type": "markdown",
   "metadata": {},
   "source": [
    "# Модель классификации комментариев"
   ]
  },
  {
   "cell_type": "markdown",
   "metadata": {
    "toc": true
   },
   "source": [
    "<h1>Содержание<span class=\"tocSkip\"></span></h1>\n",
    "<div class=\"toc\"><ul class=\"toc-item\"><li><a href=\"#Подготовка\" data-toc-modified-id=\"Подготовка-1\"><span class=\"toc-item-num\">1&nbsp;&nbsp;</span>Подготовка</a></span></li><li><span><a href=\"#Обучение\" data-toc-modified-id=\"Обучение-2\"><span class=\"toc-item-num\">2&nbsp;&nbsp;</span>Обучение</a></span></li><li><span><a href=\"#Выводы\" data-toc-modified-id=\"Выводы-3\"><span class=\"toc-item-num\">3&nbsp;&nbsp;</span>Выводы</a></span></li></ul></div>"
   ]
  },
  {
   "cell_type": "markdown",
   "metadata": {},
   "source": [
    "## Подготовка"
   ]
  },
  {
   "cell_type": "code",
   "execution_count": 1,
   "metadata": {},
   "outputs": [
    {
     "name": "stderr",
     "output_type": "stream",
     "text": [
      "[nltk_data] Downloading package wordnet to\n",
      "[nltk_data]     /Users/nikvasily/nltk_data...\n",
      "[nltk_data]   Package wordnet is already up-to-date!\n",
      "[nltk_data] Downloading package stopwords to\n",
      "[nltk_data]     /Users/nikvasily/nltk_data...\n",
      "[nltk_data]   Package stopwords is already up-to-date!\n",
      "[nltk_data] Downloading package punkt to /Users/nikvasily/nltk_data...\n",
      "[nltk_data]   Package punkt is already up-to-date!\n"
     ]
    }
   ],
   "source": [
    "import pandas as pd\n",
    "import numpy as np\n",
    "\n",
    "from sklearn.metrics import f1_score\n",
    "from sklearn.metrics import accuracy_score\n",
    "\n",
    "from sklearn.model_selection import train_test_split\n",
    "from sklearn.utils import shuffle\n",
    "from sklearn.linear_model import LogisticRegression\n",
    "\n",
    "import re\n",
    "\n",
    "import nltk\n",
    "nltk.download('wordnet')\n",
    "nltk.download('stopwords')\n",
    "nltk.download('punkt')\n",
    "\n",
    "from nltk import word_tokenize, sent_tokenize\n",
    "from nltk.stem import WordNetLemmatizer\n",
    "from nltk.corpus import stopwords\n",
    "from sklearn.feature_extraction.text import CountVectorizer \n",
    "from sklearn.feature_extraction.text import TfidfVectorizer\n",
    "import warnings\n",
    "from catboost import CatBoostClassifier\n",
    "#import lightgbm as ltb\n",
    "from sklearn.ensemble import RandomForestClassifier\n",
    "\n",
    "warnings.filterwarnings('ignore')\n",
    "pd.options.mode.chained_assignment = None\n"
   ]
  },
  {
   "cell_type": "markdown",
   "metadata": {},
   "source": [
    "При подготовке комментариев к обучению проделаем следующие этапы:\n",
    "1. Очистка комментариев от системного и лишнего текста\n",
    "2. Лемматизация комментариев\n",
    "3. Создание признаков из коментариев по значениям TF-IDF\n",
    "\n",
    "Но для начала ознакомимся с данными:"
   ]
  },
  {
   "cell_type": "code",
   "execution_count": 2,
   "metadata": {
    "scrolled": true
   },
   "outputs": [
    {
     "name": "stdout",
     "output_type": "stream",
     "text": [
      "<class 'pandas.core.frame.DataFrame'>\n",
      "RangeIndex: 159571 entries, 0 to 159570\n",
      "Data columns (total 3 columns):\n",
      " #   Column      Non-Null Count   Dtype \n",
      "---  ------      --------------   ----- \n",
      " 0   Unnamed: 0  159571 non-null  int64 \n",
      " 1   text        159571 non-null  object\n",
      " 2   toxic       159571 non-null  int64 \n",
      "dtypes: int64(2), object(1)\n",
      "memory usage: 3.7+ MB\n",
      "None\n",
      "\n",
      "0     Explanation\\nWhy the edits made under my username Hardcore Metallica Fan were reverted? They weren't vandalisms, just closure on some GAs after I voted at New York Dolls FAC. And please don't remove the template from the talk page since I'm retired now.89.205.38.27                                                                                                                                                                                                                                                                                                                                                                                                                                                                                                                                                                                                                                                                                                                                                                                                                                                                                                                                                                                                                                                                                                                                                                                                                                                                                                                                                                                                                                                                                                                                                                                                                                                                                                                                                                                                                                                                                                                                                                                                                                                                                                                                                                                                                                                                                                                                                                                                                                                                                                                                                                                                                                                                                                                                \n",
      "1     D'aww! He matches this background colour I'm seemingly stuck with. Thanks.  (talk) 21:51, January 11, 2016 (UTC)                                                                                                                                                                                                                                                                                                                                                                                                                                                                                                                                                                                                                                                                                                                                                                                                                                                                                                                                                                                                                                                                                                                                                                                                                                                                                                                                                                                                                                                                                                                                                                                                                                                                                                                                                                                                                                                                                                                                                                                                                                                                                                                                                                                                                                                                                                                                                                                                                                                                                                                                                                                                                                                                                                                                                                                                                                                                                         \n",
      "2     Hey man, I'm really not trying to edit war. It's just that this guy is constantly removing relevant information and talking to me through edits instead of my talk page. He seems to care more about the formatting than the actual info.                                                                                                                                                                                                                                                                                                                                                                                                                                                                                                                                                                                                                                                                                                                                                                                                                                                                                                                                                                                                                                                                                                                                                                                                                                                                                                                                                                                                                                                                                                                                                                                                                                                                                                                                                                                                                                                                                                                                                                                                                                                                                                                                                                                                                                                                                                                                                                                                                                                                                                                                                                                                                                                                                                                                                                \n",
      "3     \"\\nMore\\nI can't make any real suggestions on improvement - I wondered if the section statistics should be later on, or a subsection of \"\"types of accidents\"\"  -I think the references may need tidying so that they are all in the exact same format ie date format etc. I can do that later on, if no-one else does first - if you have any preferences for formatting style on references or want to do it yourself please let me know.\\n\\nThere appears to be a backlog on articles for review so I guess there may be a delay until a reviewer turns up. It's listed in the relevant form eg Wikipedia:Good_article_nominations#Transport  \"                                                                                                                                                                                                                                                                                                                                                                                                                                                                                                                                                                                                                                                                                                                                                                                                                                                                                                                                                                                                                                                                                                                                                                                                                                                                                                                                                                                                                                                                                                                                                                                                                                                                                                                                                                                                                                                                                                                                                                                                                                                                                                                                                                                                                                                                                                                                                       \n",
      "4     You, sir, are my hero. Any chance you remember what page that's on?                                                                                                                                                                                                                                                                                                                                                                                                                                                                                                                                                                                                                                                                                                                                                                                                                                                                                                                                                                                                                                                                                                                                                                                                                                                                                                                                                                                                                                                                                                                                                                                                                                                                                                                                                                                                                                                                                                                                                                                                                                                                                                                                                                                                                                                                                                                                                                                                                                                                                                                                                                                                                                                                                                                                                                                                                                                                                                                                      \n",
      "5     \"\\n\\nCongratulations from me as well, use the tools well.  · talk \"                                                                                                                                                                                                                                                                                                                                                                                                                                                                                                                                                                                                                                                                                                                                                                                                                                                                                                                                                                                                                                                                                                                                                                                                                                                                                                                                                                                                                                                                                                                                                                                                                                                                                                                                                                                                                                                                                                                                                                                                                                                                                                                                                                                                                                                                                                                                                                                                                                                                                                                                                                                                                                                                                                                                                                                                                                                                                                                                      \n",
      "6     COCKSUCKER BEFORE YOU PISS AROUND ON MY WORK                                                                                                                                                                                                                                                                                                                                                                                                                                                                                                                                                                                                                                                                                                                                                                                                                                                                                                                                                                                                                                                                                                                                                                                                                                                                                                                                                                                                                                                                                                                                                                                                                                                                                                                                                                                                                                                                                                                                                                                                                                                                                                                                                                                                                                                                                                                                                                                                                                                                                                                                                                                                                                                                                                                                                                                                                                                                                                                                                             \n",
      "7     Your vandalism to the Matt Shirvington article has been reverted.  Please don't do it again, or you will be banned.                                                                                                                                                                                                                                                                                                                                                                                                                                                                                                                                                                                                                                                                                                                                                                                                                                                                                                                                                                                                                                                                                                                                                                                                                                                                                                                                                                                                                                                                                                                                                                                                                                                                                                                                                                                                                                                                                                                                                                                                                                                                                                                                                                                                                                                                                                                                                                                                                                                                                                                                                                                                                                                                                                                                                                                                                                                                                      \n",
      "8     Sorry if the word 'nonsense' was offensive to you. Anyway, I'm not intending to write anything in the article(wow they would jump on me for vandalism), I'm merely requesting that it be more encyclopedic so one can use it for school as a reference. I have been to the selective breeding page but it's almost a stub. It points to 'animal breeding' which is a short messy article that gives you no info. There must be someone around with expertise in eugenics? 93.161.107.169                                                                                                                                                                                                                                                                                                                                                                                                                                                                                                                                                                                                                                                                                                                                                                                                                                                                                                                                                                                                                                                                                                                                                                                                                                                                                                                                                                                                                                                                                                                                                                                                                                                                                                                                                                                                                                                                                                                                                                                                                                                                                                                                                                                                                                                                                                                                                                                                                                                                                                                 \n",
      "9     alignment on this subject and which are contrary to those of DuLithgow                                                                                                                                                                                                                                                                                                                                                                                                                                                                                                                                                                                                                                                                                                                                                                                                                                                                                                                                                                                                                                                                                                                                                                                                                                                                                                                                                                                                                                                                                                                                                                                                                                                                                                                                                                                                                                                                                                                                                                                                                                                                                                                                                                                                                                                                                                                                                                                                                                                                                                                                                                                                                                                                                                                                                                                                                                                                                                                                   \n",
      "10    \"\\nFair use rationale for Image:Wonju.jpg\\n\\nThanks for uploading Image:Wonju.jpg. I notice the image page specifies that the image is being used under fair use but there is no explanation or rationale as to why its use in Wikipedia articles constitutes fair use. In addition to the boilerplate fair use template, you must also write out on the image description page a specific explanation or rationale for why using this image in each article is consistent with fair use.\\n\\nPlease go to the image description page and edit it to include a fair use rationale.\\n\\nIf you have uploaded other fair use media, consider checking that you have specified the fair use rationale on those pages too. You can find a list of 'image' pages you have edited by clicking on the \"\"my contributions\"\" link (it is located at the very top of any Wikipedia page when you are logged in), and then selecting \"\"Image\"\" from the dropdown box. Note that any fair use images uploaded after 4 May, 2006, and lacking such an explanation will be deleted one week after they have been uploaded, as described on criteria for speedy deletion. If you have any questions please ask them at the Media copyright questions page. Thank you. (talk • contribs • ) \\nUnspecified source for Image:Wonju.jpg\\n\\nThanks for uploading Image:Wonju.jpg. I noticed that the file's description page currently doesn't specify who created the content, so the copyright status is unclear. If you did not create this file yourself, then you will need to specify the owner of the copyright. If you obtained it from a website, then a link to the website from which it was taken, together with a restatement of that website's terms of use of its content, is usually sufficient information. However, if the copyright holder is different from the website's publisher, then their copyright should also be acknowledged.\\n\\nAs well as adding the source, please add a proper copyright licensing tag if the file doesn't have one already. If you created/took the picture, audio, or video then the  tag can be used to release it under the GFDL. If you believe the media meets the criteria at Wikipedia:Fair use, use a tag such as  or one of the other tags listed at Wikipedia:Image copyright tags#Fair use. See Wikipedia:Image copyright tags for the full list of copyright tags that you can use.\\n\\nIf you have uploaded other files, consider checking that you have specified their source and tagged them, too. You can find a list of files you have uploaded by following [ this link]. Unsourced and untagged images may be deleted one week after they have been tagged, as described on criteria for speedy deletion. If the image is copyrighted under a non-free license (per Wikipedia:Fair use) then the image will be deleted 48 hours after . If you have any questions please ask them at the Media copyright questions page. Thank you. (talk • contribs • ) \"\n",
      "11    bbq \\n\\nbe a man and lets discuss it-maybe over the phone?                                                                                                                                                                                                                                                                                                                                                                                                                                                                                                                                                                                                                                                                                                                                                                                                                                                                                                                                                                                                                                                                                                                                                                                                                                                                                                                                                                                                                                                                                                                                                                                                                                                                                                                                                                                                                                                                                                                                                                                                                                                                                                                                                                                                                                                                                                                                                                                                                                                                                                                                                                                                                                                                                                                                                                                                                                                                                                                                               \n",
      "12    Hey... what is it..\\n@ | talk .\\nWhat is it... an exclusive group of some WP TALIBANS...who are good at destroying, self-appointed purist who GANG UP any one who asks them questions abt their ANTI-SOCIAL and DESTRUCTIVE (non)-contribution at WP?\\n\\nAsk Sityush to clean up his behavior than issue me nonsensical warnings...                                                                                                                                                                                                                                                                                                                                                                                                                                                                                                                                                                                                                                                                                                                                                                                                                                                                                                                                                                                                                                                                                                                                                                                                                                                                                                                                                                                                                                                                                                                                                                                                                                                                                                                                                                                                                                                                                                                                                                                                                                                                                                                                                                                                                                                                                                                                                                                                                                                                                                                                                                                                                                                                      \n",
      "13    Before you start throwing accusations and warnings at me, lets review the edit itself-making ad hominem attacks isn't going to strengthen your argument, it will merely make it look like you are abusing your power as an admin. \\nNow, the edit itself is relevant-this is probably the single most talked about event int he news as of late. His absence is notable, since he is the only living ex-president who did not attend. That's certainly more notable than his dedicating an aircracft carrier. \\nI intend to revert this edit, in hopes of attracting the attention of an admin that is willing to look at the issue itself, and not throw accusations around quite so liberally. Perhaps, if you achieve a level of civility where you can do this, we can have a rational discussion on the topic and resolve the matter peacefully.                                                                                                                                                                                                                                                                                                                                                                                                                                                                                                                                                                                                                                                                                                                                                                                                                                                                                                                                                                                                                                                                                                                                                                                                                                                                                                                                                                                                                                                                                                                                                                                                                                                                                                                                                                                                                                                                                                                                                                                                                                                                                                                                                    \n",
      "14    Oh, and the girl above started her arguments with me. She stuck her nose where it doesn't belong. I believe the argument was between me and Yvesnimmo. But like I said, the situation was settled and I apologized. Thanks,                                                                                                                                                                                                                                                                                                                                                                                                                                                                                                                                                                                                                                                                                                                                                                                                                                                                                                                                                                                                                                                                                                                                                                                                                                                                                                                                                                                                                                                                                                                                                                                                                                                                                                                                                                                                                                                                                                                                                                                                                                                                                                                                                                                                                                                                                                                                                                                                                                                                                                                                                                                                                                                                                                                                                                              \n",
      "15    \"\\n\\nJuelz Santanas Age\\n\\nIn 2002, Juelz Santana was 18 years old, then came February 18th, which makes Juelz turn 19 making songs with The Diplomats. The third neff to be signed to Cam's label under Roc A Fella. In 2003, he was 20 years old coming out with his own singles \"\"Santana's Town\"\" and \"\"Down\"\". So yes, he is born in 1983. He really is, how could he be older then Lloyd Banks? And how could he be 22 when his birthday passed? The homie neff is 23 years old. 1983 - 2006 (Juelz death, god forbid if your thinking about that) equals 23. Go to your caculator and stop changing his year of birth. My god.\"                                                                                                                                                                                                                                                                                                                                                                                                                                                                                                                                                                                                                                                                                                                                                                                                                                                                                                                                                                                                                                                                                                                                                                                                                                                                                                                                                                                                                                                                                                                                                                                                                                                                                                                                                                                                                                                                                                                                                                                                                                                                                                                                                                                                                                                                                                                                                                   \n",
      "16    Bye! \\n\\nDon't look, come or think of comming back! Tosser.                                                                                                                                                                                                                                                                                                                                                                                                                                                                                                                                                                                                                                                                                                                                                                                                                                                                                                                                                                                                                                                                                                                                                                                                                                                                                                                                                                                                                                                                                                                                                                                                                                                                                                                                                                                                                                                                                                                                                                                                                                                                                                                                                                                                                                                                                                                                                                                                                                                                                                                                                                                                                                                                                                                                                                                                                                                                                                                                              \n",
      "17    REDIRECT Talk:Voydan Pop Georgiev- Chernodrinski                                                                                                                                                                                                                                                                                                                                                                                                                                                                                                                                                                                                                                                                                                                                                                                                                                                                                                                                                                                                                                                                                                                                                                                                                                                                                                                                                                                                                                                                                                                                                                                                                                                                                                                                                                                                                                                                                                                                                                                                                                                                                                                                                                                                                                                                                                                                                                                                                                                                                                                                                                                                                                                                                                                                                                                                                                                                                                                                                         \n",
      "18    The Mitsurugi point made no sense - why not argue to include Hindi on Ryo Sakazaki's page to include more information?                                                                                                                                                                                                                                                                                                                                                                                                                                                                                                                                                                                                                                                                                                                                                                                                                                                                                                                                                                                                                                                                                                                                                                                                                                                                                                                                                                                                                                                                                                                                                                                                                                                                                                                                                                                                                                                                                                                                                                                                                                                                                                                                                                                                                                                                                                                                                                                                                                                                                                                                                                                                                                                                                                                                                                                                                                                                                   \n",
      "19    Don't mean to bother you \\n\\nI see that you're writing something regarding removing anything posted here and if you do oh well but if not and you can acctually discuss this with me then even better.\\n\\nI'd like to ask you to take a closer look at the Premature wrestling deaths catagory and the men listed in it, surely these men belong together in some catagory. Is there anything that you think we can do with the catagory besides delting it?                                                                                                                                                                                                                                                                                                                                                                                                                                                                                                                                                                                                                                                                                                                                                                                                                                                                                                                                                                                                                                                                                                                                                                                                                                                                                                                                                                                                                                                                                                                                                                                                                                                                                                                                                                                                                                                                                                                                                                                                                                                                                                                                                                                                                                                                                                                                                                                                                                                                                                                                             \n",
      "20    \"\\n\\n Regarding your recent edits \\n\\nOnce again, please read WP:FILMPLOT before editing any more film articles.  Your edits are simply not good, with entirely too many unnecessary details and very bad writing.  Please stop before you do further damage. -''''''The '45 \"                                                                                                                                                                                                                                                                                                                                                                                                                                                                                                                                                                                                                                                                                                                                                                                                                                                                                                                                                                                                                                                                                                                                                                                                                                                                                                                                                                                                                                                                                                                                                                                                                                                                                                                                                                                                                                                                                                                                                                                                                                                                                                                                                                                                                                                                                                                                                                                                                                                                                                                                                                                                                                                                                                                           \n",
      "21    \"\\nGood to know. About me, yeah, I'm studying now.(Deepu) \"                                                                                                                                                                                                                                                                                                                                                                                                                                                                                                                                                                                                                                                                                                                                                                                                                                                                                                                                                                                                                                                                                                                                                                                                                                                                                                                                                                                                                                                                                                                                                                                                                                                                                                                                                                                                                                                                                                                                                                                                                                                                                                                                                                                                                                                                                                                                                                                                                                                                                                                                                                                                                                                                                                                                                                                                                                                                                                                                              \n",
      "22    \"\\n\\n Snowflakes are NOT always symmetrical! \\n\\nUnder Geometry it is stated that \"\"A snowflake always has six symmetric arms.\"\" This assertion is simply not true! According to Kenneth Libbrecht, \"\"The rather unattractive irregular crystals are by far the most common variety.\"\" http://www.its.caltech.edu/~atomic/snowcrystals/myths/myths.htm#perfection Someone really need to take a look at his site and get FACTS off of it because I still see a decent number of falsities on this page. (forgive me Im new at this and dont want to edit anything)\"                                                                                                                                                                                                                                                                                                                                                                                                                                                                                                                                                                                                                                                                                                                                                                                                                                                                                                                                                                                                                                                                                                                                                                                                                                                                                                                                                                                                                                                                                                                                                                                                                                                                                                                                                                                                                                                                                                                                                                                                                                                                                                                                                                                                                                                                                                                                                                                                                                      \n",
      "23    \"\\n\\n The Signpost: 24 September 2012 \\n\\n Read this Signpost in full\\n Single-page\\n Unsubscribe\\n   \\n\"                                                                                                                                                                                                                                                                                                                                                                                                                                                                                                                                                                                                                                                                                                                                                                                                                                                                                                                                                                                                                                                                                                                                                                                                                                                                                                                                                                                                                                                                                                                                                                                                                                                                                                                                                                                                                                                                                                                                                                                                                                                                                                                                                                                                                                                                                                                                                                                                                                                                                                                                                                                                                                                                                                                                                                                                                                                                                                \n",
      "24    \"\\n\\nRe-considering 1st paragraph edit?\\nI don't understand the reasons for 's recent edit of this article  not that I'm sure that the data are necessarily \"\"wrong.\"\"  Rather, I'm persuaded that the strategy of introducing academic honors in the first paragraph is an unhelpful approach to this specific subject.  I note that articles about other sitting Justices have been similarly \"\"enhanced;\"\" and I also believe those changes are no improvement.  \\n\\nIn support of my view that this edit should be reverted, I would invite anyone to re-visit articles written about the following pairs of jurists.\\n A1. Benjamin Cardozo\\n A2. Learned Hand\\n\\n B1. John Marshall Harlan\\n B2. John Marshall Harlan II\\n\\nThe question becomes: Would the current version of the Wikipedia article about any one of them  or either pair  be improved by academic credentials in the introductory paragraph?  I think not.\\n\\nPerhaps it helps to repeat a wry argument Kathleen Sullivan of Stanford Law makes when she suggests that some on the Harvard Law faculty wonder how Antonin Scalia avoided learning what others have managed to grasp about the processes of judging?  I would hope this anecdote gently illustrates the point. \\n\\nLess humorous, but an even stronger argument is the one Clarence Thomas makes when he mentions wanting to return his law degree to Yale.\\n\\nAt a minimum, I'm questioning this edit?  It deserves to be reconsidered.   \"                                                                                                                                                                                                                                                                                                                                                                                                                                                                                                                                                                                                                                                                                                                                                                                                                                                                                                                                                                                                                                                                                                                                                                                                                                                                                                                                                                                                                                                                                                                      \n",
      "25    Radial symmetry \\n\\nSeveral now extinct lineages included in the Echinodermata were bilateral such as Homostelea, or even asymmetrical such as Cothurnocystis (Stylophora).\\n\\n-                                                                                                                                                                                                                                                                                                                                                                                                                                                                                                                                                                                                                                                                                                                                                                                                                                                                                                                                                                                                                                                                                                                                                                                                                                                                                                                                                                                                                                                                                                                                                                                                                                                                                                                                                                                                                                                                                                                                                                                                                                                                                                                                                                                                                                                                                                                                                                                                                                                                                                                                                                                                                                                                                                                                                                                                                         \n",
      "26    There's no need to apologize. A Wikipedia article is made for reconciling knowledge about a subject from different sources, and you've done history studies and not archaeology studies, I guess. I could scan the page, e-mail it to you, and then you could ask someone to translate the page.                                                                                                                                                                                                                                                                                                                                                                                                                                                                                                                                                                                                                                                                                                                                                                                                                                                                                                                                                                                                                                                                                                                                                                                                                                                                                                                                                                                                                                                                                                                                                                                                                                                                                                                                                                                                                                                                                                                                                                                                                                                                                                                                                                                                                                                                                                                                                                                                                                                                                                                                                                                                                                                                                                         \n",
      "27    Yes, because the mother of the child in the case against Michael Jackson was studied in here motives and reasonings and judged upon her character just as harshly as Wacko Jacko himself.  Don't tell me to ignore it and incriminate myself.  I am going to continue refuting the bullshit that Jayjg keeps throwing at me.   18:01, 16 Jun 2005 (UTC)                                                                                                                                                                                                                                                                                                                                                                                                                                                                                                                                                                                                                                                                                                                                                                                                                                                                                                                                                                                                                                                                                                                                                                                                                                                                                                                                                                                                                                                                                                                                                                                                                                                                                                                                                                                                                                                                                                                                                                                                                                                                                                                                                                                                                                                                                                                                                                                                                                                                                                                                                                                                                                                  \n",
      "28    \"\\nOk. But it will take a bit of work but I can't quite picture it. Do you have an example I can base it on?  the Duck \"                                                                                                                                                                                                                                                                                                                                                                                                                                                                                                                                                                                                                                                                                                                                                                                                                                                                                                                                                                                                                                                                                                                                                                                                                                                                                                                                                                                                                                                                                                                                                                                                                                                                                                                                                                                                                                                                                                                                                                                                                                                                                                                                                                                                                                                                                                                                                                                                                                                                                                                                                                                                                                                                                                                                                                                                                                                                                 \n",
      "29    \"== A barnstar for you! ==\\n\\n  The Real Life Barnstar lets us be the stars\\n   \"                                                                                                                                                                                                                                                                                                                                                                                                                                                                                                                                                                                                                                                                                                                                                                                                                                                                                                                                                                                                                                                                                                                                                                                                                                                                                                                                                                                                                                                                                                                                                                                                                                                                                                                                                                                                                                                                                                                                                                                                                                                                                                                                                                                                                                                                                                                                                                                                                                                                                                                                                                                                                                                                                                                                                                                                                                                                                                                        \n",
      "Name: text, dtype: object\n",
      "\n",
      "0    0\n",
      "1    0\n",
      "2    0\n",
      "3    0\n",
      "4    0\n",
      "Name: toxic, dtype: int64\n"
     ]
    }
   ],
   "source": [
    "pd.set_option('display.max_colwidth', -1)\n",
    "data = pd.read_csv(\"toxic_comments.csv\")\n",
    "\n",
    "print(data.info())\n",
    "print()\n",
    "\n",
    "print(data['text'].head(30))\n",
    "print()\n",
    "\n",
    "print(data['toxic'].head())"
   ]
  },
  {
   "cell_type": "markdown",
   "metadata": {},
   "source": [
    "Просмотрев первые 10 постов, замечаем следующие недостатки для устранения перед обучением:\n",
    "1. Переносы строк \"\\n\" нам явно не помошники, нужно будет избавиться от них переводом в юникод +\n",
    "2. Встречаются подобные значения в конце постов: \"89.205.38.27\". Похоже на номер пользователя или IP-адрес? Пользы для оценки токсичности они явно не несут, уберутся оставив только буквы. +\n",
    "3. Встречаются даты в конце постов: \"21:51, January 11, 2016 (UTC)\". Дата нам тоже явно не поможет.. придумаем для нее специальный шаблон. +\n",
    "4. Встречаются подобные значения (talk) +\n",
    "5. Тексты могут быть внесены в кавычки, от них также избавимся оставив только буквы. +\n",
    "6. Есть сноски на статьи, но их названия также могут помочь в определении токсичности, заменим только _ на пробелы: \"Wikipedia:Good_article_nominations#Transport\"     \n",
    "7. \"· talk \"   \" +\n",
    "8. \"Image:Wonju.jpg\" - лишние фотографии  \"Unspecified source for Image:Wonju.jpg\" +\n",
    "9. \"• contribs • \" - похоже на смайлики +\n",
    "10. Ненормативная лексика.. \n"
   ]
  },
  {
   "cell_type": "markdown",
   "metadata": {},
   "source": [
    "В следующем блоке кода написана функция по очистке текста с помощью re.sub в соответствии с выявленными в комментариях \"лишними\" словосочетаниями, датами и т.п. "
   ]
  },
  {
   "cell_type": "code",
   "execution_count": 3,
   "metadata": {},
   "outputs": [
    {
     "name": "stdout",
     "output_type": "stream",
     "text": [
      "D'aww! He matches this background colour I'm seemingly stuck with. Thanks.  (talk) 21:51, January 11, 2016 (UTC)\n",
      "\n",
      "d aww he matches this background colour i m seemingly stuck with thanks\n"
     ]
    }
   ],
   "source": [
    "def clear_text(text):\n",
    "    t = re.sub(r'[\\d\\d]+[:]+[\\d\\d]+[,]+[ ]+[0-9a-zA-Z]+[ ]+[0-9a-zA-Z]+[,| ]+', ' ', text.lower())\n",
    "    t = re.sub(r'[(]+[a-zA-Z0-9• ]+[)]', ' ', t)\n",
    "    t = re.sub(r'[·•]+[ ]+[a-zA-Z0-9]+[ ]+', ' ', t)\n",
    "    t = re.sub(r'[Image]+[:]+[a-zA-Z0-9]+[.]+[jpg]+', ' ', t)\n",
    "    t = re.sub(r'[_·•]', ' ', t)\n",
    "    t = re.sub(r'[^a-zA-Z ]', ' ', t)   \n",
    "    return \" \".join(t.split())\n",
    "\n",
    "#проверка\n",
    "print(data['text'][1])\n",
    "print()\n",
    "print(clear_text(data['text'][1]))\n"
   ]
  },
  {
   "cell_type": "markdown",
   "metadata": {},
   "source": [
    "Добавим теперь столбец с очищенными комментариями"
   ]
  },
  {
   "cell_type": "code",
   "execution_count": 4,
   "metadata": {},
   "outputs": [
    {
     "name": "stdout",
     "output_type": "stream",
     "text": [
      "0    explanation why the edits made under my username hardcore metallica fan were reverted they weren t vandalisms just closure on some gas after i voted at new york dolls fac and please don t remove the template from the talk page since i m retired now                                                                                                                                                                                                                                                                                                                                                                 \n",
      "1    d aww he matches this background colour i m seemingly stuck with thanks                                                                                                                                                                                                                                                                                                                                                                                                                                                                                                                                                  \n",
      "2    hey man i m really not trying to edit war it s just that this guy is constantly removing relevant information and talking to me through edits instead of my talk page he seems to care more about the formatting than the actual info                                                                                                                                                                                                                                                                                                                                                                                    \n",
      "3    more i can t make any real suggestions on improvement i wondered if the section statistics should be later on or a subsection of types of accidents i think the references may need tidying so that they are all in the exact same format ie date format etc i can do that later on if no one else does first if you have any preferences for formatting style on references or want to do it yourself please let me know there appears to be a backlog on articles for review so i guess there may be a delay until a reviewer turns up it s listed in the relevant form eg wikipedia good article nominations transport\n",
      "4    you sir are my hero any chance you remember what page that s on                                                                                                                                                                                                                                                                                                                                                                                                                                                                                                                                                          \n",
      "Name: clear_text, dtype: object\n"
     ]
    }
   ],
   "source": [
    "#corpus = data['text'].values.astype('U')\n",
    "\n",
    "data['clear_text'] = data['text'].apply(lambda x: clear_text(x))\n",
    "#проверка\n",
    "print(data['clear_text'].head())"
   ]
  },
  {
   "cell_type": "markdown",
   "metadata": {},
   "source": [
    "Перейдем к лемматизации, применим библиотеку nltk WordNetLemmatizer, лемматизировать будем по отдельным словам:"
   ]
  },
  {
   "cell_type": "code",
   "execution_count": 5,
   "metadata": {
    "scrolled": false
   },
   "outputs": [
    {
     "name": "stdout",
     "output_type": "stream",
     "text": [
      "   Unnamed: 0  \\\n",
      "0  0            \n",
      "1  1            \n",
      "2  2            \n",
      "3  3            \n",
      "4  4            \n",
      "\n",
      "                                                                                                                                                                                                                                                                                                                                                                                                                                                                                                                                                                                                                                                 text  \\\n",
      "0  Explanation\\nWhy the edits made under my username Hardcore Metallica Fan were reverted? They weren't vandalisms, just closure on some GAs after I voted at New York Dolls FAC. And please don't remove the template from the talk page since I'm retired now.89.205.38.27                                                                                                                                                                                                                                                                                                                                                                            \n",
      "1  D'aww! He matches this background colour I'm seemingly stuck with. Thanks.  (talk) 21:51, January 11, 2016 (UTC)                                                                                                                                                                                                                                                                                                                                                                                                                                                                                                                                     \n",
      "2  Hey man, I'm really not trying to edit war. It's just that this guy is constantly removing relevant information and talking to me through edits instead of my talk page. He seems to care more about the formatting than the actual info.                                                                                                                                                                                                                                                                                                                                                                                                            \n",
      "3  \"\\nMore\\nI can't make any real suggestions on improvement - I wondered if the section statistics should be later on, or a subsection of \"\"types of accidents\"\"  -I think the references may need tidying so that they are all in the exact same format ie date format etc. I can do that later on, if no-one else does first - if you have any preferences for formatting style on references or want to do it yourself please let me know.\\n\\nThere appears to be a backlog on articles for review so I guess there may be a delay until a reviewer turns up. It's listed in the relevant form eg Wikipedia:Good_article_nominations#Transport  \"   \n",
      "4  You, sir, are my hero. Any chance you remember what page that's on?                                                                                                                                                                                                                                                                                                                                                                                                                                                                                                                                                                                  \n",
      "\n",
      "   toxic  \\\n",
      "0  0       \n",
      "1  0       \n",
      "2  0       \n",
      "3  0       \n",
      "4  0       \n",
      "\n",
      "                                                                                                                                                                                                                                                                                                                                                                                                                                                                                                                                                                                                                  clear_text  \\\n",
      "0  explanation why the edits made under my username hardcore metallica fan were reverted they weren t vandalisms just closure on some gas after i voted at new york dolls fac and please don t remove the template from the talk page since i m retired now                                                                                                                                                                                                                                                                                                                                                                    \n",
      "1  d aww he matches this background colour i m seemingly stuck with thanks                                                                                                                                                                                                                                                                                                                                                                                                                                                                                                                                                     \n",
      "2  hey man i m really not trying to edit war it s just that this guy is constantly removing relevant information and talking to me through edits instead of my talk page he seems to care more about the formatting than the actual info                                                                                                                                                                                                                                                                                                                                                                                       \n",
      "3  more i can t make any real suggestions on improvement i wondered if the section statistics should be later on or a subsection of types of accidents i think the references may need tidying so that they are all in the exact same format ie date format etc i can do that later on if no one else does first if you have any preferences for formatting style on references or want to do it yourself please let me know there appears to be a backlog on articles for review so i guess there may be a delay until a reviewer turns up it s listed in the relevant form eg wikipedia good article nominations transport   \n",
      "4  you sir are my hero any chance you remember what page that s on                                                                                                                                                                                                                                                                                                                                                                                                                                                                                                                                                             \n",
      "\n",
      "                                                                                                                                                                                                                                                                                                                                                                                                                                                                                                                                                                                                        lemm_text  \n",
      "0  explanation why the edits made under my username hardcore metallica fan were reverted they weren t vandalism just closure on some gas after i voted at new york doll fac and please don t remove the template from the talk page since i m retired now                                                                                                                                                                                                                                                                                                                                                          \n",
      "1  d aww he match this background colour i m seemingly stuck with thanks                                                                                                                                                                                                                                                                                                                                                                                                                                                                                                                                           \n",
      "2  hey man i m really not trying to edit war it s just that this guy is constantly removing relevant information and talking to me through edits instead of my talk page he seems to care more about the formatting than the actual info                                                                                                                                                                                                                                                                                                                                                                           \n",
      "3  more i can t make any real suggestion on improvement i wondered if the section statistic should be later on or a subsection of type of accident i think the reference may need tidying so that they are all in the exact same format ie date format etc i can do that later on if no one else doe first if you have any preference for formatting style on reference or want to do it yourself please let me know there appears to be a backlog on article for review so i guess there may be a delay until a reviewer turn up it s listed in the relevant form eg wikipedia good article nomination transport  \n",
      "4  you sir are my hero any chance you remember what page that s on                                                                                                                                                                                                                                                                                                                                                                                                                                                                                                                                                 \n"
     ]
    }
   ],
   "source": [
    "lemmatizer = WordNetLemmatizer()\n",
    "\n",
    "def lemmatizing(text):\n",
    "    word_list = nltk.word_tokenize(text)\n",
    "    return ' '.join([lemmatizer.lemmatize(w) for w in word_list])\n",
    "\n",
    "\n",
    "data['lemm_text'] = data['clear_text'].apply(lambda x: lemmatizing(x))\n",
    "\n",
    "#проверка\n",
    "print(data.head())"
   ]
  },
  {
   "cell_type": "markdown",
   "metadata": {},
   "source": [
    "Лемматизация проведена, пора создавать признаки по TF-IDF"
   ]
  },
  {
   "cell_type": "code",
   "execution_count": 6,
   "metadata": {},
   "outputs": [
    {
     "name": "stdout",
     "output_type": "stream",
     "text": [
      "(138826,)\n",
      "(20745,)\n",
      "(138826,)\n",
      "(20745,)\n"
     ]
    }
   ],
   "source": [
    "\n",
    "features = data['lemm_text']\n",
    "target = data['toxic']\n",
    "\n",
    "features_train, features_test, target_train, target_test = train_test_split(features, target, test_size = 0.13, random_state = 123)\n",
    "print(features_train.shape)\n",
    "print(features_test.shape)\n",
    "print(target_train.shape)\n",
    "print(target_test.shape)\n",
    "#print(features_train.head(5))\n",
    "\n",
    "corpus = list(features_train)\n",
    "#nltk.download('stopwords')\n",
    "stop_words = set(stopwords.words('english'))\n",
    "\n",
    "count_tf_idf = TfidfVectorizer(stop_words = stop_words)\n",
    "features_train = count_tf_idf.fit_transform(corpus)\n",
    "\n"
   ]
  },
  {
   "cell_type": "markdown",
   "metadata": {},
   "source": [
    "## Обучение"
   ]
  },
  {
   "cell_type": "markdown",
   "metadata": {},
   "source": [
    "Перейдем к обучению и тестированию модели Логистической регрессии:"
   ]
  },
  {
   "cell_type": "code",
   "execution_count": 7,
   "metadata": {
    "scrolled": true
   },
   "outputs": [
    {
     "name": "stdout",
     "output_type": "stream",
     "text": [
      "Значение метрики F1 на тестовой выборке составило: 0.7526439482961222\n",
      "CPU times: user 5.17 s, sys: 6.34 s, total: 11.5 s\n",
      "Wall time: 3.29 s\n"
     ]
    }
   ],
   "source": [
    "%%time\n",
    "model = LogisticRegression()\n",
    "\n",
    "#print()\n",
    "#print(features_train)\n",
    "model.fit(features_train, target_train)\n",
    "\n",
    "corpus_test = list(features_test)\n",
    "features_test = count_tf_idf.transform(corpus_test)\n",
    "\n",
    "predictions = model.predict(features_test)\n",
    "print('Значение метрики F1 на тестовой выборке составило:', f1_score(target_test, predictions))"
   ]
  },
  {
   "cell_type": "markdown",
   "metadata": {},
   "source": [
    "Моделью логистической регрессии получилось достичь требуемого значения метрики F1, перейдем теперь к случайному лесу:"
   ]
  },
  {
   "cell_type": "code",
   "execution_count": 8,
   "metadata": {},
   "outputs": [
    {
     "name": "stdout",
     "output_type": "stream",
     "text": [
      "Значение метрики F1 на тестовой выборке составило: 0.700797057020233\n",
      "CPU times: user 4min 43s, sys: 496 ms, total: 4min 44s\n",
      "Wall time: 4min 44s\n"
     ]
    }
   ],
   "source": [
    "%%time\n",
    "\n",
    "model_rf = RandomForestClassifier(random_state = 12345)\n",
    "model_rf.fit(features_train, target_train)\n",
    "\n",
    "rf_predictions = model_rf.predict(features_test)\n",
    "print('Значение метрики F1 на тестовой выборке составило:', f1_score(target_test, rf_predictions))"
   ]
  },
  {
   "cell_type": "markdown",
   "metadata": {},
   "source": [
    "Случайный лес не позволил увеличить значение метрики, а скорее слабо себя показал (впервые в проектах), значение метрики более чем на 5% ниже (0.7).\n",
    "Теперь попробуем CatBoost"
   ]
  },
  {
   "cell_type": "code",
   "execution_count": 9,
   "metadata": {},
   "outputs": [
    {
     "name": "stdout",
     "output_type": "stream",
     "text": [
      "Learning rate set to 0.5\n",
      "0:\tlearn: 0.3944136\ttotal: 779ms\tremaining: 1m 17s\n",
      "20:\tlearn: 0.6757520\ttotal: 7.48s\tremaining: 28.1s\n",
      "40:\tlearn: 0.7236159\ttotal: 14s\tremaining: 20.1s\n",
      "60:\tlearn: 0.7488175\ttotal: 20.4s\tremaining: 13s\n",
      "80:\tlearn: 0.7593499\ttotal: 26.8s\tremaining: 6.28s\n",
      "99:\tlearn: 0.7735192\ttotal: 33s\tremaining: 0us\n"
     ]
    },
    {
     "data": {
      "text/plain": [
       "<catboost.core.CatBoostClassifier at 0x14b8144c0>"
      ]
     },
     "execution_count": 9,
     "metadata": {},
     "output_type": "execute_result"
    }
   ],
   "source": [
    "features = data['lemm_text']\n",
    "target = data['toxic']\n",
    "\n",
    "features_train, features_test, target_train, target_test = train_test_split(features, target, test_size = 0.13, random_state = 123)\n",
    "\n",
    "corpus = list(features_train)\n",
    "\n",
    "count_tf_idf = TfidfVectorizer(stop_words = stop_words)\n",
    "features_train = count_tf_idf.fit_transform(corpus)\n",
    "\n",
    "model_cb = CatBoostClassifier(eval_metric=\"F1\", depth = 6, iterations = 100, random_seed = 12345)\n",
    "model_cb.fit(features_train, target_train, verbose=20) \n"
   ]
  },
  {
   "cell_type": "code",
   "execution_count": 10,
   "metadata": {},
   "outputs": [
    {
     "name": "stdout",
     "output_type": "stream",
     "text": [
      "Значение метрики F1 на тестовой выборке составило: 0.7612024957458876\n"
     ]
    }
   ],
   "source": [
    "corpus_test = list(features_test)\n",
    "features_test = count_tf_idf.transform(corpus_test)\n",
    "\n",
    "cb_predictions = model_cb.predict(features_test)\n",
    "print('Значение метрики F1 на тестовой выборке составило:', f1_score(target_test, cb_predictions))"
   ]
  },
  {
   "cell_type": "markdown",
   "metadata": {},
   "source": [
    "CatBoost даже на легких случайных параметрах (хоть и при 10ти минутном обучении), выдал значение метрики в 0,76. Попробуем еще немного улучшить качество работы логистической регрессии, уж больно быстро она обучается по сравнению с другими моделями. Для этого в TF-IDF Vectorizer попробуем передать не униграммы, а униграммы и биграммы:"
   ]
  },
  {
   "cell_type": "code",
   "execution_count": 11,
   "metadata": {},
   "outputs": [],
   "source": [
    "#features = data['lemm_text']\n",
    "#target = data['toxic']\n",
    "\n",
    "#features_train, features_test, target_train, target_test = train_test_split(features, target, test_size = 0.13, random_state = 123)\n",
    "\n",
    "#corpus = list(features_train)\n",
    "\n",
    "#count_tf_idf2 = TfidfVectorizer(stop_words = stop_words, ngram_range=(1,2))\n",
    "#features_train2 = count_tf_idf2.fit_transform(corpus)"
   ]
  },
  {
   "cell_type": "markdown",
   "metadata": {},
   "source": [
    "На данном этапе ядро отваливается.. Поскольку все же интересно, дают ли прирост включение биграмм, попробуем из всего датасета взять всего 10000 строк и прогнать на них модели."
   ]
  },
  {
   "cell_type": "code",
   "execution_count": 12,
   "metadata": {},
   "outputs": [],
   "source": [
    "comments = data.sample(10000).reset_index(drop=True)"
   ]
  },
  {
   "cell_type": "code",
   "execution_count": 13,
   "metadata": {},
   "outputs": [
    {
     "name": "stdout",
     "output_type": "stream",
     "text": [
      "Значение метрики F1 на тестовой выборке составило: 0.5035460992907801\n"
     ]
    }
   ],
   "source": [
    "features = comments['lemm_text']\n",
    "target = comments['toxic']\n",
    "\n",
    "features_train, features_test, target_train, target_test = train_test_split(features, target, test_size = 0.2, random_state = 123)\n",
    "\n",
    "corpus = list(features_train)\n",
    "count_tf_idf = TfidfVectorizer(stop_words = stop_words)\n",
    "features_train = count_tf_idf.fit_transform(corpus)\n",
    "\n",
    "model = LogisticRegression()\n",
    "\n",
    "model.fit(features_train, target_train)\n",
    "\n",
    "corpus_test = list(features_test)\n",
    "features_test = count_tf_idf.transform(corpus_test)\n",
    "\n",
    "predictions = model.predict(features_test)\n",
    "print('Значение метрики F1 на тестовой выборке составило:', f1_score(target_test, predictions))"
   ]
  },
  {
   "cell_type": "markdown",
   "metadata": {},
   "source": [
    "Для начала на сокращенном датасете оценим значение метрики на униграммах: \n",
    "- Значение метрики F1 на тестовой выборке составило: 0.41\n",
    "\n",
    "Не густо, но само значение нам нужно для сравнения"
   ]
  },
  {
   "cell_type": "code",
   "execution_count": 14,
   "metadata": {},
   "outputs": [
    {
     "name": "stdout",
     "output_type": "stream",
     "text": [
      "Значение метрики F1 на тестовой выборке составило: 0.028169014084507043\n"
     ]
    }
   ],
   "source": [
    "features = comments['lemm_text']\n",
    "target = comments['toxic']\n",
    "\n",
    "features_train, features_test, target_train, target_test = train_test_split(features, target, test_size = 0.2, random_state = 123)\n",
    "corpus = list(features_train)\n",
    "count_tf_idf = TfidfVectorizer(stop_words = stop_words, ngram_range = (2,2))\n",
    "features_train = count_tf_idf.fit_transform(corpus)\n",
    "\n",
    "model = LogisticRegression()\n",
    "\n",
    "model.fit(features_train, target_train)\n",
    "\n",
    "corpus_test = list(features_test)\n",
    "features_test = count_tf_idf.transform(corpus_test)\n",
    "\n",
    "predictions = model.predict(features_test)\n",
    "print('Значение метрики F1 на тестовой выборке составило:', f1_score(target_test, predictions))"
   ]
  },
  {
   "cell_type": "markdown",
   "metadata": {},
   "source": [
    "Добавив к униграммам биграммы, получаем следующий результат:\n",
    "- Значение метрики F1 на тестовой выборке составило: 0.33\n",
    "\n",
    "Только с биграммами:\n",
    "- Значение метрики F1 на тестовой выборке составило: 0.01\n",
    "\n",
    "униграммы, биграммы и триграммы:\n",
    "- Значение метрики F1 на тестовой выборке составило: 0.29\n",
    "\n",
    "еще и 4-ч и 5-ти граммы:\n",
    "- Значение метрики F1 на тестовой выборке составило: 0.25\n",
    "\n",
    "Делаем вывод о том, что по крайней мере на сокращенном датасете добавление к униграммам биграмм, триграмм и так далее только снижает качество работы модели Лоистической регрессии. Могу предположить, что биграммы и граммы высшего порядка повторяются существенно реже и только забирают на себя вес коэффициентов логистической регрессии не приводя у улучшению качества модели. Вполне вероятно, что добавление биграмм, триграмм и т.д. становится осмысленным на существенно больших датасетах..\n"
   ]
  },
  {
   "cell_type": "code",
   "execution_count": 15,
   "metadata": {},
   "outputs": [],
   "source": [
    "columns = ['Значение F1 обученной модели', 'Время обучения модели, мин']\n",
    "resdata = [\n",
    "    [0.752, 0.2],\n",
    "    [0.652, 1.4],\n",
    "    [0.766, 8.5]]\n",
    "\n",
    "lists = ['Логистическая регрессия','Случайный лес','CatBoost']\n",
    "\n",
    "resshow = pd.DataFrame(data = resdata, columns = columns, index = lists)"
   ]
  },
  {
   "cell_type": "markdown",
   "metadata": {},
   "source": [
    "## Выводы"
   ]
  },
  {
   "cell_type": "markdown",
   "metadata": {},
   "source": [
    "Для построения моделей использован датасет с комментариями относительно товаров интернет-магазина \"Викишоп\", всего приведено более 150 тысяч комментариев с разметкой о их \"токсичности\".\n",
    "\n",
    "Для выполнения проекта выполнены следующие этапы:\n",
    "- Очистка комментариев от системных сообщений, даты, названий вложенных изображений, смайликов и других \"помех\"\n",
    "- Лемматизация текста с помощью библиотеки NLTK\n",
    "- Векторизация комментариев для создания признаков с помощью TF-IDF\n",
    "\n",
    "Были испробованы 3 модели, логистическая регрессия, случайный лес и CatBoost. Достигнутые значения метрики F1 на тестовой выборке и время обучения моделей приведены в таблице ниже:"
   ]
  },
  {
   "cell_type": "code",
   "execution_count": 16,
   "metadata": {},
   "outputs": [
    {
     "data": {
      "text/html": [
       "<div>\n",
       "<style scoped>\n",
       "    .dataframe tbody tr th:only-of-type {\n",
       "        vertical-align: middle;\n",
       "    }\n",
       "\n",
       "    .dataframe tbody tr th {\n",
       "        vertical-align: top;\n",
       "    }\n",
       "\n",
       "    .dataframe thead th {\n",
       "        text-align: right;\n",
       "    }\n",
       "</style>\n",
       "<table border=\"1\" class=\"dataframe\">\n",
       "  <thead>\n",
       "    <tr style=\"text-align: right;\">\n",
       "      <th></th>\n",
       "      <th>Значение F1 обученной модели</th>\n",
       "      <th>Время обучения модели, мин</th>\n",
       "    </tr>\n",
       "  </thead>\n",
       "  <tbody>\n",
       "    <tr>\n",
       "      <th>Логистическая регрессия</th>\n",
       "      <td>0.752</td>\n",
       "      <td>0.2</td>\n",
       "    </tr>\n",
       "    <tr>\n",
       "      <th>Случайный лес</th>\n",
       "      <td>0.652</td>\n",
       "      <td>1.4</td>\n",
       "    </tr>\n",
       "    <tr>\n",
       "      <th>CatBoost</th>\n",
       "      <td>0.766</td>\n",
       "      <td>8.5</td>\n",
       "    </tr>\n",
       "  </tbody>\n",
       "</table>\n",
       "</div>"
      ],
      "text/plain": [
       "                         Значение F1 обученной модели  \\\n",
       "Логистическая регрессия  0.752                          \n",
       "Случайный лес            0.652                          \n",
       "CatBoost                 0.766                          \n",
       "\n",
       "                         Время обучения модели, мин  \n",
       "Логистическая регрессия  0.2                         \n",
       "Случайный лес            1.4                         \n",
       "CatBoost                 8.5                         "
      ]
     },
     "metadata": {},
     "output_type": "display_data"
    }
   ],
   "source": [
    "display(resshow)"
   ]
  },
  {
   "cell_type": "markdown",
   "metadata": {},
   "source": [
    "Как можно заметить, наибольшее значение метрики было получено с помощью CatBoost, а быстрее всех обучилась логистическая регрессия. По критерию качество модели к времени обучения лидером стоит отметить именно регрессию.\n",
    "\n",
    "Также на уменьшенном датасете была проверена гипотеза о том, уkучшится ли качество модели, если добавлять в качестве признаков не только униграммы, но и более высокие порядки. Отметим, что на уменьшенном датасете добавление лишних признаков только ухудшило знаечние метрики F1."
   ]
  },
  {
   "cell_type": "code",
   "execution_count": null,
   "metadata": {},
   "outputs": [],
   "source": []
  }
 ],
 "metadata": {
  "ExecuteTimeLog": [
   {
    "duration": 1615,
    "start_time": "2021-08-03T09:07:14.024Z"
   },
   {
    "duration": 2547,
    "start_time": "2021-08-03T09:07:17.248Z"
   },
   {
    "duration": 1958,
    "start_time": "2021-08-03T09:07:26.754Z"
   },
   {
    "duration": 844,
    "start_time": "2021-08-03T09:08:05.641Z"
   },
   {
    "duration": 968,
    "start_time": "2021-08-03T09:08:22.177Z"
   },
   {
    "duration": 850,
    "start_time": "2021-08-03T09:08:30.139Z"
   },
   {
    "duration": 842,
    "start_time": "2021-08-03T09:08:39.446Z"
   },
   {
    "duration": 794,
    "start_time": "2021-08-03T09:09:08.608Z"
   },
   {
    "duration": 806,
    "start_time": "2021-08-03T09:09:15.545Z"
   },
   {
    "duration": 884,
    "start_time": "2021-08-03T09:09:28.950Z"
   },
   {
    "duration": 826,
    "start_time": "2021-08-03T09:09:36.078Z"
   },
   {
    "duration": 846,
    "start_time": "2021-08-03T09:11:42.995Z"
   },
   {
    "duration": 876,
    "start_time": "2021-08-03T09:11:48.549Z"
   },
   {
    "duration": 873,
    "start_time": "2021-08-03T09:11:55.733Z"
   },
   {
    "duration": 857,
    "start_time": "2021-08-03T09:12:23.054Z"
   },
   {
    "duration": 1157,
    "start_time": "2021-08-03T09:31:26.398Z"
   },
   {
    "duration": 937,
    "start_time": "2021-08-03T09:31:34.769Z"
   },
   {
    "duration": 1062,
    "start_time": "2021-08-03T09:32:30.366Z"
   },
   {
    "duration": 974,
    "start_time": "2021-08-03T09:36:35.216Z"
   },
   {
    "duration": 2835,
    "start_time": "2021-08-03T13:43:38.720Z"
   },
   {
    "duration": 331,
    "start_time": "2021-08-03T13:44:14.963Z"
   },
   {
    "duration": 1623,
    "start_time": "2021-08-03T13:44:21.309Z"
   },
   {
    "duration": 837,
    "start_time": "2021-08-03T13:44:25.000Z"
   },
   {
    "duration": 3201,
    "start_time": "2021-08-03T13:44:31.968Z"
   },
   {
    "duration": 390,
    "start_time": "2021-08-03T13:45:03.993Z"
   },
   {
    "duration": 1527,
    "start_time": "2021-08-03T13:45:19.195Z"
   },
   {
    "duration": 819,
    "start_time": "2021-08-03T13:45:20.725Z"
   },
   {
    "duration": 2820,
    "start_time": "2021-08-03T13:45:21.547Z"
   },
   {
    "duration": 2129,
    "start_time": "2021-08-03T13:45:24.370Z"
   },
   {
    "duration": 1610,
    "start_time": "2021-08-03T14:09:39.525Z"
   },
   {
    "duration": 850,
    "start_time": "2021-08-03T14:09:41.138Z"
   },
   {
    "duration": 2971,
    "start_time": "2021-08-03T14:09:42.001Z"
   },
   {
    "duration": 2151,
    "start_time": "2021-08-03T14:09:44.975Z"
   },
   {
    "duration": 5,
    "start_time": "2021-08-03T14:10:18.250Z"
   },
   {
    "duration": 5,
    "start_time": "2021-08-03T14:10:23.652Z"
   },
   {
    "duration": 6,
    "start_time": "2021-08-03T14:10:26.815Z"
   },
   {
    "duration": 5,
    "start_time": "2021-08-03T14:10:46.585Z"
   },
   {
    "duration": 4,
    "start_time": "2021-08-03T14:11:08.528Z"
   },
   {
    "duration": 4,
    "start_time": "2021-08-03T14:11:15.725Z"
   },
   {
    "duration": 4,
    "start_time": "2021-08-03T14:11:19.394Z"
   },
   {
    "duration": 4,
    "start_time": "2021-08-03T14:11:59.775Z"
   },
   {
    "duration": 5,
    "start_time": "2021-08-03T14:12:08.213Z"
   },
   {
    "duration": 5,
    "start_time": "2021-08-03T14:13:32.417Z"
   },
   {
    "duration": 5,
    "start_time": "2021-08-03T14:13:39.561Z"
   },
   {
    "duration": 7,
    "start_time": "2021-08-03T14:13:51.298Z"
   },
   {
    "duration": 5,
    "start_time": "2021-08-03T14:14:10.119Z"
   },
   {
    "duration": 292,
    "start_time": "2021-08-03T14:26:54.486Z"
   },
   {
    "duration": 301,
    "start_time": "2021-08-03T14:27:03.344Z"
   },
   {
    "duration": 10,
    "start_time": "2021-08-03T14:32:19.919Z"
   },
   {
    "duration": 1545,
    "start_time": "2021-08-03T14:32:52.732Z"
   },
   {
    "duration": 829,
    "start_time": "2021-08-03T14:32:54.279Z"
   },
   {
    "duration": 430,
    "start_time": "2021-08-03T14:32:55.112Z"
   },
   {
    "duration": -1120,
    "start_time": "2021-08-03T14:32:56.665Z"
   },
   {
    "duration": 2977,
    "start_time": "2021-08-03T14:33:01.195Z"
   },
   {
    "duration": 14,
    "start_time": "2021-08-03T14:33:31.799Z"
   },
   {
    "duration": 1277,
    "start_time": "2021-08-03T18:47:59.792Z"
   },
   {
    "duration": 596,
    "start_time": "2021-08-03T18:48:04.708Z"
   },
   {
    "duration": 335,
    "start_time": "2021-08-03T18:49:28.054Z"
   },
   {
    "duration": 2164,
    "start_time": "2021-08-03T18:49:36.103Z"
   },
   {
    "duration": 255,
    "start_time": "2021-08-03T18:50:00.942Z"
   },
   {
    "duration": 101,
    "start_time": "2021-08-03T18:50:51.363Z"
   },
   {
    "duration": 263,
    "start_time": "2021-08-03T18:51:38.993Z"
   },
   {
    "duration": 5,
    "start_time": "2021-08-03T18:52:06.752Z"
   },
   {
    "duration": 4,
    "start_time": "2021-08-03T18:53:27.785Z"
   },
   {
    "duration": 6,
    "start_time": "2021-08-03T18:55:09.913Z"
   },
   {
    "duration": 6,
    "start_time": "2021-08-03T18:55:35.688Z"
   },
   {
    "duration": 5,
    "start_time": "2021-08-03T18:56:27.665Z"
   },
   {
    "duration": 5,
    "start_time": "2021-08-03T18:57:29.291Z"
   },
   {
    "duration": 5,
    "start_time": "2021-08-03T18:58:28.922Z"
   },
   {
    "duration": 630,
    "start_time": "2021-08-03T19:03:33.323Z"
   },
   {
    "duration": 622,
    "start_time": "2021-08-03T19:03:45.069Z"
   },
   {
    "duration": 1136,
    "start_time": "2021-08-03T19:07:47.862Z"
   },
   {
    "duration": 679,
    "start_time": "2021-08-03T19:07:49.001Z"
   },
   {
    "duration": 2337,
    "start_time": "2021-08-03T19:07:49.683Z"
   },
   {
    "duration": -85,
    "start_time": "2021-08-03T19:07:52.106Z"
   },
   {
    "duration": 7,
    "start_time": "2021-08-03T19:08:06.739Z"
   },
   {
    "duration": 6,
    "start_time": "2021-08-03T19:08:20.823Z"
   },
   {
    "duration": 5,
    "start_time": "2021-08-03T19:08:39.501Z"
   },
   {
    "duration": 5,
    "start_time": "2021-08-03T19:08:46.428Z"
   },
   {
    "duration": 5,
    "start_time": "2021-08-03T19:09:13.196Z"
   },
   {
    "duration": 5,
    "start_time": "2021-08-03T19:09:21.391Z"
   },
   {
    "duration": 6,
    "start_time": "2021-08-03T19:09:28.168Z"
   },
   {
    "duration": 5,
    "start_time": "2021-08-03T19:09:37.864Z"
   },
   {
    "duration": 1111,
    "start_time": "2021-08-03T19:24:52.776Z"
   },
   {
    "duration": 638,
    "start_time": "2021-08-03T19:24:53.889Z"
   },
   {
    "duration": 2315,
    "start_time": "2021-08-03T19:24:54.531Z"
   },
   {
    "duration": -92,
    "start_time": "2021-08-03T19:24:56.940Z"
   },
   {
    "duration": 250,
    "start_time": "2021-08-03T19:25:38.684Z"
   },
   {
    "duration": 7,
    "start_time": "2021-08-03T19:26:36.089Z"
   },
   {
    "duration": 8,
    "start_time": "2021-08-03T19:26:56.052Z"
   },
   {
    "duration": 1111,
    "start_time": "2021-08-03T19:32:31.781Z"
   },
   {
    "duration": 664,
    "start_time": "2021-08-03T19:32:32.894Z"
   },
   {
    "duration": 2016,
    "start_time": "2021-08-03T19:32:33.560Z"
   },
   {
    "duration": 1842,
    "start_time": "2021-08-03T19:32:35.578Z"
   },
   {
    "duration": 8,
    "start_time": "2021-08-03T19:33:12.282Z"
   },
   {
    "duration": 284,
    "start_time": "2021-08-03T19:34:31.975Z"
   },
   {
    "duration": 8,
    "start_time": "2021-08-03T19:35:15.665Z"
   },
   {
    "duration": 6,
    "start_time": "2021-08-03T19:35:34.525Z"
   },
   {
    "duration": 6,
    "start_time": "2021-08-03T19:36:03.402Z"
   },
   {
    "duration": 6,
    "start_time": "2021-08-03T19:36:14.187Z"
   },
   {
    "duration": 6,
    "start_time": "2021-08-03T19:36:52.687Z"
   },
   {
    "duration": 83,
    "start_time": "2021-08-03T19:38:20.200Z"
   },
   {
    "duration": 94,
    "start_time": "2021-08-03T19:38:26.116Z"
   },
   {
    "duration": 8,
    "start_time": "2021-08-03T19:38:31.608Z"
   },
   {
    "duration": 7,
    "start_time": "2021-08-03T19:42:35.236Z"
   },
   {
    "duration": 8,
    "start_time": "2021-08-03T19:48:01.930Z"
   },
   {
    "duration": 270,
    "start_time": "2021-08-03T19:48:51.584Z"
   },
   {
    "duration": 9,
    "start_time": "2021-08-03T19:49:19.030Z"
   },
   {
    "duration": 6,
    "start_time": "2021-08-03T19:49:33.946Z"
   },
   {
    "duration": 8,
    "start_time": "2021-08-03T19:49:48.957Z"
   },
   {
    "duration": 7,
    "start_time": "2021-08-03T19:49:53.386Z"
   },
   {
    "duration": 6,
    "start_time": "2021-08-03T19:57:32.013Z"
   },
   {
    "duration": 124,
    "start_time": "2021-08-03T19:58:06.760Z"
   },
   {
    "duration": 79,
    "start_time": "2021-08-03T19:58:21.031Z"
   },
   {
    "duration": 8,
    "start_time": "2021-08-03T19:58:28.833Z"
   },
   {
    "duration": 11,
    "start_time": "2021-08-03T19:58:38.342Z"
   },
   {
    "duration": 85,
    "start_time": "2021-08-03T19:58:47.306Z"
   },
   {
    "duration": 7,
    "start_time": "2021-08-03T20:08:28.294Z"
   },
   {
    "duration": 6,
    "start_time": "2021-08-03T20:08:42.966Z"
   },
   {
    "duration": 8,
    "start_time": "2021-08-03T20:08:48.944Z"
   },
   {
    "duration": 8,
    "start_time": "2021-08-03T20:10:25.623Z"
   },
   {
    "duration": 8,
    "start_time": "2021-08-03T20:12:52.623Z"
   },
   {
    "duration": 8,
    "start_time": "2021-08-03T20:21:07.532Z"
   },
   {
    "duration": 7,
    "start_time": "2021-08-03T20:21:12.879Z"
   },
   {
    "duration": 7,
    "start_time": "2021-08-03T20:21:21.970Z"
   },
   {
    "duration": 7,
    "start_time": "2021-08-03T20:26:35.026Z"
   },
   {
    "duration": 8,
    "start_time": "2021-08-03T20:26:50.031Z"
   },
   {
    "duration": 10,
    "start_time": "2021-08-03T20:27:00.840Z"
   },
   {
    "duration": 7,
    "start_time": "2021-08-03T20:28:00.189Z"
   },
   {
    "duration": 8,
    "start_time": "2021-08-03T20:29:15.746Z"
   },
   {
    "duration": 11,
    "start_time": "2021-08-03T20:29:21.547Z"
   },
   {
    "duration": 361,
    "start_time": "2021-08-03T20:37:08.872Z"
   },
   {
    "duration": 1198,
    "start_time": "2021-08-03T20:37:32.331Z"
   },
   {
    "duration": 664,
    "start_time": "2021-08-03T20:37:33.531Z"
   },
   {
    "duration": 2585,
    "start_time": "2021-08-03T20:37:34.197Z"
   },
   {
    "duration": -39,
    "start_time": "2021-08-03T20:37:36.823Z"
   },
   {
    "duration": -40,
    "start_time": "2021-08-03T20:37:36.825Z"
   },
   {
    "duration": 1180,
    "start_time": "2021-08-03T20:37:58.728Z"
   },
   {
    "duration": 734,
    "start_time": "2021-08-03T20:37:59.909Z"
   },
   {
    "duration": 2308,
    "start_time": "2021-08-03T20:38:00.646Z"
   },
   {
    "duration": 25,
    "start_time": "2021-08-03T20:38:02.956Z"
   },
   {
    "duration": 1988,
    "start_time": "2021-08-03T20:38:02.983Z"
   },
   {
    "duration": 6,
    "start_time": "2021-08-03T20:38:24.277Z"
   },
   {
    "duration": 10,
    "start_time": "2021-08-03T20:41:30.408Z"
   },
   {
    "duration": 5,
    "start_time": "2021-08-03T20:42:20.634Z"
   },
   {
    "duration": 5,
    "start_time": "2021-08-03T20:42:38.079Z"
   },
   {
    "duration": 7901,
    "start_time": "2021-08-03T20:44:26.630Z"
   },
   {
    "duration": 279,
    "start_time": "2021-08-03T21:20:40.415Z"
   },
   {
    "duration": 1431,
    "start_time": "2021-08-03T21:24:14.779Z"
   },
   {
    "duration": 663,
    "start_time": "2021-08-03T21:24:16.212Z"
   },
   {
    "duration": 2847,
    "start_time": "2021-08-03T21:24:16.880Z"
   },
   {
    "duration": 26,
    "start_time": "2021-08-03T21:24:19.729Z"
   },
   {
    "duration": 9200,
    "start_time": "2021-08-03T21:24:19.757Z"
   },
   {
    "duration": 1292,
    "start_time": "2021-08-03T21:25:56.812Z"
   },
   {
    "duration": 703,
    "start_time": "2021-08-03T21:25:58.106Z"
   },
   {
    "duration": 2295,
    "start_time": "2021-08-03T21:25:58.811Z"
   },
   {
    "duration": 21,
    "start_time": "2021-08-03T21:26:01.109Z"
   },
   {
    "duration": 7963,
    "start_time": "2021-08-03T21:26:01.149Z"
   },
   {
    "duration": 2944,
    "start_time": "2021-08-03T21:26:09.114Z"
   },
   {
    "duration": 725,
    "start_time": "2021-08-03T21:26:12.061Z"
   },
   {
    "duration": -92,
    "start_time": "2021-08-03T21:26:12.880Z"
   },
   {
    "duration": 6,
    "start_time": "2021-08-03T21:29:11.113Z"
   },
   {
    "duration": 1130,
    "start_time": "2021-08-03T21:29:35.606Z"
   },
   {
    "duration": 667,
    "start_time": "2021-08-03T21:29:36.738Z"
   },
   {
    "duration": 2261,
    "start_time": "2021-08-03T21:29:37.407Z"
   },
   {
    "duration": 13,
    "start_time": "2021-08-03T21:29:39.670Z"
   },
   {
    "duration": 1228,
    "start_time": "2021-08-03T21:30:13.527Z"
   },
   {
    "duration": 672,
    "start_time": "2021-08-03T21:30:14.757Z"
   },
   {
    "duration": 2348,
    "start_time": "2021-08-03T21:30:15.432Z"
   },
   {
    "duration": 12,
    "start_time": "2021-08-03T21:30:17.782Z"
   },
   {
    "duration": 282,
    "start_time": "2021-08-03T21:30:43.106Z"
   },
   {
    "duration": 1397,
    "start_time": "2021-08-03T21:30:54.340Z"
   },
   {
    "duration": 661,
    "start_time": "2021-08-03T21:30:55.739Z"
   },
   {
    "duration": 2278,
    "start_time": "2021-08-03T21:30:56.402Z"
   },
   {
    "duration": 11,
    "start_time": "2021-08-03T21:30:58.682Z"
   },
   {
    "duration": 7849,
    "start_time": "2021-08-03T21:30:58.695Z"
   },
   {
    "duration": 2912,
    "start_time": "2021-08-03T21:31:06.546Z"
   },
   {
    "duration": 627,
    "start_time": "2021-08-03T21:31:09.461Z"
   },
   {
    "duration": -128,
    "start_time": "2021-08-03T21:31:10.219Z"
   },
   {
    "duration": 341,
    "start_time": "2021-08-03T21:35:10.907Z"
   },
   {
    "duration": 1734,
    "start_time": "2021-08-03T21:35:19.753Z"
   },
   {
    "duration": 1617,
    "start_time": "2021-08-03T21:35:30.300Z"
   },
   {
    "duration": 344606,
    "start_time": "2021-08-03T21:36:37.650Z"
   },
   {
    "duration": 646,
    "start_time": "2021-08-03T21:42:22.258Z"
   },
   {
    "duration": 4828,
    "start_time": "2021-08-03T21:42:22.906Z"
   },
   {
    "duration": 10,
    "start_time": "2021-08-03T21:42:27.736Z"
   },
   {
    "duration": 7981,
    "start_time": "2021-08-03T21:42:27.747Z"
   },
   {
    "duration": 3259,
    "start_time": "2021-08-03T21:42:35.730Z"
   },
   {
    "duration": 398,
    "start_time": "2021-08-03T21:42:38.991Z"
   },
   {
    "duration": -39,
    "start_time": "2021-08-03T21:42:39.430Z"
   },
   {
    "duration": 3,
    "start_time": "2021-08-03T21:47:12.918Z"
   },
   {
    "duration": 4,
    "start_time": "2021-08-03T21:47:18.413Z"
   },
   {
    "duration": 4,
    "start_time": "2021-08-03T21:47:25.209Z"
   },
   {
    "duration": 4,
    "start_time": "2021-08-03T21:47:36.517Z"
   },
   {
    "duration": 4,
    "start_time": "2021-08-03T21:48:02.603Z"
   },
   {
    "duration": 3,
    "start_time": "2021-08-03T21:48:34.027Z"
   },
   {
    "duration": 20,
    "start_time": "2021-08-03T21:51:49.511Z"
   },
   {
    "duration": 1347,
    "start_time": "2021-08-03T21:52:42.312Z"
   },
   {
    "duration": 871,
    "start_time": "2021-08-03T21:52:43.662Z"
   },
   {
    "duration": 2872,
    "start_time": "2021-08-03T21:52:44.540Z"
   },
   {
    "duration": 27,
    "start_time": "2021-08-03T21:52:47.414Z"
   },
   {
    "duration": 8661,
    "start_time": "2021-08-03T21:52:47.443Z"
   },
   {
    "duration": 104565,
    "start_time": "2021-08-03T21:52:56.106Z"
   },
   {
    "duration": 5,
    "start_time": "2021-08-03T21:54:40.673Z"
   },
   {
    "duration": 356,
    "start_time": "2021-08-03T21:54:40.681Z"
   },
   {
    "duration": -29,
    "start_time": "2021-08-03T21:54:41.068Z"
   },
   {
    "duration": 6,
    "start_time": "2021-08-03T21:58:03.217Z"
   },
   {
    "duration": 264,
    "start_time": "2021-08-03T22:03:53.387Z"
   },
   {
    "duration": 1428,
    "start_time": "2021-08-03T22:05:28.106Z"
   },
   {
    "duration": 671,
    "start_time": "2021-08-03T22:05:29.536Z"
   },
   {
    "duration": 2286,
    "start_time": "2021-08-03T22:05:30.209Z"
   },
   {
    "duration": 10,
    "start_time": "2021-08-03T22:05:32.497Z"
   },
   {
    "duration": 7814,
    "start_time": "2021-08-03T22:05:32.509Z"
   },
   {
    "duration": 1513,
    "start_time": "2021-08-03T22:07:10.253Z"
   },
   {
    "duration": 861,
    "start_time": "2021-08-03T22:07:11.768Z"
   },
   {
    "duration": 2825,
    "start_time": "2021-08-03T22:07:12.640Z"
   },
   {
    "duration": 539,
    "start_time": "2021-08-03T22:07:15.467Z"
   },
   {
    "duration": -26,
    "start_time": "2021-08-03T22:07:16.034Z"
   },
   {
    "duration": -30,
    "start_time": "2021-08-03T22:07:16.039Z"
   },
   {
    "duration": -33,
    "start_time": "2021-08-03T22:07:16.042Z"
   },
   {
    "duration": -33,
    "start_time": "2021-08-03T22:07:16.043Z"
   },
   {
    "duration": 1346,
    "start_time": "2021-08-03T22:08:28.178Z"
   },
   {
    "duration": 657,
    "start_time": "2021-08-03T22:08:29.526Z"
   },
   {
    "duration": 2226,
    "start_time": "2021-08-03T22:08:30.185Z"
   },
   {
    "duration": 12,
    "start_time": "2021-08-03T22:08:32.413Z"
   },
   {
    "duration": 7740,
    "start_time": "2021-08-03T22:08:32.427Z"
   },
   {
    "duration": 76247,
    "start_time": "2021-08-03T22:08:40.168Z"
   },
   {
    "duration": 382,
    "start_time": "2021-08-03T22:09:56.417Z"
   },
   {
    "duration": -6,
    "start_time": "2021-08-03T22:09:56.806Z"
   },
   {
    "duration": 1732,
    "start_time": "2021-08-03T22:51:04.708Z"
   },
   {
    "duration": 292,
    "start_time": "2021-08-03T22:52:28.424Z"
   },
   {
    "duration": 1403,
    "start_time": "2021-08-03T23:01:54.895Z"
   },
   {
    "duration": 653,
    "start_time": "2021-08-03T23:01:56.300Z"
   },
   {
    "duration": 2306,
    "start_time": "2021-08-03T23:01:56.955Z"
   },
   {
    "duration": 14,
    "start_time": "2021-08-03T23:01:59.265Z"
   },
   {
    "duration": 8093,
    "start_time": "2021-08-03T23:01:59.281Z"
   },
   {
    "duration": 77696,
    "start_time": "2021-08-03T23:02:07.375Z"
   },
   {
    "duration": 312,
    "start_time": "2021-08-03T23:03:58.539Z"
   },
   {
    "duration": 1483,
    "start_time": "2021-08-03T23:04:34.354Z"
   },
   {
    "duration": 689,
    "start_time": "2021-08-03T23:04:35.839Z"
   },
   {
    "duration": 2324,
    "start_time": "2021-08-03T23:04:36.530Z"
   },
   {
    "duration": 29,
    "start_time": "2021-08-03T23:04:38.856Z"
   },
   {
    "duration": 8141,
    "start_time": "2021-08-03T23:04:38.887Z"
   },
   {
    "duration": 81770,
    "start_time": "2021-08-03T23:04:47.029Z"
   },
   {
    "duration": 277,
    "start_time": "2021-08-03T23:17:20.817Z"
   },
   {
    "duration": 1455,
    "start_time": "2021-08-03T23:17:38.641Z"
   },
   {
    "duration": 691,
    "start_time": "2021-08-03T23:17:40.097Z"
   },
   {
    "duration": 2351,
    "start_time": "2021-08-03T23:17:40.789Z"
   },
   {
    "duration": 15,
    "start_time": "2021-08-03T23:17:43.144Z"
   },
   {
    "duration": 8488,
    "start_time": "2021-08-03T23:17:43.160Z"
   },
   {
    "duration": 88416,
    "start_time": "2021-08-03T23:17:51.651Z"
   },
   {
    "duration": 36,
    "start_time": "2021-08-03T23:19:20.069Z"
   },
   {
    "duration": 1431,
    "start_time": "2021-08-03T23:20:12.247Z"
   },
   {
    "duration": 371,
    "start_time": "2021-08-03T23:21:01.010Z"
   },
   {
    "duration": 254,
    "start_time": "2021-08-03T23:21:17.040Z"
   },
   {
    "duration": 1340,
    "start_time": "2021-08-03T23:22:13.113Z"
   },
   {
    "duration": 647,
    "start_time": "2021-08-03T23:22:14.455Z"
   },
   {
    "duration": 2199,
    "start_time": "2021-08-03T23:22:15.105Z"
   },
   {
    "duration": 18,
    "start_time": "2021-08-03T23:22:17.306Z"
   },
   {
    "duration": 7927,
    "start_time": "2021-08-03T23:22:17.326Z"
   },
   {
    "duration": 77101,
    "start_time": "2021-08-03T23:22:25.255Z"
   },
   {
    "duration": 33,
    "start_time": "2021-08-03T23:23:42.357Z"
   },
   {
    "duration": 1353,
    "start_time": "2021-08-03T23:28:04.246Z"
   },
   {
    "duration": 760,
    "start_time": "2021-08-03T23:28:05.601Z"
   },
   {
    "duration": 2232,
    "start_time": "2021-08-03T23:28:06.365Z"
   },
   {
    "duration": 16,
    "start_time": "2021-08-03T23:28:08.599Z"
   },
   {
    "duration": 8198,
    "start_time": "2021-08-03T23:28:08.617Z"
   },
   {
    "duration": 81903,
    "start_time": "2021-08-03T23:28:16.816Z"
   },
   {
    "duration": 48,
    "start_time": "2021-08-03T23:29:38.721Z"
   },
   {
    "duration": 26,
    "start_time": "2021-08-03T23:29:38.772Z"
   },
   {
    "duration": 362,
    "start_time": "2021-08-03T23:29:38.800Z"
   },
   {
    "duration": -33,
    "start_time": "2021-08-03T23:29:39.204Z"
   },
   {
    "duration": -35,
    "start_time": "2021-08-03T23:29:39.207Z"
   },
   {
    "duration": 1389,
    "start_time": "2021-08-03T23:36:07.135Z"
   },
   {
    "duration": 676,
    "start_time": "2021-08-03T23:36:08.525Z"
   },
   {
    "duration": 2214,
    "start_time": "2021-08-03T23:36:09.203Z"
   },
   {
    "duration": 9,
    "start_time": "2021-08-03T23:36:11.420Z"
   },
   {
    "duration": 8201,
    "start_time": "2021-08-03T23:36:11.440Z"
   },
   {
    "duration": 80519,
    "start_time": "2021-08-03T23:36:19.653Z"
   },
   {
    "duration": 33,
    "start_time": "2021-08-03T23:37:40.174Z"
   },
   {
    "duration": 48,
    "start_time": "2021-08-03T23:37:40.209Z"
   },
   {
    "duration": 5258,
    "start_time": "2021-08-03T23:37:40.263Z"
   },
   {
    "duration": 12613,
    "start_time": "2021-08-03T23:37:45.522Z"
   },
   {
    "duration": -99,
    "start_time": "2021-08-03T23:37:58.236Z"
   },
   {
    "duration": 10904,
    "start_time": "2021-08-03T23:38:30.208Z"
   },
   {
    "duration": 1357,
    "start_time": "2021-08-03T23:39:19.201Z"
   },
   {
    "duration": 658,
    "start_time": "2021-08-03T23:39:20.562Z"
   },
   {
    "duration": 2220,
    "start_time": "2021-08-03T23:39:21.222Z"
   },
   {
    "duration": 16,
    "start_time": "2021-08-03T23:39:23.444Z"
   },
   {
    "duration": 8273,
    "start_time": "2021-08-03T23:39:23.462Z"
   },
   {
    "duration": 80314,
    "start_time": "2021-08-03T23:39:31.740Z"
   },
   {
    "duration": 37,
    "start_time": "2021-08-03T23:40:52.056Z"
   },
   {
    "duration": 27,
    "start_time": "2021-08-03T23:40:52.095Z"
   },
   {
    "duration": 5248,
    "start_time": "2021-08-03T23:40:52.124Z"
   },
   {
    "duration": 10946,
    "start_time": "2021-08-03T23:40:57.374Z"
   },
   {
    "duration": 2035,
    "start_time": "2021-08-03T23:41:08.322Z"
   },
   {
    "duration": 1483,
    "start_time": "2021-08-03T23:44:03.006Z"
   },
   {
    "duration": 665,
    "start_time": "2021-08-03T23:44:04.491Z"
   },
   {
    "duration": 2292,
    "start_time": "2021-08-03T23:44:05.160Z"
   },
   {
    "duration": 12,
    "start_time": "2021-08-03T23:44:07.455Z"
   },
   {
    "duration": 2108,
    "start_time": "2021-08-03T23:44:07.469Z"
   },
   {
    "duration": 83816,
    "start_time": "2021-08-03T23:44:09.579Z"
   },
   {
    "duration": 30,
    "start_time": "2021-08-03T23:45:33.396Z"
   },
   {
    "duration": 40,
    "start_time": "2021-08-03T23:45:33.428Z"
   },
   {
    "duration": 5456,
    "start_time": "2021-08-03T23:45:33.472Z"
   },
   {
    "duration": 10753,
    "start_time": "2021-08-03T23:45:38.930Z"
   },
   {
    "duration": 279,
    "start_time": "2021-08-04T00:01:44.590Z"
   },
   {
    "duration": 1469,
    "start_time": "2021-08-04T00:01:53.746Z"
   },
   {
    "duration": 716,
    "start_time": "2021-08-04T00:01:55.217Z"
   },
   {
    "duration": 2332,
    "start_time": "2021-08-04T00:01:55.935Z"
   },
   {
    "duration": 10,
    "start_time": "2021-08-04T00:01:58.270Z"
   },
   {
    "duration": 9065,
    "start_time": "2021-08-04T00:01:58.282Z"
   },
   {
    "duration": 81981,
    "start_time": "2021-08-04T00:02:07.348Z"
   },
   {
    "duration": 49,
    "start_time": "2021-08-04T00:03:29.330Z"
   },
   {
    "duration": 6333,
    "start_time": "2021-08-04T00:03:29.380Z"
   },
   {
    "duration": 10049,
    "start_time": "2021-08-04T00:03:35.715Z"
   },
   {
    "duration": 271,
    "start_time": "2021-08-04T00:03:45.767Z"
   },
   {
    "duration": 1418,
    "start_time": "2021-08-04T00:17:20.284Z"
   },
   {
    "duration": 703,
    "start_time": "2021-08-04T00:17:21.703Z"
   },
   {
    "duration": 2320,
    "start_time": "2021-08-04T00:17:22.408Z"
   },
   {
    "duration": 22,
    "start_time": "2021-08-04T00:17:24.729Z"
   },
   {
    "duration": 8209,
    "start_time": "2021-08-04T00:17:24.758Z"
   },
   {
    "duration": 82491,
    "start_time": "2021-08-04T00:17:32.968Z"
   },
   {
    "duration": 34,
    "start_time": "2021-08-04T00:18:55.461Z"
   },
   {
    "duration": 5687,
    "start_time": "2021-08-04T00:18:55.497Z"
   },
   {
    "duration": 10560,
    "start_time": "2021-08-04T00:19:01.186Z"
   },
   {
    "duration": 283,
    "start_time": "2021-08-04T00:19:11.748Z"
   },
   {
    "duration": 258,
    "start_time": "2021-08-04T00:20:50.655Z"
   },
   {
    "duration": 1508,
    "start_time": "2021-08-04T00:21:22.363Z"
   },
   {
    "duration": 701,
    "start_time": "2021-08-04T00:21:23.873Z"
   },
   {
    "duration": 2299,
    "start_time": "2021-08-04T00:21:24.579Z"
   },
   {
    "duration": 32,
    "start_time": "2021-08-04T00:21:26.880Z"
   },
   {
    "duration": 8228,
    "start_time": "2021-08-04T00:21:26.914Z"
   },
   {
    "duration": 81205,
    "start_time": "2021-08-04T00:21:35.145Z"
   },
   {
    "duration": 38,
    "start_time": "2021-08-04T00:22:56.353Z"
   },
   {
    "duration": 5773,
    "start_time": "2021-08-04T00:22:56.393Z"
   },
   {
    "duration": 10655,
    "start_time": "2021-08-04T00:23:02.168Z"
   },
   {
    "duration": 1391,
    "start_time": "2021-08-04T00:26:53.162Z"
   },
   {
    "duration": 640,
    "start_time": "2021-08-04T00:26:54.555Z"
   },
   {
    "duration": 2278,
    "start_time": "2021-08-04T00:26:55.197Z"
   },
   {
    "duration": 11,
    "start_time": "2021-08-04T00:26:57.477Z"
   },
   {
    "duration": 7748,
    "start_time": "2021-08-04T00:26:57.490Z"
   },
   {
    "duration": 75061,
    "start_time": "2021-08-04T00:27:05.240Z"
   },
   {
    "duration": 47,
    "start_time": "2021-08-04T00:28:20.303Z"
   },
   {
    "duration": 5238,
    "start_time": "2021-08-04T00:28:20.353Z"
   },
   {
    "duration": 10460,
    "start_time": "2021-08-04T00:28:25.593Z"
   },
   {
    "duration": 1485,
    "start_time": "2021-08-04T00:30:52.514Z"
   },
   {
    "duration": 652,
    "start_time": "2021-08-04T00:30:54.002Z"
   },
   {
    "duration": 2206,
    "start_time": "2021-08-04T00:30:54.656Z"
   },
   {
    "duration": 19,
    "start_time": "2021-08-04T00:30:56.865Z"
   },
   {
    "duration": 7955,
    "start_time": "2021-08-04T00:30:56.885Z"
   },
   {
    "duration": 76412,
    "start_time": "2021-08-04T00:31:04.842Z"
   },
   {
    "duration": 32,
    "start_time": "2021-08-04T00:32:21.256Z"
   },
   {
    "duration": 5500,
    "start_time": "2021-08-04T00:32:21.290Z"
   },
   {
    "duration": 10856,
    "start_time": "2021-08-04T00:32:26.792Z"
   },
   {
    "duration": 3,
    "start_time": "2021-08-04T00:32:37.650Z"
   },
   {
    "duration": 300,
    "start_time": "2021-08-04T00:34:53.534Z"
   },
   {
    "duration": 1388,
    "start_time": "2021-08-04T00:35:20.094Z"
   },
   {
    "duration": 640,
    "start_time": "2021-08-04T00:35:21.484Z"
   },
   {
    "duration": 2195,
    "start_time": "2021-08-04T00:35:22.126Z"
   },
   {
    "duration": 23,
    "start_time": "2021-08-04T00:35:24.322Z"
   },
   {
    "duration": 7991,
    "start_time": "2021-08-04T00:35:24.353Z"
   },
   {
    "duration": 77229,
    "start_time": "2021-08-04T00:35:32.345Z"
   },
   {
    "duration": 31,
    "start_time": "2021-08-04T00:36:49.577Z"
   },
   {
    "duration": 5544,
    "start_time": "2021-08-04T00:36:49.609Z"
   },
   {
    "duration": 10837,
    "start_time": "2021-08-04T00:36:55.154Z"
   },
   {
    "duration": 2,
    "start_time": "2021-08-04T00:37:05.993Z"
   },
   {
    "duration": 6,
    "start_time": "2021-08-04T00:37:05.996Z"
   },
   {
    "duration": 1419,
    "start_time": "2021-08-04T00:43:15.347Z"
   },
   {
    "duration": 629,
    "start_time": "2021-08-04T00:43:16.768Z"
   },
   {
    "duration": 2171,
    "start_time": "2021-08-04T00:43:17.399Z"
   },
   {
    "duration": 8,
    "start_time": "2021-08-04T00:43:19.572Z"
   },
   {
    "duration": 7364,
    "start_time": "2021-08-04T00:43:19.582Z"
   },
   {
    "duration": 71994,
    "start_time": "2021-08-04T00:43:26.947Z"
   },
   {
    "duration": 32,
    "start_time": "2021-08-04T00:44:38.943Z"
   },
   {
    "duration": 5133,
    "start_time": "2021-08-04T00:44:38.978Z"
   },
   {
    "duration": 10610,
    "start_time": "2021-08-04T00:44:44.113Z"
   },
   {
    "duration": 2,
    "start_time": "2021-08-04T00:44:54.725Z"
   },
   {
    "duration": 13,
    "start_time": "2021-08-04T00:44:54.728Z"
   },
   {
    "duration": 89,
    "start_time": "2021-08-04T00:44:54.742Z"
   },
   {
    "duration": -48,
    "start_time": "2021-08-04T00:44:54.880Z"
   },
   {
    "duration": 6444,
    "start_time": "2021-08-04T00:53:23.243Z"
   },
   {
    "duration": 1444,
    "start_time": "2021-08-04T00:59:41.743Z"
   },
   {
    "duration": 625,
    "start_time": "2021-08-04T00:59:43.190Z"
   },
   {
    "duration": 2179,
    "start_time": "2021-08-04T00:59:43.817Z"
   },
   {
    "duration": 20,
    "start_time": "2021-08-04T00:59:45.998Z"
   },
   {
    "duration": 7246,
    "start_time": "2021-08-04T00:59:46.019Z"
   },
   {
    "duration": 71454,
    "start_time": "2021-08-04T00:59:53.267Z"
   },
   {
    "duration": 39,
    "start_time": "2021-08-04T01:01:04.723Z"
   },
   {
    "duration": 5171,
    "start_time": "2021-08-04T01:01:04.764Z"
   },
   {
    "duration": 10525,
    "start_time": "2021-08-04T01:01:09.937Z"
   },
   {
    "duration": 2,
    "start_time": "2021-08-04T01:01:20.464Z"
   },
   {
    "duration": 13,
    "start_time": "2021-08-04T01:01:20.468Z"
   },
   {
    "duration": 6417,
    "start_time": "2021-08-04T01:01:20.482Z"
   },
   {
    "duration": 51360,
    "start_time": "2021-08-04T01:02:32.527Z"
   },
   {
    "duration": 184,
    "start_time": "2021-08-04T01:05:03.450Z"
   },
   {
    "duration": 2236,
    "start_time": "2021-08-04T07:16:18.033Z"
   },
   {
    "duration": 905,
    "start_time": "2021-08-04T07:16:20.271Z"
   },
   {
    "duration": 2831,
    "start_time": "2021-08-04T07:16:21.180Z"
   },
   {
    "duration": 21,
    "start_time": "2021-08-04T07:16:24.014Z"
   },
   {
    "duration": 11924,
    "start_time": "2021-08-04T07:16:24.038Z"
   },
   {
    "duration": 129751,
    "start_time": "2021-08-04T07:16:35.967Z"
   },
   {
    "duration": 46,
    "start_time": "2021-08-04T07:18:45.721Z"
   },
   {
    "duration": 8664,
    "start_time": "2021-08-04T07:18:45.771Z"
   },
   {
    "duration": 11426,
    "start_time": "2021-08-04T07:18:54.438Z"
   },
   {
    "duration": 4,
    "start_time": "2021-08-04T07:19:05.868Z"
   },
   {
    "duration": 2301,
    "start_time": "2021-08-04T07:19:46.139Z"
   },
   {
    "duration": 1633,
    "start_time": "2021-08-04T07:19:48.443Z"
   },
   {
    "duration": 2844,
    "start_time": "2021-08-04T07:19:50.079Z"
   },
   {
    "duration": 23,
    "start_time": "2021-08-04T07:19:52.925Z"
   },
   {
    "duration": 12485,
    "start_time": "2021-08-04T07:19:52.951Z"
   },
   {
    "duration": 128323,
    "start_time": "2021-08-04T07:20:05.439Z"
   },
   {
    "duration": 39,
    "start_time": "2021-08-04T07:22:13.767Z"
   },
   {
    "duration": 8751,
    "start_time": "2021-08-04T07:22:13.809Z"
   },
   {
    "duration": 11338,
    "start_time": "2021-08-04T07:22:22.562Z"
   },
   {
    "duration": 2,
    "start_time": "2021-08-04T07:22:33.903Z"
   },
   {
    "duration": 7,
    "start_time": "2021-08-04T07:22:33.907Z"
   },
   {
    "duration": 73177,
    "start_time": "2021-08-04T07:22:33.916Z"
   },
   {
    "duration": 37,
    "start_time": "2021-08-04T07:28:55.076Z"
   },
   {
    "duration": 6344,
    "start_time": "2021-08-04T07:28:58.101Z"
   },
   {
    "duration": 11754,
    "start_time": "2021-08-04T07:29:07.120Z"
   },
   {
    "duration": 37,
    "start_time": "2021-08-04T07:29:36.310Z"
   },
   {
    "duration": 4307,
    "start_time": "2021-08-04T07:29:38.977Z"
   },
   {
    "duration": 14351,
    "start_time": "2021-08-04T07:29:52.829Z"
   },
   {
    "duration": 37,
    "start_time": "2021-08-04T07:30:15.488Z"
   },
   {
    "duration": 10063,
    "start_time": "2021-08-04T07:30:18.848Z"
   },
   {
    "duration": 9897,
    "start_time": "2021-08-04T07:30:29.649Z"
   },
   {
    "duration": 39,
    "start_time": "2021-08-04T07:31:11.607Z"
   },
   {
    "duration": 9359,
    "start_time": "2021-08-04T07:31:14.883Z"
   },
   {
    "duration": 10454,
    "start_time": "2021-08-04T07:31:39.193Z"
   },
   {
    "duration": 38,
    "start_time": "2021-08-04T07:31:58.914Z"
   },
   {
    "duration": 8998,
    "start_time": "2021-08-04T07:32:01.031Z"
   },
   {
    "duration": 10891,
    "start_time": "2021-08-04T07:32:11.561Z"
   },
   {
    "duration": 37,
    "start_time": "2021-08-04T07:32:31.155Z"
   },
   {
    "duration": 8269,
    "start_time": "2021-08-04T07:32:32.963Z"
   },
   {
    "duration": 11467,
    "start_time": "2021-08-04T07:32:46.134Z"
   },
   {
    "duration": 36,
    "start_time": "2021-08-04T07:33:06.142Z"
   },
   {
    "duration": 9086,
    "start_time": "2021-08-04T07:33:08.181Z"
   },
   {
    "duration": 10973,
    "start_time": "2021-08-04T07:34:47.701Z"
   },
   {
    "duration": 35,
    "start_time": "2021-08-04T07:35:22.583Z"
   },
   {
    "duration": 9241,
    "start_time": "2021-08-04T07:35:24.640Z"
   },
   {
    "duration": 10943,
    "start_time": "2021-08-04T07:35:37.692Z"
   },
   {
    "duration": 39,
    "start_time": "2021-08-04T07:36:01.953Z"
   },
   {
    "duration": 9698,
    "start_time": "2021-08-04T07:36:04.569Z"
   },
   {
    "duration": 10597,
    "start_time": "2021-08-04T07:36:16.173Z"
   },
   {
    "duration": 36,
    "start_time": "2021-08-04T07:36:42.674Z"
   },
   {
    "duration": 9347,
    "start_time": "2021-08-04T07:36:46.920Z"
   },
   {
    "duration": 10613,
    "start_time": "2021-08-04T07:36:56.888Z"
   },
   {
    "duration": 37,
    "start_time": "2021-08-04T07:37:18.358Z"
   },
   {
    "duration": 9198,
    "start_time": "2021-08-04T07:37:20.506Z"
   },
   {
    "duration": 10894,
    "start_time": "2021-08-04T07:37:32.484Z"
   },
   {
    "duration": 38,
    "start_time": "2021-08-04T07:37:55.432Z"
   },
   {
    "duration": 9261,
    "start_time": "2021-08-04T07:37:57.456Z"
   },
   {
    "duration": 10771,
    "start_time": "2021-08-04T07:38:08.335Z"
   },
   {
    "duration": 39,
    "start_time": "2021-08-04T07:38:26.322Z"
   },
   {
    "duration": 9106,
    "start_time": "2021-08-04T07:38:28.204Z"
   },
   {
    "duration": 10765,
    "start_time": "2021-08-04T07:38:37.783Z"
   },
   {
    "duration": 37,
    "start_time": "2021-08-04T07:39:41.815Z"
   },
   {
    "duration": 9126,
    "start_time": "2021-08-04T07:39:45.356Z"
   },
   {
    "duration": 10995,
    "start_time": "2021-08-04T07:39:57.385Z"
   },
   {
    "duration": 38,
    "start_time": "2021-08-04T07:40:28.344Z"
   },
   {
    "duration": 9116,
    "start_time": "2021-08-04T07:40:30.970Z"
   },
   {
    "duration": 11043,
    "start_time": "2021-08-04T07:40:40.764Z"
   },
   {
    "duration": 1911,
    "start_time": "2021-08-04T07:41:20.502Z"
   },
   {
    "duration": 818,
    "start_time": "2021-08-04T07:41:22.415Z"
   },
   {
    "duration": 2858,
    "start_time": "2021-08-04T07:41:23.236Z"
   },
   {
    "duration": 17,
    "start_time": "2021-08-04T07:41:26.097Z"
   },
   {
    "duration": 13170,
    "start_time": "2021-08-04T07:41:26.116Z"
   },
   {
    "duration": 129755,
    "start_time": "2021-08-04T07:41:39.289Z"
   },
   {
    "duration": 52,
    "start_time": "2021-08-04T07:43:49.046Z"
   },
   {
    "duration": 9045,
    "start_time": "2021-08-04T07:43:49.101Z"
   },
   {
    "duration": 11034,
    "start_time": "2021-08-04T07:43:58.150Z"
   },
   {
    "duration": 3,
    "start_time": "2021-08-04T07:44:09.187Z"
   },
   {
    "duration": 7,
    "start_time": "2021-08-04T07:44:09.192Z"
   },
   {
    "duration": 85717,
    "start_time": "2021-08-04T07:44:09.201Z"
   },
   {
    "duration": 2210,
    "start_time": "2021-08-04T07:54:06.479Z"
   },
   {
    "duration": 815,
    "start_time": "2021-08-04T07:54:08.692Z"
   },
   {
    "duration": 2864,
    "start_time": "2021-08-04T07:54:09.510Z"
   },
   {
    "duration": 17,
    "start_time": "2021-08-04T07:54:12.376Z"
   },
   {
    "duration": 12047,
    "start_time": "2021-08-04T07:54:12.396Z"
   },
   {
    "duration": 130776,
    "start_time": "2021-08-04T07:54:24.446Z"
   },
   {
    "duration": 47,
    "start_time": "2021-08-04T07:56:35.224Z"
   },
   {
    "duration": 9318,
    "start_time": "2021-08-04T07:56:35.274Z"
   },
   {
    "duration": 10956,
    "start_time": "2021-08-04T07:56:44.595Z"
   },
   {
    "duration": 87376,
    "start_time": "2021-08-04T07:56:55.554Z"
   },
   {
    "duration": 2,
    "start_time": "2021-08-04T07:58:22.933Z"
   },
   {
    "duration": 6,
    "start_time": "2021-08-04T07:58:22.938Z"
   },
   {
    "duration": 2227,
    "start_time": "2021-08-04T08:10:45.106Z"
   },
   {
    "duration": 801,
    "start_time": "2021-08-04T08:10:47.336Z"
   },
   {
    "duration": 2811,
    "start_time": "2021-08-04T08:10:48.140Z"
   },
   {
    "duration": 27,
    "start_time": "2021-08-04T08:10:50.955Z"
   },
   {
    "duration": 11997,
    "start_time": "2021-08-04T08:10:50.984Z"
   },
   {
    "duration": 131034,
    "start_time": "2021-08-04T08:11:02.983Z"
   },
   {
    "duration": 61,
    "start_time": "2021-08-04T08:13:14.020Z"
   },
   {
    "duration": 13501,
    "start_time": "2021-08-04T08:13:14.086Z"
   },
   {
    "duration": 12197,
    "start_time": "2021-08-04T08:13:27.591Z"
   },
   {
    "duration": 86834,
    "start_time": "2021-08-04T08:13:39.790Z"
   },
   {
    "duration": 3,
    "start_time": "2021-08-04T08:15:06.626Z"
   },
   {
    "duration": 9,
    "start_time": "2021-08-04T08:15:06.631Z"
   },
   {
    "duration": 276,
    "start_time": "2021-08-04T08:26:47.893Z"
   },
   {
    "duration": 2175,
    "start_time": "2021-08-04T08:26:54.546Z"
   },
   {
    "duration": 794,
    "start_time": "2021-08-04T08:26:56.723Z"
   },
   {
    "duration": 2823,
    "start_time": "2021-08-04T08:26:57.522Z"
   },
   {
    "duration": 54,
    "start_time": "2021-08-04T08:27:00.348Z"
   },
   {
    "duration": 12309,
    "start_time": "2021-08-04T08:27:00.404Z"
   },
   {
    "duration": 129956,
    "start_time": "2021-08-04T08:27:12.715Z"
   },
   {
    "duration": 40,
    "start_time": "2021-08-04T08:29:22.675Z"
   },
   {
    "duration": 9493,
    "start_time": "2021-08-04T08:29:22.718Z"
   },
   {
    "duration": 11063,
    "start_time": "2021-08-04T08:29:32.213Z"
   },
   {
    "duration": 87158,
    "start_time": "2021-08-04T08:29:43.278Z"
   },
   {
    "duration": 3,
    "start_time": "2021-08-04T08:31:10.439Z"
   },
   {
    "duration": 14,
    "start_time": "2021-08-04T08:31:10.444Z"
   },
   {
    "duration": 79,
    "start_time": "2021-08-04T08:31:10.469Z"
   },
   {
    "duration": 2296,
    "start_time": "2021-08-04T08:39:48.172Z"
   },
   {
    "duration": 819,
    "start_time": "2021-08-04T08:39:50.470Z"
   },
   {
    "duration": 2847,
    "start_time": "2021-08-04T08:39:51.295Z"
   },
   {
    "duration": 33,
    "start_time": "2021-08-04T08:39:54.144Z"
   },
   {
    "duration": 12052,
    "start_time": "2021-08-04T08:39:54.179Z"
   },
   {
    "duration": 128791,
    "start_time": "2021-08-04T08:40:06.233Z"
   },
   {
    "duration": 53,
    "start_time": "2021-08-04T08:42:15.027Z"
   },
   {
    "duration": 9623,
    "start_time": "2021-08-04T08:42:15.083Z"
   },
   {
    "duration": 10950,
    "start_time": "2021-08-04T08:42:24.709Z"
   },
   {
    "duration": 86144,
    "start_time": "2021-08-04T08:42:35.666Z"
   },
   {
    "duration": 3,
    "start_time": "2021-08-04T08:44:01.812Z"
   },
   {
    "duration": 23,
    "start_time": "2021-08-04T08:44:01.817Z"
   },
   {
    "duration": 126,
    "start_time": "2021-08-04T08:44:01.844Z"
   },
   {
    "duration": 2289,
    "start_time": "2021-08-04T08:45:28.843Z"
   },
   {
    "duration": 817,
    "start_time": "2021-08-04T08:45:31.135Z"
   },
   {
    "duration": 2814,
    "start_time": "2021-08-04T08:45:31.956Z"
   },
   {
    "duration": 22,
    "start_time": "2021-08-04T08:45:34.772Z"
   },
   {
    "duration": 11971,
    "start_time": "2021-08-04T08:45:34.796Z"
   },
   {
    "duration": 128238,
    "start_time": "2021-08-04T08:45:46.769Z"
   },
   {
    "duration": 57,
    "start_time": "2021-08-04T08:47:55.010Z"
   },
   {
    "duration": 9542,
    "start_time": "2021-08-04T08:47:55.070Z"
   },
   {
    "duration": 11159,
    "start_time": "2021-08-04T08:48:04.615Z"
   },
   {
    "duration": 86194,
    "start_time": "2021-08-04T08:48:15.776Z"
   },
   {
    "duration": 3,
    "start_time": "2021-08-04T08:49:41.972Z"
   },
   {
    "duration": 10,
    "start_time": "2021-08-04T08:49:41.977Z"
   },
   {
    "duration": 119,
    "start_time": "2021-08-04T08:49:41.990Z"
   },
   {
    "duration": 2406,
    "start_time": "2021-08-04T08:51:07.817Z"
   },
   {
    "duration": 797,
    "start_time": "2021-08-04T08:51:12.430Z"
   },
   {
    "duration": 2807,
    "start_time": "2021-08-04T08:51:16.543Z"
   },
   {
    "duration": 16,
    "start_time": "2021-08-04T08:51:22.220Z"
   },
   {
    "duration": 12139,
    "start_time": "2021-08-04T08:51:26.446Z"
   },
   {
    "duration": 130758,
    "start_time": "2021-08-04T08:51:40.646Z"
   },
   {
    "duration": 39,
    "start_time": "2021-08-04T08:54:14.086Z"
   },
   {
    "duration": 42,
    "start_time": "2021-08-04T08:54:24.916Z"
   },
   {
    "duration": 9611,
    "start_time": "2021-08-04T08:54:35.072Z"
   },
   {
    "duration": 1949,
    "start_time": "2021-08-04T09:01:12.280Z"
   },
   {
    "duration": 829,
    "start_time": "2021-08-04T09:01:14.232Z"
   },
   {
    "duration": 2858,
    "start_time": "2021-08-04T09:01:15.069Z"
   },
   {
    "duration": 38,
    "start_time": "2021-08-04T09:01:17.930Z"
   },
   {
    "duration": 12071,
    "start_time": "2021-08-04T09:01:17.971Z"
   },
   {
    "duration": 128790,
    "start_time": "2021-08-04T09:01:30.045Z"
   },
   {
    "duration": 51,
    "start_time": "2021-08-04T09:03:38.838Z"
   },
   {
    "duration": 9419,
    "start_time": "2021-08-04T09:03:38.892Z"
   },
   {
    "duration": 11067,
    "start_time": "2021-08-04T09:03:48.314Z"
   },
   {
    "duration": 87487,
    "start_time": "2021-08-04T09:03:59.384Z"
   },
   {
    "duration": 4,
    "start_time": "2021-08-04T09:05:26.874Z"
   },
   {
    "duration": 7,
    "start_time": "2021-08-04T09:05:26.881Z"
   },
   {
    "duration": 102,
    "start_time": "2021-08-04T09:05:26.891Z"
   },
   {
    "duration": 4,
    "start_time": "2021-08-04T09:05:26.996Z"
   },
   {
    "duration": 9669,
    "start_time": "2021-08-04T09:05:27.002Z"
   },
   {
    "duration": 240,
    "start_time": "2021-08-04T09:05:36.674Z"
   },
   {
    "duration": 85,
    "start_time": "2021-08-04T09:08:13.345Z"
   },
   {
    "duration": 4,
    "start_time": "2021-08-04T09:08:17.156Z"
   },
   {
    "duration": 9568,
    "start_time": "2021-08-04T09:08:36.391Z"
   },
   {
    "duration": 2286,
    "start_time": "2021-08-04T09:10:54.753Z"
   },
   {
    "duration": 795,
    "start_time": "2021-08-04T09:10:57.042Z"
   },
   {
    "duration": 2830,
    "start_time": "2021-08-04T09:10:57.840Z"
   },
   {
    "duration": 33,
    "start_time": "2021-08-04T09:11:00.674Z"
   },
   {
    "duration": 12089,
    "start_time": "2021-08-04T09:11:00.709Z"
   },
   {
    "duration": 129377,
    "start_time": "2021-08-04T09:11:12.801Z"
   },
   {
    "duration": 39,
    "start_time": "2021-08-04T09:13:22.180Z"
   },
   {
    "duration": 9595,
    "start_time": "2021-08-04T09:13:22.223Z"
   },
   {
    "duration": 11173,
    "start_time": "2021-08-04T09:13:31.821Z"
   },
   {
    "duration": 87734,
    "start_time": "2021-08-04T09:13:42.996Z"
   },
   {
    "duration": 2,
    "start_time": "2021-08-04T09:15:10.733Z"
   },
   {
    "duration": 13,
    "start_time": "2021-08-04T09:15:10.738Z"
   },
   {
    "duration": 90,
    "start_time": "2021-08-04T09:15:10.754Z"
   },
   {
    "duration": 4,
    "start_time": "2021-08-04T09:15:10.846Z"
   },
   {
    "duration": 417,
    "start_time": "2021-08-04T09:15:10.868Z"
   },
   {
    "duration": 241,
    "start_time": "2021-08-04T09:15:11.287Z"
   },
   {
    "duration": 2288,
    "start_time": "2021-08-04T09:18:38.841Z"
   },
   {
    "duration": 811,
    "start_time": "2021-08-04T09:18:41.133Z"
   },
   {
    "duration": 2822,
    "start_time": "2021-08-04T09:18:41.948Z"
   },
   {
    "duration": 19,
    "start_time": "2021-08-04T09:18:44.773Z"
   },
   {
    "duration": 12000,
    "start_time": "2021-08-04T09:18:44.795Z"
   },
   {
    "duration": 134641,
    "start_time": "2021-08-04T09:18:56.798Z"
   },
   {
    "duration": 50,
    "start_time": "2021-08-04T09:21:11.442Z"
   },
   {
    "duration": 9139,
    "start_time": "2021-08-04T09:21:11.494Z"
   },
   {
    "duration": 11174,
    "start_time": "2021-08-04T09:21:20.636Z"
   },
   {
    "duration": 86836,
    "start_time": "2021-08-04T09:21:31.812Z"
   },
   {
    "duration": 3,
    "start_time": "2021-08-04T09:22:58.651Z"
   },
   {
    "duration": 3,
    "start_time": "2021-08-04T09:22:58.667Z"
   },
   {
    "duration": 2312,
    "start_time": "2021-08-04T09:24:44.367Z"
   },
   {
    "duration": 873,
    "start_time": "2021-08-04T09:24:46.683Z"
   },
   {
    "duration": 2826,
    "start_time": "2021-08-04T09:24:47.559Z"
   },
   {
    "duration": 22,
    "start_time": "2021-08-04T09:24:50.387Z"
   },
   {
    "duration": 12076,
    "start_time": "2021-08-04T09:24:50.412Z"
   },
   {
    "duration": 133835,
    "start_time": "2021-08-04T09:25:02.490Z"
   },
   {
    "duration": 50,
    "start_time": "2021-08-04T09:27:16.328Z"
   },
   {
    "duration": 9359,
    "start_time": "2021-08-04T09:27:16.382Z"
   },
   {
    "duration": 10997,
    "start_time": "2021-08-04T09:27:25.744Z"
   },
   {
    "duration": 86651,
    "start_time": "2021-08-04T09:27:36.744Z"
   },
   {
    "duration": 4,
    "start_time": "2021-08-04T09:29:03.398Z"
   },
   {
    "duration": 7,
    "start_time": "2021-08-04T09:29:03.405Z"
   },
   {
    "duration": 110,
    "start_time": "2021-08-04T09:29:03.414Z"
   },
   {
    "duration": 5,
    "start_time": "2021-08-04T09:29:03.527Z"
   },
   {
    "duration": 2246,
    "start_time": "2021-08-04T09:38:52.194Z"
   },
   {
    "duration": 798,
    "start_time": "2021-08-04T09:38:54.443Z"
   },
   {
    "duration": 2814,
    "start_time": "2021-08-04T09:38:55.245Z"
   },
   {
    "duration": 17,
    "start_time": "2021-08-04T09:38:58.068Z"
   },
   {
    "duration": 11992,
    "start_time": "2021-08-04T09:38:58.087Z"
   },
   {
    "duration": 129434,
    "start_time": "2021-08-04T09:39:10.082Z"
   },
   {
    "duration": 50,
    "start_time": "2021-08-04T09:41:19.519Z"
   },
   {
    "duration": 9162,
    "start_time": "2021-08-04T09:41:19.572Z"
   },
   {
    "duration": 11024,
    "start_time": "2021-08-04T09:41:28.737Z"
   },
   {
    "duration": 86234,
    "start_time": "2021-08-04T09:41:39.764Z"
   },
   {
    "duration": 2,
    "start_time": "2021-08-04T09:43:06.001Z"
   },
   {
    "duration": 16,
    "start_time": "2021-08-04T09:43:06.006Z"
   },
   {
    "duration": 87,
    "start_time": "2021-08-04T09:43:06.025Z"
   },
   {
    "duration": 3,
    "start_time": "2021-08-04T09:43:06.114Z"
   },
   {
    "duration": 8,
    "start_time": "2021-08-04T09:43:06.119Z"
   },
   {
    "duration": 1026,
    "start_time": "2021-08-04T09:43:06.129Z"
   },
   {
    "duration": 1380,
    "start_time": "2021-08-04T09:43:07.157Z"
   },
   {
    "duration": 841,
    "start_time": "2021-08-04T09:43:08.540Z"
   },
   {
    "duration": 365,
    "start_time": "2021-08-04T09:53:29.655Z"
   },
   {
    "duration": 400,
    "start_time": "2021-08-04T09:54:33.910Z"
   },
   {
    "duration": 1102,
    "start_time": "2021-08-04T09:54:51.405Z"
   },
   {
    "duration": 20,
    "start_time": "2021-08-04T09:55:30.435Z"
   },
   {
    "duration": 1750,
    "start_time": "2021-08-04T09:55:37.177Z"
   },
   {
    "duration": 1238,
    "start_time": "2021-08-04T09:55:45.868Z"
   },
   {
    "duration": 5866,
    "start_time": "2021-08-04T09:56:02.547Z"
   },
   {
    "duration": 6023,
    "start_time": "2021-08-04T09:56:42.392Z"
   },
   {
    "duration": 1212,
    "start_time": "2021-08-04T09:56:55.693Z"
   },
   {
    "duration": 3423,
    "start_time": "2021-08-04T09:57:15.944Z"
   },
   {
    "duration": 1921,
    "start_time": "2021-08-04T10:05:52.882Z"
   },
   {
    "duration": 906,
    "start_time": "2021-08-04T10:05:54.805Z"
   },
   {
    "duration": 2857,
    "start_time": "2021-08-04T10:05:55.714Z"
   },
   {
    "duration": 29,
    "start_time": "2021-08-04T10:05:58.575Z"
   },
   {
    "duration": 12151,
    "start_time": "2021-08-04T10:05:58.607Z"
   },
   {
    "duration": 129141,
    "start_time": "2021-08-04T10:06:10.761Z"
   },
   {
    "duration": 38,
    "start_time": "2021-08-04T10:08:19.905Z"
   },
   {
    "duration": 9616,
    "start_time": "2021-08-04T10:08:19.947Z"
   },
   {
    "duration": 10965,
    "start_time": "2021-08-04T10:08:29.566Z"
   },
   {
    "duration": 87326,
    "start_time": "2021-08-04T10:08:40.534Z"
   },
   {
    "duration": 3,
    "start_time": "2021-08-04T10:10:07.866Z"
   },
   {
    "duration": 7,
    "start_time": "2021-08-04T10:10:07.871Z"
   },
   {
    "duration": 93,
    "start_time": "2021-08-04T10:10:07.881Z"
   },
   {
    "duration": 3,
    "start_time": "2021-08-04T10:10:07.976Z"
   },
   {
    "duration": 6,
    "start_time": "2021-08-04T10:10:07.981Z"
   },
   {
    "duration": 49,
    "start_time": "2021-08-04T10:10:07.990Z"
   },
   {
    "duration": 2257,
    "start_time": "2021-08-04T10:10:08.041Z"
   },
   {
    "duration": 4606,
    "start_time": "2021-08-04T10:10:10.300Z"
   },
   {
    "duration": 3503,
    "start_time": "2021-08-04T10:11:56.849Z"
   },
   {
    "duration": 6945,
    "start_time": "2021-08-04T10:12:14.641Z"
   },
   {
    "duration": 9827,
    "start_time": "2021-08-04T10:12:38.643Z"
   },
   {
    "duration": 11953,
    "start_time": "2021-08-04T10:12:52.509Z"
   },
   {
    "duration": 288,
    "start_time": "2021-08-04T10:26:08.019Z"
   },
   {
    "duration": 2285,
    "start_time": "2021-08-04T10:26:19.007Z"
   },
   {
    "duration": 832,
    "start_time": "2021-08-04T10:26:21.295Z"
   },
   {
    "duration": 2871,
    "start_time": "2021-08-04T10:26:22.130Z"
   },
   {
    "duration": 30,
    "start_time": "2021-08-04T10:26:25.005Z"
   },
   {
    "duration": 12763,
    "start_time": "2021-08-04T10:26:25.037Z"
   },
   {
    "duration": 135492,
    "start_time": "2021-08-04T10:26:37.802Z"
   },
   {
    "duration": 39,
    "start_time": "2021-08-04T10:28:53.296Z"
   },
   {
    "duration": 10344,
    "start_time": "2021-08-04T10:28:53.337Z"
   },
   {
    "duration": 11046,
    "start_time": "2021-08-04T10:29:03.685Z"
   },
   {
    "duration": 89647,
    "start_time": "2021-08-04T10:29:14.734Z"
   },
   {
    "duration": 3,
    "start_time": "2021-08-04T10:30:44.384Z"
   },
   {
    "duration": 15,
    "start_time": "2021-08-04T10:30:44.389Z"
   },
   {
    "duration": 97,
    "start_time": "2021-08-04T10:30:44.406Z"
   },
   {
    "duration": 3,
    "start_time": "2021-08-04T10:30:44.505Z"
   },
   {
    "duration": 66,
    "start_time": "2021-08-04T10:30:44.510Z"
   },
   {
    "duration": 2634,
    "start_time": "2021-08-04T10:30:44.579Z"
   },
   {
    "duration": 11372,
    "start_time": "2021-08-04T10:30:47.216Z"
   },
   {
    "duration": 2309,
    "start_time": "2021-08-04T10:42:24.378Z"
   },
   {
    "duration": 829,
    "start_time": "2021-08-04T10:42:26.689Z"
   },
   {
    "duration": 2971,
    "start_time": "2021-08-04T10:42:27.522Z"
   },
   {
    "duration": 34,
    "start_time": "2021-08-04T10:42:30.496Z"
   },
   {
    "duration": 13002,
    "start_time": "2021-08-04T10:42:30.533Z"
   },
   {
    "duration": 136958,
    "start_time": "2021-08-04T10:42:43.538Z"
   },
   {
    "duration": 39,
    "start_time": "2021-08-04T10:45:00.499Z"
   },
   {
    "duration": 10212,
    "start_time": "2021-08-04T10:45:00.542Z"
   },
   {
    "duration": 11291,
    "start_time": "2021-08-04T10:45:10.757Z"
   },
   {
    "duration": 93925,
    "start_time": "2021-08-04T10:45:22.050Z"
   },
   {
    "duration": 4,
    "start_time": "2021-08-04T10:46:55.978Z"
   },
   {
    "duration": 9,
    "start_time": "2021-08-04T10:46:55.984Z"
   },
   {
    "duration": 107,
    "start_time": "2021-08-04T10:46:55.996Z"
   },
   {
    "duration": 3,
    "start_time": "2021-08-04T10:46:56.105Z"
   },
   {
    "duration": 63,
    "start_time": "2021-08-04T10:46:56.111Z"
   },
   {
    "duration": 1828,
    "start_time": "2021-08-04T10:46:56.180Z"
   },
   {
    "duration": 11569,
    "start_time": "2021-08-04T10:46:58.011Z"
   },
   {
    "duration": 2286,
    "start_time": "2021-08-04T10:57:25.995Z"
   },
   {
    "duration": 803,
    "start_time": "2021-08-04T10:57:28.283Z"
   },
   {
    "duration": 18,
    "start_time": "2021-08-04T10:57:29.089Z"
   },
   {
    "duration": 12666,
    "start_time": "2021-08-04T10:57:29.110Z"
   },
   {
    "duration": 130552,
    "start_time": "2021-08-04T10:57:41.778Z"
   },
   {
    "duration": 9458,
    "start_time": "2021-08-04T10:59:52.333Z"
   },
   {
    "duration": 11179,
    "start_time": "2021-08-04T11:00:01.794Z"
   },
   {
    "duration": 89160,
    "start_time": "2021-08-04T11:00:12.978Z"
   },
   {
    "duration": 3,
    "start_time": "2021-08-04T11:01:42.141Z"
   },
   {
    "duration": 18,
    "start_time": "2021-08-04T11:01:42.146Z"
   },
   {
    "duration": 6,
    "start_time": "2021-08-04T11:01:42.167Z"
   },
   {
    "duration": 60,
    "start_time": "2021-08-04T11:01:42.175Z"
   },
   {
    "duration": 2055,
    "start_time": "2021-08-04T11:01:42.237Z"
   },
   {
    "duration": 11465,
    "start_time": "2021-08-04T11:01:44.295Z"
   },
   {
    "duration": 122876,
    "start_time": "2021-08-04T11:01:55.762Z"
   },
   {
    "duration": 260,
    "start_time": "2021-08-04T11:03:58.641Z"
   },
   {
    "duration": 959,
    "start_time": "2021-08-04T11:06:18.905Z"
   },
   {
    "duration": 123202,
    "start_time": "2021-08-04T11:07:24.243Z"
   },
   {
    "duration": 288,
    "start_time": "2021-08-04T11:09:32.082Z"
   },
   {
    "duration": 639314,
    "start_time": "2021-08-04T11:13:07.554Z"
   },
   {
    "duration": 2674,
    "start_time": "2021-08-04T11:23:49.306Z"
   },
   {
    "duration": 69430,
    "start_time": "2021-08-04T11:24:15.864Z"
   },
   {
    "duration": 2073,
    "start_time": "2021-08-04T11:25:31.218Z"
   },
   {
    "duration": 382831,
    "start_time": "2021-08-04T11:26:40.561Z"
   },
   {
    "duration": 5309,
    "start_time": "2021-08-04T11:49:44.574Z"
   },
   {
    "duration": 1871,
    "start_time": "2021-08-04T11:52:10.369Z"
   },
   {
    "duration": 817,
    "start_time": "2021-08-04T11:52:12.242Z"
   },
   {
    "duration": 19,
    "start_time": "2021-08-04T11:52:13.069Z"
   },
   {
    "duration": 11953,
    "start_time": "2021-08-04T11:52:13.091Z"
   },
   {
    "duration": 131924,
    "start_time": "2021-08-04T11:52:25.047Z"
   },
   {
    "duration": 9419,
    "start_time": "2021-08-04T11:54:36.975Z"
   },
   {
    "duration": 12091,
    "start_time": "2021-08-04T11:54:46.397Z"
   },
   {
    "duration": 87401,
    "start_time": "2021-08-04T11:54:58.492Z"
   },
   {
    "duration": 413899,
    "start_time": "2021-08-04T11:56:25.895Z"
   },
   {
    "duration": 5287,
    "start_time": "2021-08-04T12:03:19.797Z"
   },
   {
    "duration": 634612,
    "start_time": "2021-08-04T12:03:25.088Z"
   },
   {
    "duration": 2625,
    "start_time": "2021-08-04T12:13:59.703Z"
   },
   {
    "duration": 3,
    "start_time": "2021-08-04T12:14:02.331Z"
   },
   {
    "duration": 71,
    "start_time": "2021-08-04T12:14:02.336Z"
   },
   {
    "duration": 1993,
    "start_time": "2021-08-04T12:14:02.410Z"
   },
   {
    "duration": 11429,
    "start_time": "2021-08-04T12:14:04.406Z"
   },
   {
    "duration": 126319,
    "start_time": "2021-08-04T12:14:15.837Z"
   },
   {
    "duration": 308,
    "start_time": "2021-08-04T12:16:22.159Z"
   },
   {
    "duration": 7561,
    "start_time": "2021-08-04T12:16:46.527Z"
   },
   {
    "duration": 4679,
    "start_time": "2021-08-04T12:17:06.704Z"
   },
   {
    "duration": 3735,
    "start_time": "2021-08-04T12:17:19.302Z"
   },
   {
    "duration": 6,
    "start_time": "2021-08-04T12:25:25.051Z"
   },
   {
    "duration": 13,
    "start_time": "2021-08-04T12:25:27.087Z"
   }
  ],
  "kernelspec": {
   "display_name": "Python 3 (ipykernel)",
   "language": "python",
   "name": "python3"
  },
  "language_info": {
   "codemirror_mode": {
    "name": "ipython",
    "version": 3
   },
   "file_extension": ".py",
   "mimetype": "text/x-python",
   "name": "python",
   "nbconvert_exporter": "python",
   "pygments_lexer": "ipython3",
   "version": "3.9.13"
  },
  "toc": {
   "base_numbering": 1,
   "nav_menu": {},
   "number_sections": true,
   "sideBar": true,
   "skip_h1_title": true,
   "title_cell": "Содержание",
   "title_sidebar": "Contents",
   "toc_cell": true,
   "toc_position": {
    "height": "calc(100% - 180px)",
    "left": "10px",
    "top": "150px",
    "width": "302.391px"
   },
   "toc_section_display": true,
   "toc_window_display": false
  }
 },
 "nbformat": 4,
 "nbformat_minor": 2
}
