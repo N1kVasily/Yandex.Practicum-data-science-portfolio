{
 "cells": [
  {
   "cell_type": "markdown",
   "metadata": {},
   "source": [
    "# Определение стоимости автомобилей"
   ]
  },
  {
   "cell_type": "markdown",
   "metadata": {},
   "source": [
    "## Подготовка данных"
   ]
  },
  {
   "cell_type": "code",
   "execution_count": 1,
   "metadata": {},
   "outputs": [],
   "source": [
    "import pandas as pd\n",
    "import numpy as np\n",
    "import matplotlib.pyplot as plt\n",
    "from sklearn.metrics import f1_score\n",
    "from sklearn.metrics import accuracy_score\n",
    "from sklearn.metrics import mean_squared_error\n",
    "from sklearn.metrics import roc_auc_score\n",
    "from sklearn.preprocessing import StandardScaler\n",
    "from sklearn.model_selection import train_test_split\n",
    "from sklearn.utils import shuffle\n",
    "from sklearn.linear_model import LinearRegression\n",
    "from sklearn.tree import DecisionTreeRegressor\n",
    "from sklearn.ensemble import RandomForestRegressor\n",
    "import warnings\n",
    "\n",
    "warnings.filterwarnings('ignore')\n",
    "pd.options.mode.chained_assignment = None"
   ]
  },
  {
   "cell_type": "code",
   "execution_count": 2,
   "metadata": {
    "scrolled": false
   },
   "outputs": [
    {
     "data": {
      "text/html": [
       "<div>\n",
       "<style scoped>\n",
       "    .dataframe tbody tr th:only-of-type {\n",
       "        vertical-align: middle;\n",
       "    }\n",
       "\n",
       "    .dataframe tbody tr th {\n",
       "        vertical-align: top;\n",
       "    }\n",
       "\n",
       "    .dataframe thead th {\n",
       "        text-align: right;\n",
       "    }\n",
       "</style>\n",
       "<table border=\"1\" class=\"dataframe\">\n",
       "  <thead>\n",
       "    <tr style=\"text-align: right;\">\n",
       "      <th></th>\n",
       "      <th>DateCrawled</th>\n",
       "      <th>Price</th>\n",
       "      <th>VehicleType</th>\n",
       "      <th>RegistrationYear</th>\n",
       "      <th>Gearbox</th>\n",
       "      <th>Power</th>\n",
       "      <th>Model</th>\n",
       "      <th>Kilometer</th>\n",
       "      <th>RegistrationMonth</th>\n",
       "      <th>FuelType</th>\n",
       "      <th>Brand</th>\n",
       "      <th>NotRepaired</th>\n",
       "      <th>DateCreated</th>\n",
       "      <th>NumberOfPictures</th>\n",
       "      <th>PostalCode</th>\n",
       "      <th>LastSeen</th>\n",
       "    </tr>\n",
       "  </thead>\n",
       "  <tbody>\n",
       "    <tr>\n",
       "      <th>0</th>\n",
       "      <td>2016-03-24 11:52:17</td>\n",
       "      <td>480</td>\n",
       "      <td>NaN</td>\n",
       "      <td>1993</td>\n",
       "      <td>manual</td>\n",
       "      <td>0</td>\n",
       "      <td>golf</td>\n",
       "      <td>150000</td>\n",
       "      <td>0</td>\n",
       "      <td>petrol</td>\n",
       "      <td>volkswagen</td>\n",
       "      <td>NaN</td>\n",
       "      <td>2016-03-24 00:00:00</td>\n",
       "      <td>0</td>\n",
       "      <td>70435</td>\n",
       "      <td>2016-04-07 03:16:57</td>\n",
       "    </tr>\n",
       "    <tr>\n",
       "      <th>1</th>\n",
       "      <td>2016-03-24 10:58:45</td>\n",
       "      <td>18300</td>\n",
       "      <td>coupe</td>\n",
       "      <td>2011</td>\n",
       "      <td>manual</td>\n",
       "      <td>190</td>\n",
       "      <td>NaN</td>\n",
       "      <td>125000</td>\n",
       "      <td>5</td>\n",
       "      <td>gasoline</td>\n",
       "      <td>audi</td>\n",
       "      <td>yes</td>\n",
       "      <td>2016-03-24 00:00:00</td>\n",
       "      <td>0</td>\n",
       "      <td>66954</td>\n",
       "      <td>2016-04-07 01:46:50</td>\n",
       "    </tr>\n",
       "    <tr>\n",
       "      <th>2</th>\n",
       "      <td>2016-03-14 12:52:21</td>\n",
       "      <td>9800</td>\n",
       "      <td>suv</td>\n",
       "      <td>2004</td>\n",
       "      <td>auto</td>\n",
       "      <td>163</td>\n",
       "      <td>grand</td>\n",
       "      <td>125000</td>\n",
       "      <td>8</td>\n",
       "      <td>gasoline</td>\n",
       "      <td>jeep</td>\n",
       "      <td>NaN</td>\n",
       "      <td>2016-03-14 00:00:00</td>\n",
       "      <td>0</td>\n",
       "      <td>90480</td>\n",
       "      <td>2016-04-05 12:47:46</td>\n",
       "    </tr>\n",
       "    <tr>\n",
       "      <th>3</th>\n",
       "      <td>2016-03-17 16:54:04</td>\n",
       "      <td>1500</td>\n",
       "      <td>small</td>\n",
       "      <td>2001</td>\n",
       "      <td>manual</td>\n",
       "      <td>75</td>\n",
       "      <td>golf</td>\n",
       "      <td>150000</td>\n",
       "      <td>6</td>\n",
       "      <td>petrol</td>\n",
       "      <td>volkswagen</td>\n",
       "      <td>no</td>\n",
       "      <td>2016-03-17 00:00:00</td>\n",
       "      <td>0</td>\n",
       "      <td>91074</td>\n",
       "      <td>2016-03-17 17:40:17</td>\n",
       "    </tr>\n",
       "    <tr>\n",
       "      <th>4</th>\n",
       "      <td>2016-03-31 17:25:20</td>\n",
       "      <td>3600</td>\n",
       "      <td>small</td>\n",
       "      <td>2008</td>\n",
       "      <td>manual</td>\n",
       "      <td>69</td>\n",
       "      <td>fabia</td>\n",
       "      <td>90000</td>\n",
       "      <td>7</td>\n",
       "      <td>gasoline</td>\n",
       "      <td>skoda</td>\n",
       "      <td>no</td>\n",
       "      <td>2016-03-31 00:00:00</td>\n",
       "      <td>0</td>\n",
       "      <td>60437</td>\n",
       "      <td>2016-04-06 10:17:21</td>\n",
       "    </tr>\n",
       "  </tbody>\n",
       "</table>\n",
       "</div>"
      ],
      "text/plain": [
       "           DateCrawled  Price VehicleType  RegistrationYear Gearbox  Power  \\\n",
       "0  2016-03-24 11:52:17    480         NaN              1993  manual      0   \n",
       "1  2016-03-24 10:58:45  18300       coupe              2011  manual    190   \n",
       "2  2016-03-14 12:52:21   9800         suv              2004    auto    163   \n",
       "3  2016-03-17 16:54:04   1500       small              2001  manual     75   \n",
       "4  2016-03-31 17:25:20   3600       small              2008  manual     69   \n",
       "\n",
       "   Model  Kilometer  RegistrationMonth  FuelType       Brand NotRepaired  \\\n",
       "0   golf     150000                  0    petrol  volkswagen         NaN   \n",
       "1    NaN     125000                  5  gasoline        audi         yes   \n",
       "2  grand     125000                  8  gasoline        jeep         NaN   \n",
       "3   golf     150000                  6    petrol  volkswagen          no   \n",
       "4  fabia      90000                  7  gasoline       skoda          no   \n",
       "\n",
       "           DateCreated  NumberOfPictures  PostalCode             LastSeen  \n",
       "0  2016-03-24 00:00:00                 0       70435  2016-04-07 03:16:57  \n",
       "1  2016-03-24 00:00:00                 0       66954  2016-04-07 01:46:50  \n",
       "2  2016-03-14 00:00:00                 0       90480  2016-04-05 12:47:46  \n",
       "3  2016-03-17 00:00:00                 0       91074  2016-03-17 17:40:17  \n",
       "4  2016-03-31 00:00:00                 0       60437  2016-04-06 10:17:21  "
      ]
     },
     "metadata": {},
     "output_type": "display_data"
    },
    {
     "name": "stdout",
     "output_type": "stream",
     "text": [
      "(354369, 16)\n",
      "\n",
      "<class 'pandas.core.frame.DataFrame'>\n",
      "Int64Index: 354369 entries, 0 to 354368\n",
      "Data columns (total 16 columns):\n",
      " #   Column             Non-Null Count   Dtype \n",
      "---  ------             --------------   ----- \n",
      " 0   DateCrawled        354369 non-null  object\n",
      " 1   Price              354369 non-null  int64 \n",
      " 2   VehicleType        316879 non-null  object\n",
      " 3   RegistrationYear   354369 non-null  int64 \n",
      " 4   Gearbox            334536 non-null  object\n",
      " 5   Power              354369 non-null  int64 \n",
      " 6   Model              334664 non-null  object\n",
      " 7   Kilometer          354369 non-null  int64 \n",
      " 8   RegistrationMonth  354369 non-null  int64 \n",
      " 9   FuelType           321474 non-null  object\n",
      " 10  Brand              354369 non-null  object\n",
      " 11  NotRepaired        283215 non-null  object\n",
      " 12  DateCreated        354369 non-null  object\n",
      " 13  NumberOfPictures   354369 non-null  int64 \n",
      " 14  PostalCode         354369 non-null  int64 \n",
      " 15  LastSeen           354369 non-null  object\n",
      "dtypes: int64(7), object(9)\n",
      "memory usage: 46.0+ MB\n",
      "None\n",
      "\n",
      "Количество дубликатов 4\n",
      "\n",
      "Количество пропусков\n",
      "DateCrawled           0.000000\n",
      "Price                 0.000000\n",
      "VehicleType          10.579368\n",
      "RegistrationYear      0.000000\n",
      "Gearbox               5.596709\n",
      "Power                 0.000000\n",
      "Model                 5.560588\n",
      "Kilometer             0.000000\n",
      "RegistrationMonth     0.000000\n",
      "FuelType              9.282697\n",
      "Brand                 0.000000\n",
      "NotRepaired          20.079070\n",
      "DateCreated           0.000000\n",
      "NumberOfPictures      0.000000\n",
      "PostalCode            0.000000\n",
      "LastSeen              0.000000\n",
      "dtype: float64\n"
     ]
    }
   ],
   "source": [
    "data = pd.read_csv(\"autos.csv\", index_col=[0])\n",
    "display(data.head())\n",
    "print(data.shape)\n",
    "print()\n",
    "print(data.info())\n",
    "print()\n",
    "print('Количество дубликатов', data.duplicated().sum())\n",
    "print()\n",
    "print('Количество пропусков')\n",
    "print(100*data.isna().sum()/len(data))"
   ]
  },
  {
   "cell_type": "markdown",
   "metadata": {},
   "source": [
    "Внушительный датасет из > 350к записей. Отмечаем следующие проблемы с данными:\n",
    "- Пропуски в данных, столбцы: Тип кузова, коробка передач, модель авто, тип топлива для двигателя, чинилась ли?\n",
    "- Лишние строки для обучения: поскольку нет цели определить сколько стоил авто в какой-то момент, столбцы DateCrawled и LastSeen, DateCreated бесполезны для обучения.\n",
    "- Выделили следующие категориальные признаки, которые обработаем техникой OHE: VehicleType, Gearbox, Model, FuelType, Brand, NotRepaired.\n",
    "- Проблемы с типами данных только в категориальных столбцах\n",
    "\n",
    "Начнем с признаков с пропущенными значениями"
   ]
  },
  {
   "cell_type": "code",
   "execution_count": 3,
   "metadata": {
    "scrolled": false
   },
   "outputs": [
    {
     "data": {
      "text/html": [
       "<div>\n",
       "<style scoped>\n",
       "    .dataframe tbody tr th:only-of-type {\n",
       "        vertical-align: middle;\n",
       "    }\n",
       "\n",
       "    .dataframe tbody tr th {\n",
       "        vertical-align: top;\n",
       "    }\n",
       "\n",
       "    .dataframe thead th {\n",
       "        text-align: right;\n",
       "    }\n",
       "</style>\n",
       "<table border=\"1\" class=\"dataframe\">\n",
       "  <thead>\n",
       "    <tr style=\"text-align: right;\">\n",
       "      <th></th>\n",
       "      <th>Price</th>\n",
       "      <th>VehicleType</th>\n",
       "      <th>RegistrationYear</th>\n",
       "      <th>Gearbox</th>\n",
       "      <th>Power</th>\n",
       "      <th>Model</th>\n",
       "      <th>Kilometer</th>\n",
       "      <th>RegistrationMonth</th>\n",
       "      <th>FuelType</th>\n",
       "      <th>Brand</th>\n",
       "      <th>NotRepaired</th>\n",
       "      <th>NumberOfPictures</th>\n",
       "      <th>PostalCode</th>\n",
       "    </tr>\n",
       "  </thead>\n",
       "  <tbody>\n",
       "    <tr>\n",
       "      <th>0</th>\n",
       "      <td>480</td>\n",
       "      <td>NaN</td>\n",
       "      <td>1993</td>\n",
       "      <td>manual</td>\n",
       "      <td>0</td>\n",
       "      <td>golf</td>\n",
       "      <td>150000</td>\n",
       "      <td>0</td>\n",
       "      <td>petrol</td>\n",
       "      <td>volkswagen</td>\n",
       "      <td>NaN</td>\n",
       "      <td>0</td>\n",
       "      <td>70435</td>\n",
       "    </tr>\n",
       "    <tr>\n",
       "      <th>1</th>\n",
       "      <td>18300</td>\n",
       "      <td>coupe</td>\n",
       "      <td>2011</td>\n",
       "      <td>manual</td>\n",
       "      <td>190</td>\n",
       "      <td>NaN</td>\n",
       "      <td>125000</td>\n",
       "      <td>5</td>\n",
       "      <td>gasoline</td>\n",
       "      <td>audi</td>\n",
       "      <td>yes</td>\n",
       "      <td>0</td>\n",
       "      <td>66954</td>\n",
       "    </tr>\n",
       "    <tr>\n",
       "      <th>2</th>\n",
       "      <td>9800</td>\n",
       "      <td>suv</td>\n",
       "      <td>2004</td>\n",
       "      <td>auto</td>\n",
       "      <td>163</td>\n",
       "      <td>grand</td>\n",
       "      <td>125000</td>\n",
       "      <td>8</td>\n",
       "      <td>gasoline</td>\n",
       "      <td>jeep</td>\n",
       "      <td>NaN</td>\n",
       "      <td>0</td>\n",
       "      <td>90480</td>\n",
       "    </tr>\n",
       "    <tr>\n",
       "      <th>3</th>\n",
       "      <td>1500</td>\n",
       "      <td>small</td>\n",
       "      <td>2001</td>\n",
       "      <td>manual</td>\n",
       "      <td>75</td>\n",
       "      <td>golf</td>\n",
       "      <td>150000</td>\n",
       "      <td>6</td>\n",
       "      <td>petrol</td>\n",
       "      <td>volkswagen</td>\n",
       "      <td>no</td>\n",
       "      <td>0</td>\n",
       "      <td>91074</td>\n",
       "    </tr>\n",
       "    <tr>\n",
       "      <th>4</th>\n",
       "      <td>3600</td>\n",
       "      <td>small</td>\n",
       "      <td>2008</td>\n",
       "      <td>manual</td>\n",
       "      <td>69</td>\n",
       "      <td>fabia</td>\n",
       "      <td>90000</td>\n",
       "      <td>7</td>\n",
       "      <td>gasoline</td>\n",
       "      <td>skoda</td>\n",
       "      <td>no</td>\n",
       "      <td>0</td>\n",
       "      <td>60437</td>\n",
       "    </tr>\n",
       "  </tbody>\n",
       "</table>\n",
       "</div>"
      ],
      "text/plain": [
       "   Price VehicleType  RegistrationYear Gearbox  Power  Model  Kilometer  \\\n",
       "0    480         NaN              1993  manual      0   golf     150000   \n",
       "1  18300       coupe              2011  manual    190    NaN     125000   \n",
       "2   9800         suv              2004    auto    163  grand     125000   \n",
       "3   1500       small              2001  manual     75   golf     150000   \n",
       "4   3600       small              2008  manual     69  fabia      90000   \n",
       "\n",
       "   RegistrationMonth  FuelType       Brand NotRepaired  NumberOfPictures  \\\n",
       "0                  0    petrol  volkswagen         NaN                 0   \n",
       "1                  5  gasoline        audi         yes                 0   \n",
       "2                  8  gasoline        jeep         NaN                 0   \n",
       "3                  6    petrol  volkswagen          no                 0   \n",
       "4                  7  gasoline       skoda          no                 0   \n",
       "\n",
       "   PostalCode  \n",
       "0       70435  \n",
       "1       66954  \n",
       "2       90480  \n",
       "3       91074  \n",
       "4       60437  "
      ]
     },
     "metadata": {},
     "output_type": "display_data"
    },
    {
     "name": "stdout",
     "output_type": "stream",
     "text": [
      "[nan 'coupe' 'suv' 'small' 'sedan' 'convertible' 'bus' 'wagon' 'other']\n",
      "['manual' 'auto' nan]\n",
      "['manual' 'auto' 'unknown']\n",
      "\n",
      "['petrol' 'gasoline' nan 'lpg' 'other' 'hybrid' 'cng' 'electric']\n",
      "\n",
      "['unknown' 'no' 'yes']\n",
      "<class 'pandas.core.frame.DataFrame'>\n",
      "Int64Index: 334664 entries, 0 to 354368\n",
      "Data columns (total 13 columns):\n",
      " #   Column             Non-Null Count   Dtype \n",
      "---  ------             --------------   ----- \n",
      " 0   Price              334664 non-null  int64 \n",
      " 1   VehicleType        334664 non-null  object\n",
      " 2   RegistrationYear   334664 non-null  int64 \n",
      " 3   Gearbox            334664 non-null  object\n",
      " 4   Power              334664 non-null  int64 \n",
      " 5   Model              334664 non-null  object\n",
      " 6   Kilometer          334664 non-null  int64 \n",
      " 7   RegistrationMonth  334664 non-null  int64 \n",
      " 8   FuelType           334664 non-null  object\n",
      " 9   Brand              334664 non-null  object\n",
      " 10  NotRepaired        334664 non-null  object\n",
      " 11  NumberOfPictures   334664 non-null  int64 \n",
      " 12  PostalCode         334664 non-null  int64 \n",
      "dtypes: int64(7), object(6)\n",
      "memory usage: 35.7+ MB\n"
     ]
    }
   ],
   "source": [
    "cars = data.copy()\n",
    "cars = cars.drop(columns = ['DateCrawled', 'LastSeen', 'DateCreated'])\n",
    "display(cars.head())\n",
    "print(cars['VehicleType'].unique())\n",
    "\n",
    "#Заменим на новое значение все пропуски в столбце VehicleType\n",
    "cars['VehicleType'] = cars['VehicleType'].fillna('other')\n",
    "#print(cars['VehicleType'].unique())\n",
    "\n",
    "#Заменим на новое значение все пропуски в столбце Gearbox\n",
    "print(cars['Gearbox'].unique())\n",
    "cars['Gearbox'] = cars['Gearbox'].fillna('unknown')\n",
    "print(cars['Gearbox'].unique())\n",
    "\n",
    "# Авто без указания модели явно удаляем, слишком важный параметр, да и данных не так много - около 5%.\n",
    "cars = cars.dropna(subset = ['Model'])\n",
    "#print(cars.info())\n",
    "print()\n",
    "\n",
    "#Заменим на новое значение все пропуски в столбце FuelType\n",
    "print(cars['FuelType'].unique())\n",
    "cars['FuelType'] = cars['FuelType'].fillna('other')\n",
    "#print(cars['FuelType'].unique())\n",
    "print()\n",
    "\n",
    "#Заменим на новое значение все пропуски в столбце NotRepaired\n",
    "cars['NotRepaired'] = cars['NotRepaired'].fillna('unknown')\n",
    "print(cars['NotRepaired'].unique())\n",
    "cars.info()"
   ]
  },
  {
   "cell_type": "markdown",
   "metadata": {},
   "source": [
    "Посмотрим на выбросы:"
   ]
  },
  {
   "cell_type": "code",
   "execution_count": 4,
   "metadata": {},
   "outputs": [
    {
     "name": "stdout",
     "output_type": "stream",
     "text": [
      "count    334664.000000\n",
      "mean       2003.923992\n",
      "std          69.377219\n",
      "min        1000.000000\n",
      "25%        1999.000000\n",
      "50%        2003.000000\n",
      "75%        2008.000000\n",
      "max        9999.000000\n",
      "Name: RegistrationYear, dtype: float64\n",
      "\n",
      "Сколько авто с регистрацией до 1950 года: 121\n",
      "Сколько авто с регистрацией после 2021 года: 63\n",
      "[1993 2004 2001 2008 1995 1980 2014 1998 2005 2011 2016 2007 2009 2002\n",
      " 2018 1997 1990 2017 1981 2003 1994 1991 1984 2006 1999 2012 2010 2000\n",
      " 1992 2013 1996 1985 1989 2015 1982 1976 1983 1973 1969 1971 1987 1986\n",
      " 1988 1965 1970 1974 1955 1978 1979 1972 1968 1977 1961 1960 1966 1975\n",
      " 1963 1954 1967 1964 1962 2019 1951 1959 1953 1958 1956 1952 1957]\n",
      "334466\n"
     ]
    }
   ],
   "source": [
    "print(cars['RegistrationYear'].describe())\n",
    "print()\n",
    "print('Сколько авто с регистрацией до 1950 года:', cars[cars['RegistrationYear'] < 1950]['Price'].count())\n",
    "print('Сколько авто с регистрацией после 2021 года:', cars[cars['RegistrationYear'] > 2021]['Price'].count())\n",
    "#явно стоит удалить эти значения\n",
    "cars = cars[(cars['RegistrationYear'] > 1950) & (cars['RegistrationYear'] < 2022)]\n",
    "print(cars['RegistrationYear'].unique())\n",
    "print(len(cars))\n",
    "#С этими выбросами закончили, перейдем к мощности авто:\n"
   ]
  },
  {
   "cell_type": "code",
   "execution_count": 5,
   "metadata": {},
   "outputs": [
    {
     "name": "stdout",
     "output_type": "stream",
     "text": [
      "\n",
      "Сколько авто с мощностью до 3 л.с.: 33832\n",
      "Сколько авто с мощностью более 1000 л.с.: 260\n",
      "[  0 163  75  69 102 109  50 125 101 105 140 115 131 190  60 136 160 231\n",
      "  90 118 193  99 113 218 122 129  70 306  95  61 177  80 170  55 143  64\n",
      " 232 150 156  82 155 185  87 180  86  84 224 235 200 178 265  77 110 144\n",
      " 120  54 286 116 184 126 204  88 194 305 197 179 250 313  41  45 165  98\n",
      " 130 114 211  56 201 213  58 107  83 174 100 220  85  73 192  66 299  74\n",
      "  52 147  65 310  71  97 239  68 203 300 103 258 320  63  81 148  44 145\n",
      " 280 260 104 188 333 117 141  59 132 234 158  39  92  51 135 230  53 209\n",
      "  43 146  67 106 166 276 344  72 237 245 111 326 279  23 138 175  96 226\n",
      " 301 334 128 133 124  33 219 241 167 182 196 238 228  48 272 139 240 186\n",
      "  79 256 243 375 252 396 340 108 121 187 289 222 198 284  37 450 233 112\n",
      " 387 152 347 172  57 137  94 212 476 314  30   7  47  26 173 290 207 205\n",
      " 171  78  91  89 349  40 325  76 151 953  93 142 500 343 199 164  16 367\n",
      " 208 210  46 435 225 127 176 161 603 307 354  35 206 771 355 273 223 255\n",
      " 123 154 149 268 620 169 400 275  34   2 242 162 329 285 134 420 247 168\n",
      " 215 360  18 330  62 214 183 254  15 321 315 952 328 600 181 119 426 599\n",
      " 379 999 264  22 157  42 195 309 507 381 271 440 401 249 189  21 521   1\n",
      " 270 292 808 515 303  29  38  14 216 610 504 267 331 363 261 253 696 376\n",
      " 227 311  27 217 350  20  10  11  25 394  12 298 296  49   4 294 246   5\n",
      "  17 368 221 259 606  24 327 266 374   9 405  13 601   8 411 900 159 541\n",
      " 287  19 457 236 282 388 385 335 202 805 750 269 460 316 191 278 380 257\n",
      " 449 295 153 288 520 560 281 386  32 430 671 274 277 341 392 338 445 370\n",
      " 517   6 431 371 428  36 304 390 348 579 580 408  31 358 489 262 585 960\n",
      " 353 490 283 352 550 950 251 850 337 700 487 519 751 612 584 322 382 318\n",
      " 510 525  28 685 317 703 514 332 324 530 425 308 475 903 640 362 248 651\n",
      " 505 351 398 409 901 871 909 776 459 357 339 361 574 454 604 607 336 416\n",
      " 678 323 902 572 244 399 743 345 544 645 907 702 540 229 923 754 365 356\n",
      " 364 293 998 800 346 508 551 485 421 377 650   3]\n",
      "334203\n",
      "    Price VehicleType  RegistrationYear  Gearbox  Power     Model  Kilometer  \\\n",
      "0     480       other              1993   manual      0      golf     150000   \n",
      "32    245       sedan              1994  unknown      0      golf     150000   \n",
      "37   1500       other              2016  unknown      0    kangoo     150000   \n",
      "40      0       other              1990  unknown      0     corsa     150000   \n",
      "54   4700       wagon              2005   manual      0    signum     150000   \n",
      "55    550       wagon              1999   manual      0     astra     150000   \n",
      "69   1200       coupe              2001  unknown      0     astra     150000   \n",
      "70    800       small              1993   manual      0      polo     150000   \n",
      "90   2400       sedan              2003   manual      0        a4     150000   \n",
      "94   8390       other              2009  unknown      0  insignia     150000   \n",
      "\n",
      "    RegistrationMonth  FuelType       Brand NotRepaired  NumberOfPictures  \\\n",
      "0                   0    petrol  volkswagen     unknown                 0   \n",
      "32                  2    petrol  volkswagen          no                 0   \n",
      "37                  1  gasoline     renault          no                 0   \n",
      "40                  1    petrol        opel     unknown                 0   \n",
      "54                  0     other        opel          no                 0   \n",
      "55                  8  gasoline        opel         yes                 0   \n",
      "69                  0     other        opel     unknown                 0   \n",
      "70                  3    petrol  volkswagen          no                 0   \n",
      "90                  9  gasoline        audi     unknown                 0   \n",
      "94                  0     other        opel     unknown                 0   \n",
      "\n",
      "    PostalCode  \n",
      "0        70435  \n",
      "32       44145  \n",
      "37       46483  \n",
      "40       56412  \n",
      "54       88433  \n",
      "55       56759  \n",
      "69       47249  \n",
      "70        8258  \n",
      "90       40210  \n",
      "94       29221  \n",
      "34886\n",
      "299024\n"
     ]
    },
    {
     "data": {
      "image/png": "[encoded data removed]",
      "text/plain": [
       "<Figure size 640x480 with 1 Axes>"
      ]
     },
     "metadata": {},
     "output_type": "display_data"
    }
   ],
   "source": [
    "#cars.boxplot(column = 'Power')\n",
    "print()\n",
    "print('Сколько авто с мощностью до 3 л.с.:', cars[cars['Power'] < 3]['Price'].count())\n",
    "print('Сколько авто с мощностью более 1000 л.с.:', cars[cars['Power'] > 1000]['Price'].count())\n",
    "#более 1000 лс удаляем\n",
    "cars = cars[(cars['Power'] < 1000)]\n",
    "print(cars['Power'].unique())\n",
    "print(len(cars))\n",
    "cars.boxplot(column = 'Power')\n",
    "#Изучим строки с мощностью менее 3 л.с.:\n",
    "#print(cars[cars['Power'] <3].tail(15))\n",
    "#Явно это просто не внесенная в анкету информация, авто марок opel и bmw с 0 л.с. не бывает..\n",
    "print(cars[cars['Power'] < 40].head(10))\n",
    "print(cars[cars['Power'] < 40]['Price'].count())\n",
    "#Просмотрев информацию по строкам с 1, 2 л.с. также не назодим ни мопедов, ни велосипедов, поэтому принимаем решение удалить \n",
    "#значения Мощности менее 40 л.с. 35 тыс строк конечно жалко, но точности модели они не добавят..\n",
    "cars = cars[(cars['Power'] > 40)]\n",
    "print(len(cars))"
   ]
  },
  {
   "cell_type": "code",
   "execution_count": 6,
   "metadata": {
    "scrolled": false
   },
   "outputs": [
    {
     "name": "stdout",
     "output_type": "stream",
     "text": [
      "count    299024.000000\n",
      "mean       4768.895490\n",
      "std        4602.614697\n",
      "min           0.000000\n",
      "25%        1299.000000\n",
      "50%        3000.000000\n",
      "75%        6900.000000\n",
      "max       20000.000000\n",
      "Name: Price, dtype: float64\n",
      "6994\n",
      "291491\n"
     ]
    },
    {
     "data": {
      "image/png": "[encoded data removed]",
      "text/plain": [
       "<Figure size 640x480 with 1 Axes>"
      ]
     },
     "metadata": {},
     "output_type": "display_data"
    }
   ],
   "source": [
    "#перейдем наконец к Стоимости авто\n",
    "print(cars['Price'].describe())\n",
    "cars.boxplot(column = 'Price')\n",
    "#бросаются в глаза нулевые значения\n",
    "print(cars[cars['Price'] < 100]['Price'].count())\n",
    "#7 тыс строк придется также удалить\n",
    "cars = cars[cars['Price'] > 100]\n",
    "print(len(cars))"
   ]
  },
  {
   "cell_type": "markdown",
   "metadata": {},
   "source": [
    "Выбросов действительно много, и теперь появляется надежда на существенное улучшение прогнозов моделей. Теперь обработаем категориальные признаки техникой OHE"
   ]
  },
  {
   "cell_type": "code",
   "execution_count": 7,
   "metadata": {
    "scrolled": false
   },
   "outputs": [
    {
     "data": {
      "text/html": [
       "<div>\n",
       "<style scoped>\n",
       "    .dataframe tbody tr th:only-of-type {\n",
       "        vertical-align: middle;\n",
       "    }\n",
       "\n",
       "    .dataframe tbody tr th {\n",
       "        vertical-align: top;\n",
       "    }\n",
       "\n",
       "    .dataframe thead th {\n",
       "        text-align: right;\n",
       "    }\n",
       "</style>\n",
       "<table border=\"1\" class=\"dataframe\">\n",
       "  <thead>\n",
       "    <tr style=\"text-align: right;\">\n",
       "      <th></th>\n",
       "      <th>Price</th>\n",
       "      <th>RegistrationYear</th>\n",
       "      <th>Power</th>\n",
       "      <th>Kilometer</th>\n",
       "      <th>RegistrationMonth</th>\n",
       "      <th>NumberOfPictures</th>\n",
       "      <th>PostalCode</th>\n",
       "      <th>VehicleType_convertible</th>\n",
       "      <th>VehicleType_coupe</th>\n",
       "      <th>VehicleType_other</th>\n",
       "      <th>...</th>\n",
       "      <th>Brand_skoda</th>\n",
       "      <th>Brand_smart</th>\n",
       "      <th>Brand_subaru</th>\n",
       "      <th>Brand_suzuki</th>\n",
       "      <th>Brand_toyota</th>\n",
       "      <th>Brand_trabant</th>\n",
       "      <th>Brand_volkswagen</th>\n",
       "      <th>Brand_volvo</th>\n",
       "      <th>NotRepaired_unknown</th>\n",
       "      <th>NotRepaired_yes</th>\n",
       "    </tr>\n",
       "  </thead>\n",
       "  <tbody>\n",
       "    <tr>\n",
       "      <th>2</th>\n",
       "      <td>9800</td>\n",
       "      <td>2004</td>\n",
       "      <td>163</td>\n",
       "      <td>125000</td>\n",
       "      <td>8</td>\n",
       "      <td>0</td>\n",
       "      <td>90480</td>\n",
       "      <td>0</td>\n",
       "      <td>0</td>\n",
       "      <td>0</td>\n",
       "      <td>...</td>\n",
       "      <td>0</td>\n",
       "      <td>0</td>\n",
       "      <td>0</td>\n",
       "      <td>0</td>\n",
       "      <td>0</td>\n",
       "      <td>0</td>\n",
       "      <td>0</td>\n",
       "      <td>0</td>\n",
       "      <td>1</td>\n",
       "      <td>0</td>\n",
       "    </tr>\n",
       "    <tr>\n",
       "      <th>3</th>\n",
       "      <td>1500</td>\n",
       "      <td>2001</td>\n",
       "      <td>75</td>\n",
       "      <td>150000</td>\n",
       "      <td>6</td>\n",
       "      <td>0</td>\n",
       "      <td>91074</td>\n",
       "      <td>0</td>\n",
       "      <td>0</td>\n",
       "      <td>0</td>\n",
       "      <td>...</td>\n",
       "      <td>0</td>\n",
       "      <td>0</td>\n",
       "      <td>0</td>\n",
       "      <td>0</td>\n",
       "      <td>0</td>\n",
       "      <td>0</td>\n",
       "      <td>1</td>\n",
       "      <td>0</td>\n",
       "      <td>0</td>\n",
       "      <td>0</td>\n",
       "    </tr>\n",
       "    <tr>\n",
       "      <th>4</th>\n",
       "      <td>3600</td>\n",
       "      <td>2008</td>\n",
       "      <td>69</td>\n",
       "      <td>90000</td>\n",
       "      <td>7</td>\n",
       "      <td>0</td>\n",
       "      <td>60437</td>\n",
       "      <td>0</td>\n",
       "      <td>0</td>\n",
       "      <td>0</td>\n",
       "      <td>...</td>\n",
       "      <td>1</td>\n",
       "      <td>0</td>\n",
       "      <td>0</td>\n",
       "      <td>0</td>\n",
       "      <td>0</td>\n",
       "      <td>0</td>\n",
       "      <td>0</td>\n",
       "      <td>0</td>\n",
       "      <td>0</td>\n",
       "      <td>0</td>\n",
       "    </tr>\n",
       "    <tr>\n",
       "      <th>5</th>\n",
       "      <td>650</td>\n",
       "      <td>1995</td>\n",
       "      <td>102</td>\n",
       "      <td>150000</td>\n",
       "      <td>10</td>\n",
       "      <td>0</td>\n",
       "      <td>33775</td>\n",
       "      <td>0</td>\n",
       "      <td>0</td>\n",
       "      <td>0</td>\n",
       "      <td>...</td>\n",
       "      <td>0</td>\n",
       "      <td>0</td>\n",
       "      <td>0</td>\n",
       "      <td>0</td>\n",
       "      <td>0</td>\n",
       "      <td>0</td>\n",
       "      <td>0</td>\n",
       "      <td>0</td>\n",
       "      <td>0</td>\n",
       "      <td>1</td>\n",
       "    </tr>\n",
       "    <tr>\n",
       "      <th>6</th>\n",
       "      <td>2200</td>\n",
       "      <td>2004</td>\n",
       "      <td>109</td>\n",
       "      <td>150000</td>\n",
       "      <td>8</td>\n",
       "      <td>0</td>\n",
       "      <td>67112</td>\n",
       "      <td>1</td>\n",
       "      <td>0</td>\n",
       "      <td>0</td>\n",
       "      <td>...</td>\n",
       "      <td>0</td>\n",
       "      <td>0</td>\n",
       "      <td>0</td>\n",
       "      <td>0</td>\n",
       "      <td>0</td>\n",
       "      <td>0</td>\n",
       "      <td>0</td>\n",
       "      <td>0</td>\n",
       "      <td>0</td>\n",
       "      <td>0</td>\n",
       "    </tr>\n",
       "  </tbody>\n",
       "</table>\n",
       "<p>5 rows × 310 columns</p>\n",
       "</div>"
      ],
      "text/plain": [
       "   Price  RegistrationYear  Power  Kilometer  RegistrationMonth  \\\n",
       "2   9800              2004    163     125000                  8   \n",
       "3   1500              2001     75     150000                  6   \n",
       "4   3600              2008     69      90000                  7   \n",
       "5    650              1995    102     150000                 10   \n",
       "6   2200              2004    109     150000                  8   \n",
       "\n",
       "   NumberOfPictures  PostalCode  VehicleType_convertible  VehicleType_coupe  \\\n",
       "2                 0       90480                        0                  0   \n",
       "3                 0       91074                        0                  0   \n",
       "4                 0       60437                        0                  0   \n",
       "5                 0       33775                        0                  0   \n",
       "6                 0       67112                        1                  0   \n",
       "\n",
       "   VehicleType_other  ...  Brand_skoda  Brand_smart  Brand_subaru  \\\n",
       "2                  0  ...            0            0             0   \n",
       "3                  0  ...            0            0             0   \n",
       "4                  0  ...            1            0             0   \n",
       "5                  0  ...            0            0             0   \n",
       "6                  0  ...            0            0             0   \n",
       "\n",
       "   Brand_suzuki  Brand_toyota  Brand_trabant  Brand_volkswagen  Brand_volvo  \\\n",
       "2             0             0              0                 0            0   \n",
       "3             0             0              0                 1            0   \n",
       "4             0             0              0                 0            0   \n",
       "5             0             0              0                 0            0   \n",
       "6             0             0              0                 0            0   \n",
       "\n",
       "   NotRepaired_unknown  NotRepaired_yes  \n",
       "2                    1                0  \n",
       "3                    0                0  \n",
       "4                    0                0  \n",
       "5                    0                1  \n",
       "6                    0                0  \n",
       "\n",
       "[5 rows x 310 columns]"
      ]
     },
     "metadata": {},
     "output_type": "display_data"
    }
   ],
   "source": [
    "cars_ohe = pd.get_dummies(cars, drop_first = True)\n",
    "display(cars_ohe.head())"
   ]
  },
  {
   "cell_type": "markdown",
   "metadata": {},
   "source": [
    "OHE проверили, пора подготовить наборы для обучения, проведем масштабирование признаков:"
   ]
  },
  {
   "cell_type": "code",
   "execution_count": 8,
   "metadata": {},
   "outputs": [
    {
     "name": "stdout",
     "output_type": "stream",
     "text": [
      "(174894, 309)\n",
      "(58298, 309)\n",
      "(58299, 309)\n"
     ]
    }
   ],
   "source": [
    "target = cars_ohe['Price']\n",
    "features = cars_ohe.drop(['Price'], axis = 1)\n",
    "\n",
    "#Подготовка обучающей, валидационной и тестовой выборок:\n",
    "features_train, features_second, target_train, target_second = train_test_split(features, target, test_size = 0.4, random_state = 12345)\n",
    "features_valid, features_test, target_valid, target_test = train_test_split(features_second, target_second, test_size = 0.5, random_state = 12345)\n",
    "\n",
    "print(features_train.shape)\n",
    "print(features_valid.shape)\n",
    "print(features_test.shape)\n",
    "\n",
    "#Масшиабирование признаков:\n",
    "scaler = StandardScaler()\n",
    "scaler.fit(features[features.columns])\n",
    "\n",
    "features_train[features.columns] = scaler.transform(features_train[features.columns])\n",
    "features_valid[features.columns] = scaler.transform(features_valid[features.columns])\n",
    "features_test[features.columns] = scaler.transform(features_test[features.columns])"
   ]
  },
  {
   "cell_type": "markdown",
   "metadata": {},
   "source": [
    "## Обучение моделей"
   ]
  },
  {
   "cell_type": "markdown",
   "metadata": {},
   "source": [
    "Начнем с линейной регрессии:"
   ]
  },
  {
   "cell_type": "code",
   "execution_count": 9,
   "metadata": {},
   "outputs": [
    {
     "name": "stdout",
     "output_type": "stream",
     "text": [
      "Средняя цена авто: 4891.85320987612\n",
      "CPU times: user 17.1 s, sys: 13.5 s, total: 30.6 s\n",
      "Wall time: 7.92 s\n"
     ]
    }
   ],
   "source": [
    "%%time\n",
    "model_lr = LinearRegression()\n",
    "model_lr.fit(features_train, target_train)\n",
    "\n",
    "#Для сравнения посмотрим, а какова средняя цена авто\n",
    "print('Средняя цена авто:', cars_ohe['Price'].mean())"
   ]
  },
  {
   "cell_type": "code",
   "execution_count": 10,
   "metadata": {},
   "outputs": [
    {
     "name": "stdout",
     "output_type": "stream",
     "text": [
      "CPU times: user 175 ms, sys: 250 ms, total: 424 ms\n",
      "Wall time: 103 ms\n"
     ]
    }
   ],
   "source": [
    "%%time\n",
    "\n",
    "lr_predictions = model_lr.predict(features_test)"
   ]
  },
  {
   "cell_type": "code",
   "execution_count": 11,
   "metadata": {},
   "outputs": [
    {
     "name": "stdout",
     "output_type": "stream",
     "text": [
      "RMSE составляет: 2542.659775212655\n"
     ]
    }
   ],
   "source": [
    "print('RMSE составляет:', mean_squared_error(target_test, lr_predictions) ** 0.5)"
   ]
  },
  {
   "cell_type": "markdown",
   "metadata": {},
   "source": [
    "Линейная регрессия показала весьма слабенькие результаты, но быстро обучилась, всего 17,7 сек. Перейдем теперь к случайному лесу, проверим сначала метрику на параметрах по умолчанию, потом подберем параметры:"
   ]
  },
  {
   "cell_type": "code",
   "execution_count": 12,
   "metadata": {},
   "outputs": [
    {
     "name": "stdout",
     "output_type": "stream",
     "text": [
      "CPU times: user 3min 6s, sys: 1.57 s, total: 3min 7s\n",
      "Wall time: 3min 7s\n"
     ]
    },
    {
     "data": {
      "text/plain": [
       "RandomForestRegressor(random_state=12345)"
      ]
     },
     "execution_count": 12,
     "metadata": {},
     "output_type": "execute_result"
    }
   ],
   "source": [
    "%%time\n",
    "model_rf = RandomForestRegressor(random_state = 12345)\n",
    "model_rf.fit(features_train, target_train)"
   ]
  },
  {
   "cell_type": "code",
   "execution_count": 13,
   "metadata": {},
   "outputs": [
    {
     "name": "stdout",
     "output_type": "stream",
     "text": [
      "CPU times: user 1.89 s, sys: 325 ms, total: 2.22 s\n",
      "Wall time: 2.26 s\n"
     ]
    }
   ],
   "source": [
    "%%time\n",
    "rf_predictions = model_rf.predict(features_test)"
   ]
  },
  {
   "cell_type": "code",
   "execution_count": 14,
   "metadata": {},
   "outputs": [
    {
     "name": "stdout",
     "output_type": "stream",
     "text": [
      "RMSE составляет: 1553.6135286854517\n"
     ]
    }
   ],
   "source": [
    "print('RMSE составляет:', mean_squared_error(target_test, rf_predictions) ** 0.5)"
   ]
  },
  {
   "cell_type": "code",
   "execution_count": 15,
   "metadata": {},
   "outputs": [
    {
     "name": "stdout",
     "output_type": "stream",
     "text": [
      "При max_depth = 5 RMSE составляет 2422.480133138719\n",
      "При max_depth = 8 RMSE составляет 2024.6150391203964\n",
      "При max_depth = 11 RMSE составляет 1814.2071151013554\n",
      "При max_depth = 14 RMSE составляет 1693.0037909382813\n",
      "При max_depth = 17 RMSE составляет 1622.9256829768367\n",
      "При max_depth = 20 RMSE составляет 1585.5860201847909\n",
      "При max_depth = 23 RMSE составляет 1566.4516036883556\n",
      "При max_depth = 26 RMSE составляет 1557.0923821018596\n",
      "При max_depth = 29 RMSE составляет 1552.784626965654\n",
      "При max_depth = 32 RMSE составляет 1550.0336615575463\n",
      "При max_depth = 35 RMSE составляет 1549.5040366866192\n",
      "При max_depth = 38 RMSE составляет 1549.3449171343825\n",
      "RMSE наилучшей модели на валидационной выборке: 1549.3449171343825 при глубине дерева  38\n"
     ]
    }
   ],
   "source": [
    "best_model_rf = None\n",
    "best_result = 10000\n",
    "best_depth = 0\n",
    "best_estim = 0\n",
    "\n",
    "for depth in range(5, 40, 3):\n",
    "    model_rf = RandomForestRegressor(random_state = 12345, max_depth = depth)\n",
    "    model_rf.fit(features_train, target_train)\n",
    "    predictions = model_rf.predict(features_valid)\n",
    "    result = mean_squared_error(target_valid, predictions) ** 0.5\n",
    "    print('При max_depth =', depth, 'RMSE составляет', result)\n",
    "    if result < best_result:\n",
    "        best_model_rf = model_rf\n",
    "        best_result = result\n",
    "        best_depth = depth\n",
    "\n",
    "print(\"RMSE наилучшей модели на валидационной выборке:\", best_result, \"при глубине дерева \", best_depth)"
   ]
  },
  {
   "cell_type": "code",
   "execution_count": 16,
   "metadata": {
    "scrolled": true
   },
   "outputs": [
    {
     "name": "stdout",
     "output_type": "stream",
     "text": [
      "При n_estimators = 50 RMSE составляет 2640.823985671797\n",
      "При n_estimators = 100 RMSE составляет 2639.7976631527645\n",
      "При n_estimators = 150 RMSE составляет 2639.747973850506\n",
      "При n_estimators = 200 RMSE составляет 2639.439093548804\n",
      "При n_estimators = 250 RMSE составляет 2639.5090059893937\n",
      "При n_estimators = 300 RMSE составляет 2639.500839182065\n",
      "RMSE наилучшей модели на валидационной выборке: 2639.439093548804 при глубине дерева  38 и количестве деревьев 200\n"
     ]
    }
   ],
   "source": [
    "#повторно не прогоняем\n",
    "best_result = 10000\n",
    "for estim in range(50, 310, 50):\n",
    "    model_rf = RandomForestRegressor(random_state = 12345, max_depth = 4, n_estimators = estim)\n",
    "    model_rf.fit(features_train, target_train)\n",
    "    predictions = model_rf.predict(features_valid)\n",
    "    result = mean_squared_error(target_valid, predictions) ** 0.5\n",
    "    print('При n_estimators =', estim, 'RMSE составляет', result)\n",
    "    if result < best_result:\n",
    "        best_result = result\n",
    "        best_estim = estim\n",
    "\n",
    "print(\"RMSE наилучшей модели на валидационной выборке:\", best_result, \"при глубине дерева \", best_depth, 'и количестве деревьев', best_estim)"
   ]
  },
  {
   "cell_type": "code",
   "execution_count": 17,
   "metadata": {},
   "outputs": [
    {
     "name": "stdout",
     "output_type": "stream",
     "text": [
      "CPU times: user 6min 1s, sys: 2.57 s, total: 6min 3s\n",
      "Wall time: 6min 3s\n"
     ]
    },
    {
     "data": {
      "text/plain": [
       "RandomForestRegressor(max_depth=35, n_estimators=200, random_state=12345)"
      ]
     },
     "execution_count": 17,
     "metadata": {},
     "output_type": "execute_result"
    }
   ],
   "source": [
    "%%time\n",
    "best_model_rf = RandomForestRegressor(random_state = 12345, max_depth = 35, n_estimators = 200)\n",
    "best_model_rf.fit(features_train, target_train)"
   ]
  },
  {
   "cell_type": "code",
   "execution_count": 18,
   "metadata": {},
   "outputs": [
    {
     "name": "stdout",
     "output_type": "stream",
     "text": [
      "CPU times: user 3.4 s, sys: 795 ms, total: 4.2 s\n",
      "Wall time: 4.39 s\n"
     ]
    }
   ],
   "source": [
    "%%time\n",
    "best_rf_predictions = best_model_rf.predict(features_test)"
   ]
  },
  {
   "cell_type": "code",
   "execution_count": 19,
   "metadata": {},
   "outputs": [
    {
     "name": "stdout",
     "output_type": "stream",
     "text": [
      "RMSE лучшей модели Случайного леса на тестовой выборке составляет: 1550.3519047166324\n"
     ]
    }
   ],
   "source": [
    "print('RMSE лучшей модели Случайного леса на тестовой выборке составляет:', mean_squared_error(target_test, best_rf_predictions) ** 0.5)"
   ]
  },
  {
   "cell_type": "markdown",
   "metadata": {},
   "source": [
    "Значение метрики RMSE на параметрах по умолчанию на 35% меньше чем у линейной регрессии (1641), время обучения 67 сек, т.е. в 3.5 раза дольше. Результаты подбора параметров сформулируем так:\n",
    "\n",
    "- Наилучшие параметры модели: max_depth = 35, n_estimators = 200.\n",
    "- Суммарное время подбора параметров: около 1 часа\n",
    "- RMSE на валидационной выборке при этом снизилась до 1641\n",
    "\n",
    "Проверим теперь качество работы модели на тестовой выборке и зафиксируем время обучения. Итого - RMSE составила 1550, а обучилась модель за 17.5 мин.\n",
    "\n",
    "Перейдем к CatBoost. Поскольку он умеет работать с категориальными признаками, подготовим признаки из датафрейма, не обработанного техникой OHE. Прогоним для начала со значениями по умолчанию:"
   ]
  },
  {
   "cell_type": "code",
   "execution_count": 20,
   "metadata": {},
   "outputs": [
    {
     "name": "stdout",
     "output_type": "stream",
     "text": [
      "  VehicleType  RegistrationYear Gearbox  Power  Model  Kilometer  \\\n",
      "2         suv              2004    auto    163  grand     125000   \n",
      "\n",
      "   RegistrationMonth  FuelType Brand NotRepaired  NumberOfPictures  PostalCode  \n",
      "2                  8  gasoline  jeep     unknown                 0       90480  \n",
      "      VehicleType  RegistrationYear Gearbox     Power  Model  Kilometer  \\\n",
      "79758       small              2000  manual -1.131658  punto    0.58911   \n",
      "\n",
      "       RegistrationMonth FuelType Brand NotRepaired  NumberOfPictures  \\\n",
      "79758                  8   petrol  fiat          no                 0   \n",
      "\n",
      "       PostalCode  \n",
      "79758       28219  \n"
     ]
    }
   ],
   "source": [
    "target = cars['Price']\n",
    "features = cars.drop(['Price'], axis = 1)\n",
    "\n",
    "#Подготовка обучающей, валидационной и тестовой выборок:\n",
    "features_train, features_second, target_train, target_second = train_test_split(features, target, test_size = 0.4, random_state = 12345)\n",
    "features_valid, features_test, target_valid, target_test = train_test_split(features_second, target_second, test_size = 0.5, random_state = 12345)\n",
    "\n",
    "print(features.head(1))\n",
    "\n",
    "#Масшиабирование признаков:\n",
    "list_for_scaler = ['Power', 'Kilometer']\n",
    "scaler = StandardScaler()\n",
    "scaler.fit(features[list_for_scaler])\n",
    "\n",
    "features_train[list_for_scaler] = scaler.transform(features_train[list_for_scaler])\n",
    "features_valid[list_for_scaler] = scaler.transform(features_valid[list_for_scaler])\n",
    "features_test[list_for_scaler] = scaler.transform(features_test[list_for_scaler])\n",
    "\n",
    "from catboost import CatBoostRegressor\n",
    "\n",
    "cat_features = ['VehicleType', 'Gearbox', 'Model',\n",
    "                'FuelType', 'Brand', 'NotRepaired', 'RegistrationYear', 'RegistrationMonth', 'PostalCode']\n",
    "print(features_train.head(1))"
   ]
  },
  {
   "cell_type": "code",
   "execution_count": 21,
   "metadata": {},
   "outputs": [
    {
     "name": "stdout",
     "output_type": "stream",
     "text": [
      "Learning rate set to 0.092584\n",
      "0:\tlearn: 4292.0706553\ttotal: 126ms\tremaining: 2m 6s\n",
      "50:\tlearn: 1819.9813561\ttotal: 2.43s\tremaining: 45.2s\n",
      "100:\tlearn: 1719.0614001\ttotal: 4.57s\tremaining: 40.6s\n",
      "150:\tlearn: 1673.0813144\ttotal: 6.83s\tremaining: 38.4s\n",
      "200:\tlearn: 1642.1855149\ttotal: 8.98s\tremaining: 35.7s\n",
      "250:\tlearn: 1619.0502415\ttotal: 11.2s\tremaining: 33.5s\n",
      "300:\tlearn: 1605.5011505\ttotal: 13.3s\tremaining: 31s\n",
      "350:\tlearn: 1590.8205356\ttotal: 15.5s\tremaining: 28.7s\n",
      "400:\tlearn: 1579.4128473\ttotal: 17.9s\tremaining: 26.7s\n",
      "450:\tlearn: 1569.6082328\ttotal: 20.1s\tremaining: 24.5s\n",
      "500:\tlearn: 1560.5071570\ttotal: 22.3s\tremaining: 22.2s\n",
      "550:\tlearn: 1552.6300636\ttotal: 24.6s\tremaining: 20s\n",
      "600:\tlearn: 1544.2912212\ttotal: 26.8s\tremaining: 17.8s\n",
      "650:\tlearn: 1537.6633862\ttotal: 29.1s\tremaining: 15.6s\n",
      "700:\tlearn: 1531.0930832\ttotal: 31.5s\tremaining: 13.4s\n",
      "750:\tlearn: 1524.6997639\ttotal: 33.9s\tremaining: 11.2s\n",
      "800:\tlearn: 1518.6550309\ttotal: 36.2s\tremaining: 8.99s\n",
      "850:\tlearn: 1513.2790018\ttotal: 38.6s\tremaining: 6.76s\n",
      "900:\tlearn: 1508.5768237\ttotal: 40.9s\tremaining: 4.49s\n",
      "950:\tlearn: 1503.5012397\ttotal: 43.3s\tremaining: 2.23s\n",
      "999:\tlearn: 1499.3773133\ttotal: 45.6s\tremaining: 0us\n",
      "CPU times: user 4min 27s, sys: 6.63 s, total: 4min 33s\n",
      "Wall time: 46.2 s\n"
     ]
    },
    {
     "data": {
      "text/plain": [
       "<catboost.core.CatBoostRegressor at 0x16fc31d30>"
      ]
     },
     "execution_count": 21,
     "metadata": {},
     "output_type": "execute_result"
    }
   ],
   "source": [
    "%%time\n",
    "model_cb = CatBoostRegressor(loss_function='RMSE', random_seed = 12345)\n",
    "\n",
    "model_cb.fit(features_train, target_train, cat_features=cat_features, verbose=50) \n"
   ]
  },
  {
   "cell_type": "code",
   "execution_count": 22,
   "metadata": {},
   "outputs": [
    {
     "name": "stdout",
     "output_type": "stream",
     "text": [
      "CPU times: user 791 ms, sys: 18.1 ms, total: 809 ms\n",
      "Wall time: 190 ms\n"
     ]
    }
   ],
   "source": [
    "%%time\n",
    "cb_predictions = model_cb.predict(features_test)\n",
    "result = mean_squared_error(target_test, cb_predictions) ** 0.5\n"
   ]
  },
  {
   "cell_type": "code",
   "execution_count": 23,
   "metadata": {},
   "outputs": [
    {
     "name": "stdout",
     "output_type": "stream",
     "text": [
      "RMSE обученной модели на тестовой выборке составила 1557.052811803514\n"
     ]
    }
   ],
   "source": [
    "print('RMSE обученной модели на тестовой выборке составила', result)\n"
   ]
  },
  {
   "cell_type": "code",
   "execution_count": 24,
   "metadata": {
    "scrolled": false
   },
   "outputs": [
    {
     "name": "stdout",
     "output_type": "stream",
     "text": [
      "13\n",
      "Learning rate set to 0.5\n",
      "0:\tlearn: 2968.2443914\ttotal: 74.3ms\tremaining: 7.36s\n",
      "20:\tlearn: 1445.3857409\ttotal: 1.27s\tremaining: 4.79s\n",
      "40:\tlearn: 1303.2655959\ttotal: 2.38s\tremaining: 3.42s\n",
      "60:\tlearn: 1217.8820242\ttotal: 3.54s\tremaining: 2.26s\n",
      "80:\tlearn: 1143.0632127\ttotal: 4.67s\tremaining: 1.09s\n",
      "99:\tlearn: 1095.6932581\ttotal: 5.74s\tremaining: 0us\n",
      "RMSE обученной модели на валидационной выборке составил 1614.5516748229375\n",
      "14\n",
      "Learning rate set to 0.5\n",
      "0:\tlearn: 2955.0504091\ttotal: 138ms\tremaining: 13.7s\n",
      "20:\tlearn: 1395.7886772\ttotal: 2.34s\tremaining: 8.79s\n",
      "40:\tlearn: 1227.7642029\ttotal: 4.54s\tremaining: 6.54s\n",
      "60:\tlearn: 1116.3950071\ttotal: 6.7s\tremaining: 4.28s\n",
      "80:\tlearn: 1022.7290794\ttotal: 8.83s\tremaining: 2.07s\n",
      "99:\tlearn: 944.9652789\ttotal: 10.9s\tremaining: 0us\n",
      "RMSE обученной модели на валидационной выборке составил 1624.48755227454\n",
      "15\n",
      "Learning rate set to 0.5\n",
      "0:\tlearn: 2942.1609265\ttotal: 255ms\tremaining: 25.3s\n",
      "20:\tlearn: 1337.3215622\ttotal: 4.7s\tremaining: 17.7s\n",
      "40:\tlearn: 1124.6921342\ttotal: 9.12s\tremaining: 13.1s\n",
      "60:\tlearn: 988.8267786\ttotal: 13.5s\tremaining: 8.61s\n",
      "80:\tlearn: 899.9506190\ttotal: 17.9s\tremaining: 4.19s\n",
      "99:\tlearn: 818.8944619\ttotal: 22s\tremaining: 0us\n",
      "RMSE обученной модели на валидационной выборке составил 1639.2254618823385\n",
      "16\n",
      "Learning rate set to 0.5\n",
      "0:\tlearn: 2941.4949909\ttotal: 636ms\tremaining: 1m 2s\n",
      "20:\tlearn: 1290.1657253\ttotal: 11s\tremaining: 41.4s\n",
      "40:\tlearn: 1034.0159704\ttotal: 21.4s\tremaining: 30.7s\n",
      "60:\tlearn: 872.4514139\ttotal: 31.6s\tremaining: 20.2s\n",
      "80:\tlearn: 780.7951976\ttotal: 41.9s\tremaining: 9.82s\n",
      "99:\tlearn: 701.9784665\ttotal: 51.7s\tremaining: 0us\n",
      "RMSE обученной модели на валидационной выборке составил 1656.4351005606738\n",
      "Оптимальное значение параметра depth 13\n"
     ]
    }
   ],
   "source": [
    "best_model_cb = None\n",
    "best_result = 10000\n",
    "best_depth = 0\n",
    "best_learning_rate = 0\n",
    "\n",
    "for depth in range(13,17,1):\n",
    "    print(depth)\n",
    "    model_cb = CatBoostRegressor(loss_function=\"RMSE\", depth = depth, iterations=100)\n",
    "    model_cb.fit(features_train, target_train, cat_features=cat_features, verbose=20)\n",
    "    cb_predictions = model_cb.predict(features_valid)\n",
    "    result = mean_squared_error(target_valid, cb_predictions) ** 0.5\n",
    "    print('RMSE обученной модели на валидационной выборке составил', result)\n",
    "    if result < best_result:\n",
    "        best_result = result\n",
    "        best_depth = depth\n",
    "       \n",
    "        \n",
    "print('Оптимальное значение параметра depth', best_depth)"
   ]
  },
  {
   "cell_type": "markdown",
   "metadata": {},
   "source": [
    "Наилучшие результаты при глубине 13"
   ]
  },
  {
   "cell_type": "code",
   "execution_count": 25,
   "metadata": {
    "scrolled": false
   },
   "outputs": [
    {
     "name": "stdout",
     "output_type": "stream",
     "text": [
      "0.01\n",
      "0:\tlearn: 4554.6743419\ttotal: 19ms\tremaining: 1.88s\n",
      "20:\tlearn: 3992.2077202\ttotal: 345ms\tremaining: 1.3s\n",
      "40:\tlearn: 3550.1637370\ttotal: 663ms\tremaining: 955ms\n",
      "60:\tlearn: 3197.1063356\ttotal: 993ms\tremaining: 635ms\n",
      "80:\tlearn: 2919.4241031\ttotal: 1.32s\tremaining: 309ms\n",
      "99:\tlearn: 2710.8590994\ttotal: 1.62s\tremaining: 0us\n",
      "RMSE обученной модели на валидационной выборке составил 2728.809693875727\n",
      "\n",
      "0.04\n",
      "0:\tlearn: 4460.8057106\ttotal: 20.9ms\tremaining: 2.07s\n",
      "20:\tlearn: 2870.4413086\ttotal: 348ms\tremaining: 1.31s\n",
      "40:\tlearn: 2266.3985358\ttotal: 659ms\tremaining: 949ms\n",
      "60:\tlearn: 2034.5059257\ttotal: 984ms\tremaining: 629ms\n",
      "80:\tlearn: 1931.7531553\ttotal: 1.33s\tremaining: 311ms\n",
      "99:\tlearn: 1878.1667181\ttotal: 1.66s\tremaining: 0us\n",
      "RMSE обученной модели на валидационной выборке составил 1891.5678798665688\n",
      "\n",
      "0.06999999999999999\n",
      "0:\tlearn: 4367.8983419\ttotal: 19.8ms\tremaining: 1.96s\n",
      "20:\tlearn: 2339.6861351\ttotal: 344ms\tremaining: 1.29s\n",
      "40:\tlearn: 1969.7459074\ttotal: 668ms\tremaining: 961ms\n",
      "60:\tlearn: 1865.6912864\ttotal: 1.01s\tremaining: 648ms\n",
      "80:\tlearn: 1816.3624502\ttotal: 1.37s\tremaining: 321ms\n",
      "99:\tlearn: 1784.0800512\ttotal: 1.71s\tremaining: 0us\n",
      "RMSE обученной модели на валидационной выборке составил 1798.4688212531985\n",
      "\n",
      "0.09999999999999999\n",
      "0:\tlearn: 4276.0149001\ttotal: 22.3ms\tremaining: 2.21s\n",
      "20:\tlearn: 2101.6078032\ttotal: 386ms\tremaining: 1.45s\n",
      "40:\tlearn: 1877.6778370\ttotal: 746ms\tremaining: 1.07s\n",
      "60:\tlearn: 1801.9259370\ttotal: 1.09s\tremaining: 698ms\n",
      "80:\tlearn: 1761.4198562\ttotal: 1.47s\tremaining: 345ms\n",
      "99:\tlearn: 1738.6482313\ttotal: 1.8s\tremaining: 0us\n",
      "RMSE обученной модели на валидационной выборке составил 1756.8549544777748\n",
      "\n",
      "0.13\n",
      "0:\tlearn: 4185.2228468\ttotal: 19.8ms\tremaining: 1.96s\n",
      "20:\tlearn: 1983.1074279\ttotal: 347ms\tremaining: 1.31s\n",
      "40:\tlearn: 1833.5055891\ttotal: 697ms\tremaining: 1s\n",
      "60:\tlearn: 1769.8705999\ttotal: 1.05s\tremaining: 675ms\n",
      "80:\tlearn: 1739.6746442\ttotal: 1.41s\tremaining: 331ms\n",
      "99:\tlearn: 1715.8575529\ttotal: 1.74s\tremaining: 0us\n",
      "RMSE обученной модели на валидационной выборке составил 1735.9726353034705\n",
      "\n",
      "0.16\n",
      "0:\tlearn: 4095.5947185\ttotal: 19.5ms\tremaining: 1.93s\n",
      "20:\tlearn: 1915.1234958\ttotal: 355ms\tremaining: 1.34s\n",
      "40:\tlearn: 1793.2198468\ttotal: 716ms\tremaining: 1.03s\n",
      "60:\tlearn: 1738.5192565\ttotal: 1.07s\tremaining: 682ms\n",
      "80:\tlearn: 1704.1075221\ttotal: 1.43s\tremaining: 335ms\n",
      "99:\tlearn: 1679.4710084\ttotal: 1.76s\tremaining: 0us\n",
      "RMSE обученной модели на валидационной выборке составил 1706.322785705304\n",
      "\n",
      "0.19\n",
      "0:\tlearn: 4007.2086398\ttotal: 19.2ms\tremaining: 1.9s\n",
      "20:\tlearn: 1881.3457900\ttotal: 357ms\tremaining: 1.34s\n",
      "40:\tlearn: 1769.6050587\ttotal: 715ms\tremaining: 1.03s\n",
      "60:\tlearn: 1726.2111590\ttotal: 1.08s\tremaining: 691ms\n",
      "80:\tlearn: 1694.7084738\ttotal: 1.43s\tremaining: 336ms\n",
      "99:\tlearn: 1670.2756234\ttotal: 1.77s\tremaining: 0us\n",
      "RMSE обученной модели на валидационной выборке составил 1698.0080237865777\n",
      "\n",
      "Оптимальное значение параметра learning_rate 0.19\n"
     ]
    }
   ],
   "source": [
    "best_result = 10000\n",
    "\n",
    "\n",
    "for lrate in np.arange(0.01,0.20,0.03):\n",
    "    print(lrate)\n",
    "    model_cb = CatBoostRegressor(loss_function=\"RMSE\", iterations=100, learning_rate = lrate)\n",
    "    model_cb.fit(features_train, target_train, cat_features=cat_features, verbose=20)\n",
    "    cb_predictions = model_cb.predict(features_valid)\n",
    "    result = mean_squared_error(target_valid, cb_predictions) ** 0.5\n",
    "    print('RMSE обученной модели на валидационной выборке составил', result)\n",
    "    print()\n",
    "    if result < best_result:\n",
    "        best_result = result\n",
    "        best_learning_rate = lrate\n",
    "        \n",
    "        \n",
    "print('Оптимальное значение параметра learning_rate', best_learning_rate)"
   ]
  },
  {
   "cell_type": "markdown",
   "metadata": {},
   "source": [
    "Пробежав параметры от 0.01 до 0,2 выбираем оптимальную скорость обучения - 0.19."
   ]
  },
  {
   "cell_type": "code",
   "execution_count": 26,
   "metadata": {},
   "outputs": [
    {
     "name": "stdout",
     "output_type": "stream",
     "text": [
      "0:\tlearn: 3922.1838183\ttotal: 241ms\tremaining: 43.1s\n",
      "10:\tlearn: 1736.4769997\ttotal: 2.37s\tremaining: 36.4s\n",
      "20:\tlearn: 1519.4948421\ttotal: 4.49s\tremaining: 34s\n",
      "30:\tlearn: 1442.5100035\ttotal: 6.69s\tremaining: 32.2s\n",
      "40:\tlearn: 1380.3086198\ttotal: 8.94s\tremaining: 30.3s\n",
      "50:\tlearn: 1326.6605264\ttotal: 11.1s\tremaining: 28.2s\n",
      "60:\tlearn: 1285.8982548\ttotal: 13.3s\tremaining: 26s\n",
      "70:\tlearn: 1241.8078929\ttotal: 15.6s\tremaining: 24s\n",
      "80:\tlearn: 1205.1588824\ttotal: 17.8s\tremaining: 21.8s\n",
      "90:\tlearn: 1170.8134061\ttotal: 20s\tremaining: 19.5s\n",
      "100:\tlearn: 1132.7206100\ttotal: 22.2s\tremaining: 17.3s\n",
      "110:\tlearn: 1098.3972574\ttotal: 24.5s\tremaining: 15.2s\n",
      "120:\tlearn: 1068.9854300\ttotal: 26.7s\tremaining: 13s\n",
      "130:\tlearn: 1046.7696428\ttotal: 28.9s\tremaining: 10.8s\n",
      "140:\tlearn: 1021.3964348\ttotal: 31s\tremaining: 8.58s\n",
      "150:\tlearn: 998.8909040\ttotal: 33.2s\tremaining: 6.38s\n",
      "160:\tlearn: 975.9492369\ttotal: 35.4s\tremaining: 4.17s\n",
      "170:\tlearn: 953.5718025\ttotal: 37.5s\tremaining: 1.98s\n",
      "179:\tlearn: 934.7984628\ttotal: 39.6s\tremaining: 0us\n",
      "CPU times: user 1min 46s, sys: 8.51 s, total: 1min 55s\n",
      "Wall time: 40.1 s\n"
     ]
    },
    {
     "data": {
      "text/plain": [
       "<catboost.core.CatBoostRegressor at 0x14f66cfd0>"
      ]
     },
     "execution_count": 26,
     "metadata": {},
     "output_type": "execute_result"
    }
   ],
   "source": [
    "%%time\n",
    "model_cb = CatBoostRegressor(loss_function=\"RMSE\", depth = 13, learning_rate=0.19, iterations = 180)\n",
    "model_cb.fit(features_train, target_train, cat_features=cat_features, verbose=10)\n"
   ]
  },
  {
   "cell_type": "code",
   "execution_count": 27,
   "metadata": {},
   "outputs": [
    {
     "name": "stdout",
     "output_type": "stream",
     "text": [
      "CPU times: user 170 ms, sys: 6.58 ms, total: 176 ms\n",
      "Wall time: 84.7 ms\n"
     ]
    }
   ],
   "source": [
    "%%time\n",
    "cb_predictions = model_cb.predict(features_test)\n",
    "result = mean_squared_error(target_test, cb_predictions) ** 0.5\n"
   ]
  },
  {
   "cell_type": "code",
   "execution_count": 28,
   "metadata": {},
   "outputs": [
    {
     "name": "stdout",
     "output_type": "stream",
     "text": [
      "RMSE обученной модели на тестовой выборке составил 1569.8043546084414\n"
     ]
    }
   ],
   "source": [
    "print('RMSE обученной модели на тестовой выборке составил', result)"
   ]
  },
  {
   "cell_type": "markdown",
   "metadata": {},
   "source": [
    "Подведем итоги по CatBoost:\n",
    "- Наилучшие параметры модели: depth = 13, learning_rate = 0.19\n",
    "- Суммарное время подбора параметров: около 1 часа\n",
    "- Обучение модели с приведенным выше параметрами составило 5 минут\n",
    "- RMSE на тестовой выборке выборке при этом снизилась до 1564\n",
    "При том какие результаты можно было бы получить при увеличении количества итераций - впечатляет..\n"
   ]
  },
  {
   "cell_type": "markdown",
   "metadata": {},
   "source": [
    "Объединим результаты исследования в наглядную таблицу и перейдем к выводам"
   ]
  },
  {
   "cell_type": "code",
   "execution_count": 29,
   "metadata": {},
   "outputs": [],
   "source": [
    "columns = ['Значение RMSE', 'Время обучения модели, мин', 'Время предсказания, сек']\n",
    "resdata = [\n",
    "    [2542, 0.27, 0.21],\n",
    "    [1641, 1.1, 0.43],\n",
    "    [1550, 17.5, 10],\n",
    "    [1614, 16, 1.7],\n",
    "    [1564, 5.3, 0.57]]\n",
    "\n",
    "lists = ['Линейная регрессия', 'Случайный лес (умолч.)','Случайный лес (подгон)','CatBoost (умолч.)','CatBoost (подгон)']\n",
    "\n",
    "resshow = pd.DataFrame(data = resdata, columns = columns, index = lists)\n"
   ]
  },
  {
   "cell_type": "markdown",
   "metadata": {},
   "source": [
    "## Анализ моделей"
   ]
  },
  {
   "cell_type": "code",
   "execution_count": 30,
   "metadata": {
    "scrolled": false
   },
   "outputs": [
    {
     "data": {
      "text/html": [
       "<div>\n",
       "<style scoped>\n",
       "    .dataframe tbody tr th:only-of-type {\n",
       "        vertical-align: middle;\n",
       "    }\n",
       "\n",
       "    .dataframe tbody tr th {\n",
       "        vertical-align: top;\n",
       "    }\n",
       "\n",
       "    .dataframe thead th {\n",
       "        text-align: right;\n",
       "    }\n",
       "</style>\n",
       "<table border=\"1\" class=\"dataframe\">\n",
       "  <thead>\n",
       "    <tr style=\"text-align: right;\">\n",
       "      <th></th>\n",
       "      <th>Значение RMSE</th>\n",
       "      <th>Время обучения модели, мин</th>\n",
       "      <th>Время предсказания, сек</th>\n",
       "    </tr>\n",
       "  </thead>\n",
       "  <tbody>\n",
       "    <tr>\n",
       "      <th>Линейная регрессия</th>\n",
       "      <td>2542</td>\n",
       "      <td>0.27</td>\n",
       "      <td>0.21</td>\n",
       "    </tr>\n",
       "    <tr>\n",
       "      <th>Случайный лес (умолч.)</th>\n",
       "      <td>1641</td>\n",
       "      <td>1.10</td>\n",
       "      <td>0.43</td>\n",
       "    </tr>\n",
       "    <tr>\n",
       "      <th>Случайный лес (подгон)</th>\n",
       "      <td>1550</td>\n",
       "      <td>17.50</td>\n",
       "      <td>10.00</td>\n",
       "    </tr>\n",
       "    <tr>\n",
       "      <th>CatBoost (умолч.)</th>\n",
       "      <td>1614</td>\n",
       "      <td>16.00</td>\n",
       "      <td>1.70</td>\n",
       "    </tr>\n",
       "    <tr>\n",
       "      <th>CatBoost (подгон)</th>\n",
       "      <td>1564</td>\n",
       "      <td>5.30</td>\n",
       "      <td>0.57</td>\n",
       "    </tr>\n",
       "  </tbody>\n",
       "</table>\n",
       "</div>"
      ],
      "text/plain": [
       "                        Значение RMSE  Время обучения модели, мин  \\\n",
       "Линейная регрессия               2542                        0.27   \n",
       "Случайный лес (умолч.)           1641                        1.10   \n",
       "Случайный лес (подгон)           1550                       17.50   \n",
       "CatBoost (умолч.)                1614                       16.00   \n",
       "CatBoost (подгон)                1564                        5.30   \n",
       "\n",
       "                        Время предсказания, сек  \n",
       "Линейная регрессия                         0.21  \n",
       "Случайный лес (умолч.)                     0.43  \n",
       "Случайный лес (подгон)                    10.00  \n",
       "CatBoost (умолч.)                          1.70  \n",
       "CatBoost (подгон)                          0.57  "
      ]
     },
     "metadata": {},
     "output_type": "display_data"
    }
   ],
   "source": [
    "display(resshow)"
   ]
  },
  {
   "cell_type": "markdown",
   "metadata": {},
   "source": [
    "# Выводы\n",
    "\n",
    "В данном проекте на примере построения модели оценки стоимости авто испробованы различные модели, линейная регрессия, случайный лес, модель градиентного бустинга CatBoost. \n",
    "\n",
    "1. Линейная регрессия, несмотря на быстрое время обучения, не впечатлила результатами.. Быстро и плохо. Связано это, как мне кажется, в первую очередь с большим количеством категориальных параметров.\n",
    "2. Случайный лес. Неплохой результат на настройках по умолчанию, да и время обучения - чуть менее 1 минуты. Подбор параметров занимает долгое время, и не столь существенно увеличивает результаты (улучшение в 4% относительно исходных параметров). Отметим и существенное время обучения модели с подобранными параметрами - 18 минут.\n",
    "3. CatBoost. Первое, что позволяет мождель - использовать набор признаков, не обработанный техникой OHE, очень удобно, но насколько я понимаю это и существенно тормозит обучение. Отметим, что очень долгое время обучения не позволило прогнать большое количество параметров и тщательно их подогнать, в связи с чем результаты подогнанной модели незначительно лучше чем по умолчанию, они получены всего при 180 итерациях, модель обучилась всего за 5 минут. Отлично отработала модель на базовых настройках, лучший результат из всех моделей, но обучалась заметно дольше. В целом, понимая каких результатов можно было бы достичь при 500-1000 итераций, качество работы модели впечатляет.\n",
    "4. По скорости прогнозирования скажем, что линейная регрессия также быстра (но не точна), случайный лес существенно дольше работает чем модель CatBoost. CatBoost на данной задаче позволяет выиграть во времени прогнозирования, разницу оценить сложно, но это разы (по моим прикидкам, на моделях, выдающих схожие результаты - в разы).\n",
    "\n"
   ]
  }
 ],
 "metadata": {
  "ExecuteTimeLog": [
   {
    "duration": 71,
    "start_time": "2021-07-27T13:56:53.922Z"
   },
   {
    "duration": 1765,
    "start_time": "2021-07-27T13:57:12.698Z"
   },
   {
    "duration": 842,
    "start_time": "2021-07-27T13:58:31.827Z"
   },
   {
    "duration": 1113,
    "start_time": "2021-07-27T14:07:10.609Z"
   },
   {
    "duration": 1005,
    "start_time": "2021-07-27T14:07:14.636Z"
   },
   {
    "duration": 989,
    "start_time": "2021-07-27T14:07:20.691Z"
   },
   {
    "duration": 1000,
    "start_time": "2021-07-27T14:07:28.291Z"
   },
   {
    "duration": 1010,
    "start_time": "2021-07-27T14:07:37.521Z"
   },
   {
    "duration": 1028,
    "start_time": "2021-07-27T14:07:39.584Z"
   },
   {
    "duration": 1153,
    "start_time": "2021-07-27T14:07:47.519Z"
   },
   {
    "duration": 1101,
    "start_time": "2021-07-27T14:08:08.329Z"
   },
   {
    "duration": 1141,
    "start_time": "2021-07-27T14:15:34.150Z"
   },
   {
    "duration": 1187,
    "start_time": "2021-07-27T14:16:27.910Z"
   },
   {
    "duration": 79,
    "start_time": "2021-07-27T14:18:17.538Z"
   },
   {
    "duration": 1158,
    "start_time": "2021-07-27T14:18:21.621Z"
   },
   {
    "duration": 1389,
    "start_time": "2021-07-27T14:18:45.941Z"
   },
   {
    "duration": 1424,
    "start_time": "2021-07-27T14:18:53.116Z"
   },
   {
    "duration": 1449,
    "start_time": "2021-07-27T14:19:38.522Z"
   },
   {
    "duration": 1418,
    "start_time": "2021-07-27T14:20:23.147Z"
   },
   {
    "duration": 1269,
    "start_time": "2021-07-27T14:22:49.437Z"
   },
   {
    "duration": 1296,
    "start_time": "2021-07-27T14:22:58.045Z"
   },
   {
    "duration": 1330,
    "start_time": "2021-07-27T14:28:23.902Z"
   },
   {
    "duration": 1106,
    "start_time": "2021-07-27T14:29:15.177Z"
   },
   {
    "duration": 1336,
    "start_time": "2021-07-27T14:29:23.051Z"
   },
   {
    "duration": 1540,
    "start_time": "2021-07-27T14:29:29.465Z"
   },
   {
    "duration": 1369,
    "start_time": "2021-07-27T14:29:33.490Z"
   },
   {
    "duration": 1598,
    "start_time": "2021-07-27T14:41:17.549Z"
   },
   {
    "duration": 1592,
    "start_time": "2021-07-27T14:41:20.052Z"
   },
   {
    "duration": 1306,
    "start_time": "2021-07-27T14:41:34.136Z"
   },
   {
    "duration": 1590,
    "start_time": "2021-07-27T14:41:38.025Z"
   },
   {
    "duration": 6262,
    "start_time": "2021-07-27T14:41:57.015Z"
   },
   {
    "duration": 136,
    "start_time": "2021-07-27T14:43:19.026Z"
   },
   {
    "duration": 79,
    "start_time": "2021-07-27T14:43:24.648Z"
   },
   {
    "duration": 77,
    "start_time": "2021-07-27T14:44:03.942Z"
   },
   {
    "duration": 104,
    "start_time": "2021-07-27T14:44:58.950Z"
   },
   {
    "duration": 102,
    "start_time": "2021-07-27T14:46:07.746Z"
   },
   {
    "duration": 117,
    "start_time": "2021-07-27T14:50:07.194Z"
   },
   {
    "duration": 137,
    "start_time": "2021-07-27T14:50:30.853Z"
   },
   {
    "duration": 143,
    "start_time": "2021-07-27T14:50:50.480Z"
   },
   {
    "duration": 135,
    "start_time": "2021-07-27T14:50:55.456Z"
   },
   {
    "duration": 1573,
    "start_time": "2021-07-27T14:51:05.831Z"
   },
   {
    "duration": 136,
    "start_time": "2021-07-27T14:51:09.658Z"
   },
   {
    "duration": 252,
    "start_time": "2021-07-27T14:52:51.273Z"
   },
   {
    "duration": 170,
    "start_time": "2021-07-27T14:55:01.365Z"
   },
   {
    "duration": 1250,
    "start_time": "2021-07-27T14:55:53.097Z"
   },
   {
    "duration": 265,
    "start_time": "2021-07-27T14:55:56.476Z"
   },
   {
    "duration": 264,
    "start_time": "2021-07-27T14:58:30.347Z"
   },
   {
    "duration": 283,
    "start_time": "2021-07-27T14:58:57.460Z"
   },
   {
    "duration": 282,
    "start_time": "2021-07-27T14:59:03.086Z"
   },
   {
    "duration": 301,
    "start_time": "2021-07-27T14:59:56.815Z"
   },
   {
    "duration": 528,
    "start_time": "2021-07-27T15:00:48.589Z"
   },
   {
    "duration": 377,
    "start_time": "2021-07-27T15:00:51.447Z"
   },
   {
    "duration": 294,
    "start_time": "2021-07-27T15:01:05.100Z"
   },
   {
    "duration": 762,
    "start_time": "2021-07-27T15:02:31.898Z"
   },
   {
    "duration": 954,
    "start_time": "2021-07-27T15:24:19.901Z"
   },
   {
    "duration": 68,
    "start_time": "2021-07-28T07:21:22.048Z"
   },
   {
    "duration": 2662,
    "start_time": "2021-07-28T07:21:29.072Z"
   },
   {
    "duration": 346,
    "start_time": "2021-07-28T07:21:34.549Z"
   },
   {
    "duration": 708,
    "start_time": "2021-07-28T07:21:40.315Z"
   },
   {
    "duration": 883,
    "start_time": "2021-07-28T07:21:47.488Z"
   },
   {
    "duration": 67,
    "start_time": "2021-07-28T07:21:50.820Z"
   },
   {
    "duration": 273,
    "start_time": "2021-07-28T07:22:01.579Z"
   },
   {
    "duration": 25823,
    "start_time": "2021-07-28T07:23:59.863Z"
   },
   {
    "duration": 128,
    "start_time": "2021-07-28T07:25:33.626Z"
   },
   {
    "duration": 25955,
    "start_time": "2021-07-28T07:28:28.837Z"
   },
   {
    "duration": 24095,
    "start_time": "2021-07-28T07:30:36.398Z"
   },
   {
    "duration": 24036,
    "start_time": "2021-07-28T08:05:23.248Z"
   },
   {
    "duration": 25563,
    "start_time": "2021-07-28T08:06:35.725Z"
   },
   {
    "duration": 24582,
    "start_time": "2021-07-28T08:07:13.002Z"
   },
   {
    "duration": 78,
    "start_time": "2021-07-28T08:08:35.087Z"
   },
   {
    "duration": 256,
    "start_time": "2021-07-28T08:08:48.596Z"
   },
   {
    "duration": 75,
    "start_time": "2021-07-28T08:08:59.758Z"
   },
   {
    "duration": 74,
    "start_time": "2021-07-28T08:09:24.678Z"
   },
   {
    "duration": 75,
    "start_time": "2021-07-28T08:09:34.646Z"
   },
   {
    "duration": 117,
    "start_time": "2021-07-28T08:14:09.753Z"
   },
   {
    "duration": 73104,
    "start_time": "2021-07-28T08:14:15.200Z"
   },
   {
    "duration": 74976,
    "start_time": "2021-07-28T08:19:51.647Z"
   },
   {
    "duration": 2445,
    "start_time": "2021-07-28T08:21:18.413Z"
   },
   {
    "duration": 370,
    "start_time": "2021-07-28T08:21:20.860Z"
   },
   {
    "duration": 716,
    "start_time": "2021-07-28T08:21:21.234Z"
   },
   {
    "duration": 1175,
    "start_time": "2021-07-28T08:21:21.952Z"
   },
   {
    "duration": 18563,
    "start_time": "2021-07-28T08:21:23.129Z"
   },
   {
    "duration": 54282,
    "start_time": "2021-07-28T08:21:41.694Z"
   },
   {
    "duration": 2506,
    "start_time": "2021-07-28T08:37:24.296Z"
   },
   {
    "duration": 365,
    "start_time": "2021-07-28T08:37:26.804Z"
   },
   {
    "duration": 734,
    "start_time": "2021-07-28T08:37:27.173Z"
   },
   {
    "duration": 1154,
    "start_time": "2021-07-28T08:37:27.908Z"
   },
   {
    "duration": 19327,
    "start_time": "2021-07-28T08:37:29.063Z"
   },
   {
    "duration": 344042,
    "start_time": "2021-07-28T08:37:48.392Z"
   },
   {
    "duration": 462384,
    "start_time": "2021-07-28T08:44:04.610Z"
   },
   {
    "duration": 2389,
    "start_time": "2021-07-28T08:56:38.481Z"
   },
   {
    "duration": 347,
    "start_time": "2021-07-28T08:56:44.689Z"
   },
   {
    "duration": 665,
    "start_time": "2021-07-28T08:56:47.103Z"
   },
   {
    "duration": 1143,
    "start_time": "2021-07-28T08:56:49.348Z"
   },
   {
    "duration": 17593,
    "start_time": "2021-07-28T08:56:51.800Z"
   },
   {
    "duration": 2453,
    "start_time": "2021-07-28T09:02:41.832Z"
   },
   {
    "duration": 376,
    "start_time": "2021-07-28T09:02:44.287Z"
   },
   {
    "duration": 729,
    "start_time": "2021-07-28T09:02:44.667Z"
   },
   {
    "duration": 1165,
    "start_time": "2021-07-28T09:02:45.398Z"
   },
   {
    "duration": 17925,
    "start_time": "2021-07-28T09:02:46.565Z"
   },
   {
    "duration": 954600,
    "start_time": "2021-07-28T09:03:04.493Z"
   },
   {
    "duration": 2715,
    "start_time": "2021-07-28T11:12:47.433Z"
   },
   {
    "duration": 346,
    "start_time": "2021-07-28T11:12:58.034Z"
   },
   {
    "duration": 741,
    "start_time": "2021-07-28T11:13:07.845Z"
   },
   {
    "duration": 1163,
    "start_time": "2021-07-28T11:13:15.509Z"
   },
   {
    "duration": 17843,
    "start_time": "2021-07-28T11:13:18.844Z"
   },
   {
    "duration": 1058749,
    "start_time": "2021-07-28T11:14:20.786Z"
   },
   {
    "duration": 1090916,
    "start_time": "2021-07-28T11:32:27.624Z"
   },
   {
    "duration": 1488,
    "start_time": "2021-07-28T11:51:31.635Z"
   },
   {
    "duration": 263,
    "start_time": "2021-07-28T11:57:36.153Z"
   },
   {
    "duration": 24380,
    "start_time": "2021-07-28T11:58:33.687Z"
   },
   {
    "duration": 24683,
    "start_time": "2021-07-28T12:00:42.148Z"
   },
   {
    "duration": 488812,
    "start_time": "2021-07-28T12:03:19.793Z"
   },
   {
    "duration": 93522,
    "start_time": "2021-07-28T12:14:44.185Z"
   },
   {
    "duration": 494668,
    "start_time": "2021-07-28T12:17:08.117Z"
   },
   {
    "duration": 3030,
    "start_time": "2021-07-28T12:32:35.484Z"
   },
   {
    "duration": 396,
    "start_time": "2021-07-28T12:32:40.808Z"
   },
   {
    "duration": 825,
    "start_time": "2021-07-28T12:32:44.425Z"
   },
   {
    "duration": 1374,
    "start_time": "2021-07-28T12:32:47.742Z"
   },
   {
    "duration": 22832,
    "start_time": "2021-07-28T12:32:52.660Z"
   },
   {
    "duration": 795218,
    "start_time": "2021-07-28T12:33:32.079Z"
   },
   {
    "duration": 66,
    "start_time": "2021-07-28T13:16:04.614Z"
   },
   {
    "duration": 240,
    "start_time": "2021-07-28T13:16:29.856Z"
   },
   {
    "duration": 2708,
    "start_time": "2021-07-28T13:16:55.824Z"
   },
   {
    "duration": 355,
    "start_time": "2021-07-28T13:17:00.641Z"
   },
   {
    "duration": 757,
    "start_time": "2021-07-28T13:17:02.685Z"
   },
   {
    "duration": 1169,
    "start_time": "2021-07-28T13:17:06.401Z"
   },
   {
    "duration": 244,
    "start_time": "2021-07-28T13:17:30.038Z"
   },
   {
    "duration": 197,
    "start_time": "2021-07-28T13:17:55.933Z"
   },
   {
    "duration": 202,
    "start_time": "2021-07-28T13:18:09.537Z"
   },
   {
    "duration": 125,
    "start_time": "2021-07-28T13:18:32.317Z"
   },
   {
    "duration": -1921,
    "start_time": "2021-07-28T13:19:30.672Z"
   },
   {
    "duration": 97926,
    "start_time": "2021-07-28T13:19:32.938Z"
   },
   {
    "duration": 566074,
    "start_time": "2021-07-28T13:21:47.221Z"
   },
   {
    "duration": 185,
    "start_time": "2021-07-28T13:36:10.706Z"
   },
   {
    "duration": 212,
    "start_time": "2021-07-28T13:36:30.535Z"
   },
   {
    "duration": 486726,
    "start_time": "2021-07-28T13:36:33.267Z"
   },
   {
    "duration": 281641,
    "start_time": "2021-07-28T13:45:22.953Z"
   },
   {
    "duration": 285397,
    "start_time": "2021-07-28T13:50:26.294Z"
   },
   {
    "duration": 85831,
    "start_time": "2021-07-28T13:56:04.790Z"
   },
   {
    "duration": 215,
    "start_time": "2021-07-28T14:00:31.245Z"
   },
   {
    "duration": 2688,
    "start_time": "2021-07-28T14:00:41.757Z"
   },
   {
    "duration": 353,
    "start_time": "2021-07-28T14:00:46.790Z"
   },
   {
    "duration": 729,
    "start_time": "2021-07-28T14:00:49.205Z"
   },
   {
    "duration": 1145,
    "start_time": "2021-07-28T14:00:51.802Z"
   },
   {
    "duration": 192,
    "start_time": "2021-07-28T14:01:26.768Z"
   },
   {
    "duration": 154242,
    "start_time": "2021-07-28T14:01:47.163Z"
   },
   {
    "duration": 154856,
    "start_time": "2021-07-28T14:04:35.044Z"
   },
   {
    "duration": 149862,
    "start_time": "2021-07-28T14:07:36.438Z"
   },
   {
    "duration": 176742,
    "start_time": "2021-07-28T14:10:30.850Z"
   },
   {
    "duration": -1915,
    "start_time": "2021-07-28T14:15:03.241Z"
   },
   {
    "duration": 12544,
    "start_time": "2021-07-28T14:15:04.657Z"
   },
   {
    "duration": 38773,
    "start_time": "2021-07-28T14:15:33.160Z"
   },
   {
    "duration": 11589,
    "start_time": "2021-07-28T14:16:13.434Z"
   },
   {
    "duration": 272450,
    "start_time": "2021-07-28T14:16:26.150Z"
   },
   {
    "duration": 229,
    "start_time": "2021-07-28T14:21:53.676Z"
   },
   {
    "duration": 255,
    "start_time": "2021-07-28T14:28:39.022Z"
   },
   {
    "duration": 24346,
    "start_time": "2021-07-28T14:29:43.454Z"
   },
   {
    "duration": 9832,
    "start_time": "2021-07-28T14:30:43.673Z"
   },
   {
    "duration": 1564,
    "start_time": "2021-07-28T14:37:35.085Z"
   },
   {
    "duration": 11049,
    "start_time": "2021-07-28T14:37:48.551Z"
   },
   {
    "duration": 181486,
    "start_time": "2021-07-28T14:38:44.900Z"
   },
   {
    "duration": 258912,
    "start_time": "2021-07-28T14:42:24.100Z"
   },
   {
    "duration": 363029,
    "start_time": "2021-07-28T14:47:21.459Z"
   },
   {
    "duration": 530194,
    "start_time": "2021-07-28T14:53:31.999Z"
   },
   {
    "duration": 201,
    "start_time": "2021-07-28T15:02:22.195Z"
   },
   {
    "duration": 53268,
    "start_time": "2021-07-28T15:02:48.817Z"
   },
   {
    "duration": 221,
    "start_time": "2021-07-28T15:05:30.218Z"
   },
   {
    "duration": 202,
    "start_time": "2021-07-28T15:05:36.889Z"
   },
   {
    "duration": 188,
    "start_time": "2021-07-28T15:08:09.975Z"
   },
   {
    "duration": 187,
    "start_time": "2021-07-28T15:08:27.841Z"
   },
   {
    "duration": 12,
    "start_time": "2021-07-28T15:18:02.551Z"
   },
   {
    "duration": 8,
    "start_time": "2021-07-28T15:18:16.270Z"
   },
   {
    "duration": 9,
    "start_time": "2021-07-28T15:18:34.875Z"
   },
   {
    "duration": 8,
    "start_time": "2021-07-28T15:18:37.405Z"
   },
   {
    "duration": 7,
    "start_time": "2021-07-28T15:18:40.291Z"
   },
   {
    "duration": 6,
    "start_time": "2021-07-28T15:18:48.600Z"
   },
   {
    "duration": 7,
    "start_time": "2021-07-28T15:18:50.779Z"
   },
   {
    "duration": 7,
    "start_time": "2021-07-28T15:20:27.128Z"
   },
   {
    "duration": 7,
    "start_time": "2021-07-28T15:20:35.915Z"
   },
   {
    "duration": 1521,
    "start_time": "2021-07-29T10:03:59.096Z"
   },
   {
    "duration": 10706,
    "start_time": "2021-07-29T10:04:02.496Z"
   },
   {
    "duration": 512,
    "start_time": "2021-07-29T10:04:27.903Z"
   },
   {
    "duration": 1442,
    "start_time": "2021-07-29T10:04:33.770Z"
   },
   {
    "duration": 469,
    "start_time": "2021-07-29T10:06:17.823Z"
   },
   {
    "duration": 8,
    "start_time": "2021-07-29T10:11:58.172Z"
   },
   {
    "duration": 1040,
    "start_time": "2021-07-29T10:12:11.836Z"
   },
   {
    "duration": 7,
    "start_time": "2021-07-29T10:12:18.877Z"
   },
   {
    "duration": 339,
    "start_time": "2021-07-29T10:12:48.759Z"
   },
   {
    "duration": 21,
    "start_time": "2021-07-29T10:12:56.315Z"
   },
   {
    "duration": 41,
    "start_time": "2021-07-29T10:13:37.550Z"
   },
   {
    "duration": 24,
    "start_time": "2021-07-29T10:13:45.811Z"
   },
   {
    "duration": 26,
    "start_time": "2021-07-29T10:13:51.181Z"
   },
   {
    "duration": 25,
    "start_time": "2021-07-29T10:13:54.218Z"
   },
   {
    "duration": 23,
    "start_time": "2021-07-29T10:14:08.463Z"
   },
   {
    "duration": 27,
    "start_time": "2021-07-29T10:14:55.205Z"
   },
   {
    "duration": 132,
    "start_time": "2021-07-29T10:16:27.345Z"
   },
   {
    "duration": 88,
    "start_time": "2021-07-29T10:16:51.382Z"
   },
   {
    "duration": 80,
    "start_time": "2021-07-29T10:17:04.222Z"
   },
   {
    "duration": 8,
    "start_time": "2021-07-29T10:18:29.275Z"
   },
   {
    "duration": 24,
    "start_time": "2021-07-29T10:19:49.988Z"
   },
   {
    "duration": 373,
    "start_time": "2021-07-29T10:20:15.094Z"
   },
   {
    "duration": 399,
    "start_time": "2021-07-29T10:20:18.399Z"
   },
   {
    "duration": 281,
    "start_time": "2021-07-29T10:20:31.008Z"
   },
   {
    "duration": 9684,
    "start_time": "2021-07-29T10:21:33.199Z"
   },
   {
    "duration": 453,
    "start_time": "2021-07-29T10:21:44.068Z"
   },
   {
    "duration": 449,
    "start_time": "2021-07-29T10:22:07.350Z"
   },
   {
    "duration": 437,
    "start_time": "2021-07-29T10:23:09.545Z"
   },
   {
    "duration": 351,
    "start_time": "2021-07-29T10:23:27.823Z"
   },
   {
    "duration": 398,
    "start_time": "2021-07-29T10:24:42.823Z"
   },
   {
    "duration": 475,
    "start_time": "2021-07-29T10:25:04.554Z"
   },
   {
    "duration": 481,
    "start_time": "2021-07-29T10:25:44.072Z"
   },
   {
    "duration": 472,
    "start_time": "2021-07-29T10:27:21.704Z"
   },
   {
    "duration": 454,
    "start_time": "2021-07-29T10:28:00.910Z"
   },
   {
    "duration": 505,
    "start_time": "2021-07-29T10:29:11.401Z"
   },
   {
    "duration": 9,
    "start_time": "2021-07-29T10:30:02.484Z"
   },
   {
    "duration": 6,
    "start_time": "2021-07-29T10:30:10.041Z"
   },
   {
    "duration": 20,
    "start_time": "2021-07-29T10:30:13.487Z"
   },
   {
    "duration": 291,
    "start_time": "2021-07-29T10:30:49.201Z"
   },
   {
    "duration": 310,
    "start_time": "2021-07-29T10:31:26.091Z"
   },
   {
    "duration": 322,
    "start_time": "2021-07-29T10:31:53.698Z"
   },
   {
    "duration": 308,
    "start_time": "2021-07-29T10:32:18.680Z"
   },
   {
    "duration": 309,
    "start_time": "2021-07-29T10:32:25.464Z"
   },
   {
    "duration": 341,
    "start_time": "2021-07-29T10:32:55.293Z"
   },
   {
    "duration": 7,
    "start_time": "2021-07-29T10:33:40.739Z"
   },
   {
    "duration": 3550,
    "start_time": "2021-07-29T10:33:44.244Z"
   },
   {
    "duration": 595,
    "start_time": "2021-07-29T10:33:52.280Z"
   },
   {
    "duration": 75,
    "start_time": "2021-07-29T10:33:55.646Z"
   },
   {
    "duration": 382,
    "start_time": "2021-07-29T10:33:59.817Z"
   },
   {
    "duration": 355,
    "start_time": "2021-07-29T10:34:03.084Z"
   },
   {
    "duration": 1140,
    "start_time": "2021-07-29T10:34:08.674Z"
   },
   {
    "duration": 1504,
    "start_time": "2021-07-29T10:34:34.757Z"
   },
   {
    "duration": 1202,
    "start_time": "2021-07-29T12:52:39.386Z"
   },
   {
    "duration": 28420,
    "start_time": "2021-07-29T12:53:46.792Z"
   },
   {
    "duration": 18287,
    "start_time": "2021-07-29T12:58:34.488Z"
   },
   {
    "duration": 215,
    "start_time": "2021-07-29T12:59:34.552Z"
   },
   {
    "duration": 6,
    "start_time": "2021-07-29T12:59:45.928Z"
   },
   {
    "duration": 5,
    "start_time": "2021-07-29T13:01:26.444Z"
   },
   {
    "duration": 67737,
    "start_time": "2021-07-29T13:01:34.135Z"
   },
   {
    "duration": 439,
    "start_time": "2021-07-29T13:03:13.871Z"
   },
   {
    "duration": 5,
    "start_time": "2021-07-29T13:03:21.339Z"
   },
   {
    "duration": 373910,
    "start_time": "2021-07-29T13:04:06.374Z"
   },
   {
    "duration": 199890,
    "start_time": "2021-07-29T13:11:35.082Z"
   },
   {
    "duration": 147453,
    "start_time": "2021-07-29T13:15:47.294Z"
   },
   {
    "duration": 760369,
    "start_time": "2021-07-29T13:18:36.674Z"
   },
   {
    "duration": 436,
    "start_time": "2021-07-29T13:45:28.982Z"
   },
   {
    "duration": 1751,
    "start_time": "2021-07-29T13:45:55.820Z"
   },
   {
    "duration": 2235,
    "start_time": "2021-07-29T13:45:58.112Z"
   },
   {
    "duration": 542,
    "start_time": "2021-07-29T13:46:02.820Z"
   },
   {
    "duration": 88,
    "start_time": "2021-07-29T13:46:06.672Z"
   },
   {
    "duration": 364,
    "start_time": "2021-07-29T13:46:11.447Z"
   },
   {
    "duration": 1325,
    "start_time": "2021-07-29T13:46:19.577Z"
   },
   {
    "duration": 30377,
    "start_time": "2021-07-29T13:46:24.487Z"
   },
   {
    "duration": 67710,
    "start_time": "2021-07-29T13:46:54.867Z"
   },
   {
    "duration": 633,
    "start_time": "2021-07-29T13:48:14.232Z"
   },
   {
    "duration": 6,
    "start_time": "2021-07-29T13:48:16.290Z"
   },
   {
    "duration": 1541454,
    "start_time": "2021-07-29T13:49:30.108Z"
   },
   {
    "duration": 273,
    "start_time": "2021-07-29T14:41:32.714Z"
   },
   {
    "duration": 1602,
    "start_time": "2021-07-29T14:41:47.384Z"
   },
   {
    "duration": 2405,
    "start_time": "2021-07-29T14:41:49.029Z"
   },
   {
    "duration": 574,
    "start_time": "2021-07-29T14:41:54.945Z"
   },
   {
    "duration": 93,
    "start_time": "2021-07-29T14:41:58.152Z"
   },
   {
    "duration": 376,
    "start_time": "2021-07-29T14:42:02.095Z"
   },
   {
    "duration": 1388,
    "start_time": "2021-07-29T14:42:05.333Z"
   },
   {
    "duration": 28355,
    "start_time": "2021-07-29T14:42:10.558Z"
   },
   {
    "duration": 1381967,
    "start_time": "2021-07-29T14:42:38.915Z"
   },
   {
    "duration": 332,
    "start_time": "2021-07-29T15:07:15.100Z"
   },
   {
    "duration": 1551,
    "start_time": "2021-07-29T15:09:14.238Z"
   },
   {
    "duration": 2181,
    "start_time": "2021-07-29T15:09:16.883Z"
   },
   {
    "duration": 519,
    "start_time": "2021-07-29T15:09:22.486Z"
   },
   {
    "duration": 97,
    "start_time": "2021-07-29T15:09:25.644Z"
   },
   {
    "duration": 395,
    "start_time": "2021-07-29T15:09:31.792Z"
   },
   {
    "duration": 375,
    "start_time": "2021-07-29T15:09:35.905Z"
   },
   {
    "duration": 1157,
    "start_time": "2021-07-29T15:09:38.497Z"
   },
   {
    "duration": 37655,
    "start_time": "2021-07-29T15:09:43.180Z"
   },
   {
    "duration": 1048136,
    "start_time": "2021-07-29T15:11:28.507Z"
   },
   {
    "duration": 9838,
    "start_time": "2021-07-29T15:29:52.858Z"
   },
   {
    "duration": 8,
    "start_time": "2021-07-29T15:30:14.687Z"
   },
   {
    "duration": 934,
    "start_time": "2021-07-29T15:31:22.551Z"
   },
   {
    "duration": 348,
    "start_time": "2021-07-29T15:33:24.767Z"
   },
   {
    "duration": 595,
    "start_time": "2021-07-29T15:35:51.356Z"
   },
   {
    "duration": 604,
    "start_time": "2021-07-29T15:36:20.344Z"
   },
   {
    "duration": 7072,
    "start_time": "2021-07-29T15:37:42.986Z"
   },
   {
    "duration": 7,
    "start_time": "2021-07-29T15:39:09.590Z"
   },
   {
    "duration": 1964,
    "start_time": "2021-07-29T15:39:13.882Z"
   },
   {
    "duration": 450,
    "start_time": "2021-07-29T15:39:18.906Z"
   },
   {
    "duration": 75,
    "start_time": "2021-07-29T15:39:23.352Z"
   },
   {
    "duration": 354,
    "start_time": "2021-07-29T15:39:28.106Z"
   },
   {
    "duration": 1293,
    "start_time": "2021-07-29T15:39:30.786Z"
   },
   {
    "duration": 1541,
    "start_time": "2021-07-29T15:40:03.077Z"
   },
   {
    "duration": 2141,
    "start_time": "2021-07-29T15:40:07.959Z"
   },
   {
    "duration": 513,
    "start_time": "2021-07-29T15:40:13.086Z"
   },
   {
    "duration": 87,
    "start_time": "2021-07-29T15:40:17.243Z"
   },
   {
    "duration": 384,
    "start_time": "2021-07-29T15:40:20.224Z"
   },
   {
    "duration": 342,
    "start_time": "2021-07-29T15:40:23.492Z"
   },
   {
    "duration": 1187,
    "start_time": "2021-07-29T15:40:26.093Z"
   },
   {
    "duration": 26240,
    "start_time": "2021-07-29T15:40:30.601Z"
   },
   {
    "duration": 434,
    "start_time": "2021-07-29T15:41:02.233Z"
   },
   {
    "duration": 940124,
    "start_time": "2021-07-29T15:41:18.059Z"
   },
   {
    "duration": 1712,
    "start_time": "2021-07-29T15:57:24.968Z"
   },
   {
    "duration": 5,
    "start_time": "2021-07-29T15:57:33.792Z"
   },
   {
    "duration": 333,
    "start_time": "2021-07-29T16:04:51.719Z"
   },
   {
    "duration": 15049,
    "start_time": "2021-07-29T16:05:01.431Z"
   },
   {
    "duration": 1532,
    "start_time": "2021-07-29T16:06:09.513Z"
   },
   {
    "duration": 2371,
    "start_time": "2021-07-29T16:06:12.529Z"
   },
   {
    "duration": 559,
    "start_time": "2021-07-29T16:06:20.364Z"
   },
   {
    "duration": 93,
    "start_time": "2021-07-29T16:06:23.252Z"
   },
   {
    "duration": 409,
    "start_time": "2021-07-29T16:06:37.242Z"
   },
   {
    "duration": 376,
    "start_time": "2021-07-29T16:06:41.299Z"
   },
   {
    "duration": 1193,
    "start_time": "2021-07-29T16:06:44.522Z"
   },
   {
    "duration": 28175,
    "start_time": "2021-07-29T16:06:49.051Z"
   },
   {
    "duration": 471,
    "start_time": "2021-07-29T16:07:21.639Z"
   },
   {
    "duration": 324089,
    "start_time": "2021-07-29T16:07:47.573Z"
   },
   {
    "duration": 576,
    "start_time": "2021-07-29T16:13:21.840Z"
   },
   {
    "duration": 4,
    "start_time": "2021-07-29T16:13:32.410Z"
   },
   {
    "duration": 1495,
    "start_time": "2021-07-29T16:18:09.417Z"
   },
   {
    "duration": 2257,
    "start_time": "2021-07-29T16:18:12.583Z"
   },
   {
    "duration": 546,
    "start_time": "2021-07-29T16:18:29.831Z"
   },
   {
    "duration": 89,
    "start_time": "2021-07-29T16:18:37.107Z"
   },
   {
    "duration": 382,
    "start_time": "2021-07-29T16:18:40.465Z"
   },
   {
    "duration": 324,
    "start_time": "2021-07-29T16:18:44.419Z"
   },
   {
    "duration": 1120,
    "start_time": "2021-07-29T16:18:47.065Z"
   },
   {
    "duration": 26762,
    "start_time": "2021-07-29T16:18:57.247Z"
   },
   {
    "duration": 332,
    "start_time": "2021-07-29T16:20:01.543Z"
   },
   {
    "duration": 26937,
    "start_time": "2021-07-29T16:20:05.854Z"
   },
   {
    "duration": 324121,
    "start_time": "2021-07-29T16:20:36.192Z"
   },
   {
    "duration": 1490,
    "start_time": "2021-07-29T16:26:30.575Z"
   },
   {
    "duration": 5,
    "start_time": "2021-07-29T16:26:38.191Z"
   },
   {
    "duration": 968781,
    "start_time": "2021-07-29T16:27:51.616Z"
   },
   {
    "duration": 6939,
    "start_time": "2021-07-29T16:44:31.947Z"
   },
   {
    "duration": 4,
    "start_time": "2021-07-29T16:44:44.243Z"
   },
   {
    "duration": 7,
    "start_time": "2021-07-29T16:53:11.446Z"
   },
   {
    "duration": 10,
    "start_time": "2021-07-29T16:53:14.548Z"
   }
  ],
  "kernelspec": {
   "display_name": "Python 3 (ipykernel)",
   "language": "python",
   "name": "python3"
  },
  "language_info": {
   "codemirror_mode": {
    "name": "ipython",
    "version": 3
   },
   "file_extension": ".py",
   "mimetype": "text/x-python",
   "name": "python",
   "nbconvert_exporter": "python",
   "pygments_lexer": "ipython3",
   "version": "3.9.13"
  },
  "toc": {
   "base_numbering": 1,
   "nav_menu": {},
   "number_sections": true,
   "sideBar": true,
   "skip_h1_title": true,
   "title_cell": "Table of Contents",
   "title_sidebar": "Contents",
   "toc_cell": false,
   "toc_position": {},
   "toc_section_display": true,
   "toc_window_display": false
  }
 },
 "nbformat": 4,
 "nbformat_minor": 2
}
